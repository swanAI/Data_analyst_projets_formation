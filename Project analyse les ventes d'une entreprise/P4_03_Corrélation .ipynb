{
 "cells": [
  {
   "cell_type": "code",
   "execution_count": 202,
   "metadata": {},
   "outputs": [
    {
     "data": {
      "text/html": [
       "<style>.container { width:100% !important; }</style>"
      ],
      "text/plain": [
       "<IPython.core.display.HTML object>"
      ]
     },
     "metadata": {},
     "output_type": "display_data"
    }
   ],
   "source": [
    "import pandas as pd\n",
    "import numpy as np\n",
    "import matplotlib.pyplot as plt\n",
    "import seaborn as sns \n",
    "from scipy import stats\n",
    "from scipy.stats import chi2_contingency\n",
    "from scipy.stats import shapiro\n",
    "from scipy.stats import pearsonr\n",
    "from scipy.stats import f_oneway\n",
    "from statsmodels.graphics.gofplots import qqplot\n",
    "from matplotlib import pyplot\n",
    "import pingouin as pg\n",
    "from IPython.core.display import display, HTML\n",
    "display(HTML(\"<style>.container { width:100% !important; }</style>\"))\n",
    "import statsmodels.formula.api as smf\n",
    "import statsmodels.api as sm\n",
    "from statsmodels.formula.api import ols"
   ]
  },
  {
   "cell_type": "markdown",
   "metadata": {},
   "source": [
    "# Mission n° 3"
   ]
  },
  {
   "cell_type": "markdown",
   "metadata": {},
   "source": [
    "### Y a-t-il une corrélation entre le sexe des clients et les catégories de produits achetés ?\n",
    "### sexe= qualitative , catégorie produit= qualitative"
   ]
  },
  {
   "cell_type": "code",
   "execution_count": 203,
   "metadata": {},
   "outputs": [],
   "source": [
    "# Télécharger les tables avec et sans outliers atypiques ('c_1609', 'c_4958', 'c_6714', 'c_3454')\n",
    "data_final1 = pd.read_csv('data_final1.csv') #(avec outliers)\n",
    "data_final2 = pd.read_csv('data_final2.csv') #(sans outliers)"
   ]
  },
  {
   "cell_type": "code",
   "execution_count": 204,
   "metadata": {},
   "outputs": [
    {
     "data": {
      "text/html": [
       "<div>\n",
       "<style scoped>\n",
       "    .dataframe tbody tr th:only-of-type {\n",
       "        vertical-align: middle;\n",
       "    }\n",
       "\n",
       "    .dataframe tbody tr th {\n",
       "        vertical-align: top;\n",
       "    }\n",
       "\n",
       "    .dataframe thead th {\n",
       "        text-align: right;\n",
       "    }\n",
       "</style>\n",
       "<table border=\"1\" class=\"dataframe\">\n",
       "  <thead>\n",
       "    <tr style=\"text-align: right;\">\n",
       "      <th></th>\n",
       "      <th>id_prod</th>\n",
       "      <th>session_id</th>\n",
       "      <th>client_id</th>\n",
       "      <th>date</th>\n",
       "      <th>datetime</th>\n",
       "      <th>heure</th>\n",
       "      <th>annee</th>\n",
       "      <th>mois</th>\n",
       "      <th>jour</th>\n",
       "      <th>jour_semaine</th>\n",
       "      <th>price</th>\n",
       "      <th>categ</th>\n",
       "      <th>categ_object</th>\n",
       "      <th>sex</th>\n",
       "      <th>birth</th>\n",
       "      <th>sex_binaire</th>\n",
       "      <th>age</th>\n",
       "      <th>mois_object</th>\n",
       "      <th>tranche_age</th>\n",
       "    </tr>\n",
       "  </thead>\n",
       "  <tbody>\n",
       "    <tr>\n",
       "      <th>0</th>\n",
       "      <td>0_1483</td>\n",
       "      <td>s_18746</td>\n",
       "      <td>c_4450</td>\n",
       "      <td>2021-04-10 18:37:28</td>\n",
       "      <td>2021-04-10 00:00:00</td>\n",
       "      <td>18</td>\n",
       "      <td>2021</td>\n",
       "      <td>4</td>\n",
       "      <td>10</td>\n",
       "      <td>samedi</td>\n",
       "      <td>4.99</td>\n",
       "      <td>0</td>\n",
       "      <td>categ0</td>\n",
       "      <td>f</td>\n",
       "      <td>1977</td>\n",
       "      <td>0</td>\n",
       "      <td>44</td>\n",
       "      <td>avril</td>\n",
       "      <td>30-50 ans</td>\n",
       "    </tr>\n",
       "    <tr>\n",
       "      <th>1</th>\n",
       "      <td>2_226</td>\n",
       "      <td>s_159142</td>\n",
       "      <td>c_277</td>\n",
       "      <td>2022-02-03 01:55:53</td>\n",
       "      <td>2022-02-03 00:00:00</td>\n",
       "      <td>1</td>\n",
       "      <td>2022</td>\n",
       "      <td>2</td>\n",
       "      <td>3</td>\n",
       "      <td>jeudi</td>\n",
       "      <td>65.75</td>\n",
       "      <td>2</td>\n",
       "      <td>categ2</td>\n",
       "      <td>f</td>\n",
       "      <td>2000</td>\n",
       "      <td>0</td>\n",
       "      <td>22</td>\n",
       "      <td>février</td>\n",
       "      <td>17-30 ans</td>\n",
       "    </tr>\n",
       "    <tr>\n",
       "      <th>2</th>\n",
       "      <td>1_374</td>\n",
       "      <td>s_94290</td>\n",
       "      <td>c_4270</td>\n",
       "      <td>2021-09-23 15:13:46</td>\n",
       "      <td>2021-09-23 00:00:00</td>\n",
       "      <td>15</td>\n",
       "      <td>2021</td>\n",
       "      <td>9</td>\n",
       "      <td>23</td>\n",
       "      <td>jeudi</td>\n",
       "      <td>10.71</td>\n",
       "      <td>1</td>\n",
       "      <td>categ1</td>\n",
       "      <td>f</td>\n",
       "      <td>1979</td>\n",
       "      <td>0</td>\n",
       "      <td>42</td>\n",
       "      <td>septembre</td>\n",
       "      <td>30-50 ans</td>\n",
       "    </tr>\n",
       "    <tr>\n",
       "      <th>3</th>\n",
       "      <td>0_2186</td>\n",
       "      <td>s_105936</td>\n",
       "      <td>c_4597</td>\n",
       "      <td>2021-10-17 03:27:18</td>\n",
       "      <td>2021-10-17 00:00:00</td>\n",
       "      <td>3</td>\n",
       "      <td>2021</td>\n",
       "      <td>10</td>\n",
       "      <td>17</td>\n",
       "      <td>dimanche</td>\n",
       "      <td>4.20</td>\n",
       "      <td>0</td>\n",
       "      <td>categ0</td>\n",
       "      <td>m</td>\n",
       "      <td>1963</td>\n",
       "      <td>1</td>\n",
       "      <td>58</td>\n",
       "      <td>octobre</td>\n",
       "      <td>50-93ans</td>\n",
       "    </tr>\n",
       "    <tr>\n",
       "      <th>4</th>\n",
       "      <td>0_1351</td>\n",
       "      <td>s_63642</td>\n",
       "      <td>c_1242</td>\n",
       "      <td>2021-07-17 20:34:25</td>\n",
       "      <td>2021-07-17 00:00:00</td>\n",
       "      <td>20</td>\n",
       "      <td>2021</td>\n",
       "      <td>7</td>\n",
       "      <td>17</td>\n",
       "      <td>samedi</td>\n",
       "      <td>8.99</td>\n",
       "      <td>0</td>\n",
       "      <td>categ0</td>\n",
       "      <td>f</td>\n",
       "      <td>1980</td>\n",
       "      <td>0</td>\n",
       "      <td>41</td>\n",
       "      <td>juillet</td>\n",
       "      <td>30-50 ans</td>\n",
       "    </tr>\n",
       "  </tbody>\n",
       "</table>\n",
       "</div>"
      ],
      "text/plain": [
       "  id_prod session_id client_id                 date             datetime  \\\n",
       "0  0_1483    s_18746    c_4450  2021-04-10 18:37:28  2021-04-10 00:00:00   \n",
       "1   2_226   s_159142     c_277  2022-02-03 01:55:53  2022-02-03 00:00:00   \n",
       "2   1_374    s_94290    c_4270  2021-09-23 15:13:46  2021-09-23 00:00:00   \n",
       "3  0_2186   s_105936    c_4597  2021-10-17 03:27:18  2021-10-17 00:00:00   \n",
       "4  0_1351    s_63642    c_1242  2021-07-17 20:34:25  2021-07-17 00:00:00   \n",
       "\n",
       "   heure  annee  mois  jour jour_semaine  price  categ categ_object sex  \\\n",
       "0     18   2021     4    10       samedi   4.99      0       categ0   f   \n",
       "1      1   2022     2     3        jeudi  65.75      2       categ2   f   \n",
       "2     15   2021     9    23        jeudi  10.71      1       categ1   f   \n",
       "3      3   2021    10    17     dimanche   4.20      0       categ0   m   \n",
       "4     20   2021     7    17       samedi   8.99      0       categ0   f   \n",
       "\n",
       "   birth  sex_binaire  age mois_object tranche_age  \n",
       "0   1977            0   44       avril  30-50 ans   \n",
       "1   2000            0   22     février  17-30 ans   \n",
       "2   1979            0   42   septembre  30-50 ans   \n",
       "3   1963            1   58     octobre    50-93ans  \n",
       "4   1980            0   41     juillet  30-50 ans   "
      ]
     },
     "execution_count": 204,
     "metadata": {},
     "output_type": "execute_result"
    }
   ],
   "source": [
    "data_final1.head()"
   ]
  },
  {
   "cell_type": "code",
   "execution_count": 205,
   "metadata": {},
   "outputs": [
    {
     "data": {
      "text/html": [
       "<div>\n",
       "<style scoped>\n",
       "    .dataframe tbody tr th:only-of-type {\n",
       "        vertical-align: middle;\n",
       "    }\n",
       "\n",
       "    .dataframe tbody tr th {\n",
       "        vertical-align: top;\n",
       "    }\n",
       "\n",
       "    .dataframe thead th {\n",
       "        text-align: right;\n",
       "    }\n",
       "</style>\n",
       "<table border=\"1\" class=\"dataframe\">\n",
       "  <thead>\n",
       "    <tr style=\"text-align: right;\">\n",
       "      <th>categ_object</th>\n",
       "      <th>categ0</th>\n",
       "      <th>categ1</th>\n",
       "      <th>categ2</th>\n",
       "      <th>All</th>\n",
       "    </tr>\n",
       "    <tr>\n",
       "      <th>sex</th>\n",
       "      <th></th>\n",
       "      <th></th>\n",
       "      <th></th>\n",
       "      <th></th>\n",
       "    </tr>\n",
       "  </thead>\n",
       "  <tbody>\n",
       "    <tr>\n",
       "      <th>f</th>\n",
       "      <td>103786</td>\n",
       "      <td>55469</td>\n",
       "      <td>8260</td>\n",
       "      <td>167515</td>\n",
       "    </tr>\n",
       "    <tr>\n",
       "      <th>m</th>\n",
       "      <td>105640</td>\n",
       "      <td>54266</td>\n",
       "      <td>9292</td>\n",
       "      <td>169198</td>\n",
       "    </tr>\n",
       "    <tr>\n",
       "      <th>All</th>\n",
       "      <td>209426</td>\n",
       "      <td>109735</td>\n",
       "      <td>17552</td>\n",
       "      <td>336713</td>\n",
       "    </tr>\n",
       "  </tbody>\n",
       "</table>\n",
       "</div>"
      ],
      "text/plain": [
       "categ_object  categ0  categ1  categ2     All\n",
       "sex                                         \n",
       "f             103786   55469    8260  167515\n",
       "m             105640   54266    9292  169198\n",
       "All           209426  109735   17552  336713"
      ]
     },
     "execution_count": 205,
     "metadata": {},
     "output_type": "execute_result"
    }
   ],
   "source": [
    "# Le tableau contingence \n",
    "objects1 = data_final1[['sex', 'categ_object']]\n",
    "objects2 = pd.crosstab(objects1['sex'], objects1['categ_object'], margins=True)\n",
    "objects2"
   ]
  },
  {
   "cell_type": "code",
   "execution_count": 206,
   "metadata": {},
   "outputs": [
    {
     "data": {
      "text/plain": [
       "Text(0.5, 1.0, 'La heatmap du tableau de contingence')"
      ]
     },
     "execution_count": 206,
     "metadata": {},
     "output_type": "execute_result"
    },
    {
     "data": {
      "image/png": "[encoded data removed]",
      "text/plain": [
       "<Figure size 432x288 with 2 Axes>"
      ]
     },
     "metadata": {
      "needs_background": "light"
     },
     "output_type": "display_data"
    }
   ],
   "source": [
    "#La heatmap du tableau contingence\n",
    "sns.heatmap(objects2,annot=True, cmap='coolwarm')\n",
    "plt.title('La heatmap du tableau de contingence', size=15)"
   ]
  },
  {
   "cell_type": "code",
   "execution_count": 207,
   "metadata": {},
   "outputs": [
    {
     "data": {
      "image/png": "[encoded data removed]",
      "text/plain": [
       "<Figure size 432x288 with 2 Axes>"
      ]
     },
     "metadata": {
      "needs_background": "light"
     },
     "output_type": "display_data"
    },
    {
     "name": "stdout",
     "output_type": "stream",
     "text": [
      "81.86933350990711\n"
     ]
    }
   ],
   "source": [
    "#Le xi_n est de 81.86933350990711 (plus ξn est grand, moins l'hypothèse d'indépendance est valide.)\n",
    "\n",
    "tx = objects2.loc[:,[\"All\"]]# colonne ALL\n",
    "ty = objects2.loc[[\"All\"],:] # ligne ALL        \n",
    "n = len(data_final1)# nbre lignes data_final1\n",
    "indep = tx.dot(ty) / n  # produits scalaire entre tx et ty /n \n",
    "c = objects2.fillna(0) # On remplace les valeurs nulles par 0\n",
    "measure = (c-indep)**2/indep  #contient tous les ξij pour chaque case du tableau. On peut ensuite calculer les contributions (que nous avons définies plus haut) en divisant chaque ξij par ξn (placé dans la variable xi_n  ). On fait ceci en ligne 11 par  measure/xi_n  \n",
    "                              #. On obtient ainsi pour chaque case une valeur comprise entre 0 et 1\n",
    "xi_n = measure.sum().sum()\n",
    "table = measure/xi_n\n",
    "sns.heatmap(table.iloc[:-1,:-1],annot=True, cmap='coolwarm')\n",
    "plt.title('La heatmap avec le xi_n', size=15)\n",
    "plt.show()\n",
    "print(xi_n)"
   ]
  },
  {
   "cell_type": "code",
   "execution_count": 208,
   "metadata": {},
   "outputs": [
    {
     "data": {
      "image/png": "[encoded data removed]",
      "text/plain": [
       "<Figure size 432x288 with 1 Axes>"
      ]
     },
     "metadata": {
      "needs_background": "light"
     },
     "output_type": "display_data"
    }
   ],
   "source": [
    "objects2.plot.bar()\n",
    "plt.title(\"Les categories de produits selon le sex des clients\", size=20)\n",
    "plt.grid(True)"
   ]
  },
  {
   "cell_type": "code",
   "execution_count": 209,
   "metadata": {},
   "outputs": [
    {
     "name": "stdout",
     "output_type": "stream",
     "text": [
      "stat=81.869, p=0.000\n",
      "Probablement dépendant\n",
      "Conclusion: Il y a une corrélation entre le sex et la catégorie des produits achetés\n"
     ]
    }
   ],
   "source": [
    "#Teste si deux variables catégorielles sont liées ou indépendantes\n",
    "\n",
    "#H0: les deux échantillons sont indépendants.\n",
    "#H1: il existe une dépendance entre les échantillons.\n",
    "\n",
    "from scipy.stats import chi2_contingency\n",
    "table = objects2\n",
    "stat, p, dof, expected = chi2_contingency(table)\n",
    "print('stat=%.3f, p=%.3f' % (stat, p))\n",
    "if p > 0.05:\n",
    "    print('Probablement independant')\n",
    "else:\n",
    "    print('Probablement dépendant')\n",
    "\n",
    "print(\"Conclusion: Il y a une corrélation entre le sex et la catégorie des produits achetés\")"
   ]
  },
  {
   "cell_type": "markdown",
   "metadata": {},
   "source": [
    "# Y a-t-il une corrélation entre l'âge des clients et :\n",
    "### Le montant total des achats\n",
    "### quantitative et quantitative"
   ]
  },
  {
   "cell_type": "code",
   "execution_count": 210,
   "metadata": {},
   "outputs": [
    {
     "data": {
      "text/html": [
       "<div>\n",
       "<style scoped>\n",
       "    .dataframe tbody tr th:only-of-type {\n",
       "        vertical-align: middle;\n",
       "    }\n",
       "\n",
       "    .dataframe tbody tr th {\n",
       "        vertical-align: top;\n",
       "    }\n",
       "\n",
       "    .dataframe thead th {\n",
       "        text-align: right;\n",
       "    }\n",
       "</style>\n",
       "<table border=\"1\" class=\"dataframe\">\n",
       "  <thead>\n",
       "    <tr style=\"text-align: right;\">\n",
       "      <th></th>\n",
       "      <th>age</th>\n",
       "      <th>montant_total_des_achats</th>\n",
       "    </tr>\n",
       "  </thead>\n",
       "  <tbody>\n",
       "    <tr>\n",
       "      <th>24</th>\n",
       "      <td>41</td>\n",
       "      <td>272355.44</td>\n",
       "    </tr>\n",
       "    <tr>\n",
       "      <th>0</th>\n",
       "      <td>17</td>\n",
       "      <td>240669.91</td>\n",
       "    </tr>\n",
       "    <tr>\n",
       "      <th>5</th>\n",
       "      <td>22</td>\n",
       "      <td>212047.61</td>\n",
       "    </tr>\n",
       "    <tr>\n",
       "      <th>25</th>\n",
       "      <td>42</td>\n",
       "      <td>189860.28</td>\n",
       "    </tr>\n",
       "    <tr>\n",
       "      <th>26</th>\n",
       "      <td>43</td>\n",
       "      <td>159271.34</td>\n",
       "    </tr>\n",
       "  </tbody>\n",
       "</table>\n",
       "</div>"
      ],
      "text/plain": [
       "    age  montant_total_des_achats\n",
       "24   41                 272355.44\n",
       "0    17                 240669.91\n",
       "5    22                 212047.61\n",
       "25   42                 189860.28\n",
       "26   43                 159271.34"
      ]
     },
     "execution_count": 210,
     "metadata": {},
     "output_type": "execute_result"
    }
   ],
   "source": [
    "df = data_final1.groupby('age').sum()[['price']].reset_index().rename(columns={'price':'montant_total_des_achats'})\n",
    "df.sort_values(by='montant_total_des_achats', ascending=False).head()"
   ]
  },
  {
   "cell_type": "code",
   "execution_count": 211,
   "metadata": {},
   "outputs": [
    {
     "data": {
      "text/plain": [
       "Text(0.5, 3000, \"Relation entre montant_total_des_achats en fonction de l'age des clients\")"
      ]
     },
     "execution_count": 211,
     "metadata": {},
     "output_type": "execute_result"
    },
    {
     "data": {
      "image/png": "[encoded data removed]",
      "text/plain": [
       "<Figure size 432x432 with 3 Axes>"
      ]
     },
     "metadata": {
      "needs_background": "light"
     },
     "output_type": "display_data"
    }
   ],
   "source": [
    "# Relation entre montant_total_des_achats en fonction de l'age des clients\n",
    "\n",
    "sns.jointplot(x='age', y='montant_total_des_achats',color='blue', data= df, kind='reg')\n",
    "plt.ylabel('montant total des achats', size=15)\n",
    "plt.xlabel('age', size=15)\n",
    "plt.title(\"Relation entre montant_total_des_achats en fonction de l'age des clients\", y=3000, pad= 90, size=15)\n"
   ]
  },
  {
   "cell_type": "code",
   "execution_count": 212,
   "metadata": {},
   "outputs": [
    {
     "data": {
      "text/html": [
       "<div>\n",
       "<style scoped>\n",
       "    .dataframe tbody tr th:only-of-type {\n",
       "        vertical-align: middle;\n",
       "    }\n",
       "\n",
       "    .dataframe tbody tr th {\n",
       "        vertical-align: top;\n",
       "    }\n",
       "\n",
       "    .dataframe thead th {\n",
       "        text-align: right;\n",
       "    }\n",
       "</style>\n",
       "<table border=\"1\" class=\"dataframe\">\n",
       "  <thead>\n",
       "    <tr style=\"text-align: right;\">\n",
       "      <th></th>\n",
       "      <th>age</th>\n",
       "      <th>montant_total_des_achats</th>\n",
       "    </tr>\n",
       "  </thead>\n",
       "  <tbody>\n",
       "    <tr>\n",
       "      <th>age</th>\n",
       "      <td>1.000000</td>\n",
       "      <td>-0.820558</td>\n",
       "    </tr>\n",
       "    <tr>\n",
       "      <th>montant_total_des_achats</th>\n",
       "      <td>-0.820558</td>\n",
       "      <td>1.000000</td>\n",
       "    </tr>\n",
       "  </tbody>\n",
       "</table>\n",
       "</div>"
      ],
      "text/plain": [
       "                               age  montant_total_des_achats\n",
       "age                       1.000000                 -0.820558\n",
       "montant_total_des_achats -0.820558                  1.000000"
      ]
     },
     "execution_count": 212,
     "metadata": {},
     "output_type": "execute_result"
    }
   ],
   "source": [
    "# Coefficient de corrélation ( force de la relation et le sens )\n",
    "#Les coefficients de corrélation entre 0,10 et 0,29 représentent une petite association, \n",
    "#les coefficients entre 0,30 et 0,49 représentent une association moyenne et les coefficients de 0,50 et\n",
    "#plus représentent une grande association ou relation.(Cohen)\n",
    "df.corr()"
   ]
  },
  {
   "cell_type": "code",
   "execution_count": 213,
   "metadata": {},
   "outputs": [
    {
     "name": "stdout",
     "output_type": "stream",
     "text": [
      "-0.7252221462747778\n",
      "-0.8753877701246121\n"
     ]
    }
   ],
   "source": [
    "print(df['age'].corr(df['montant_total_des_achats'], method='kendall'))\n",
    "print(df['age'].corr(df['montant_total_des_achats'], method='spearman'))"
   ]
  },
  {
   "cell_type": "code",
   "execution_count": 214,
   "metadata": {},
   "outputs": [
    {
     "data": {
      "text/plain": [
       "0.6733158230103221"
      ]
     },
     "execution_count": 214,
     "metadata": {},
     "output_type": "execute_result"
    }
   ],
   "source": [
    "#R carré ( Qualité prédictive d'un régression linéaire)\n",
    "#0,67% de varation est expliqué par le modèle \n",
    "(-0.8205582386463024)**2"
   ]
  },
  {
   "cell_type": "code",
   "execution_count": 215,
   "metadata": {},
   "outputs": [
    {
     "name": "stdout",
     "output_type": "stream",
     "text": [
      "                               OLS Regression Results                               \n",
      "====================================================================================\n",
      "Dep. Variable:     montant_total_des_achats   R-squared:                       0.673\n",
      "Model:                                  OLS   Adj. R-squared:                  0.669\n",
      "Method:                       Least Squares   F-statistic:                     154.6\n",
      "Date:                      Wed, 23 Sep 2020   Prob (F-statistic):           6.70e-20\n",
      "Time:                              21:24:10   Log-Likelihood:                -913.73\n",
      "No. Observations:                        77   AIC:                             1831.\n",
      "Df Residuals:                            75   BIC:                             1836.\n",
      "Df Model:                                 1                                         \n",
      "Covariance Type:                  nonrobust                                         \n",
      "==============================================================================\n",
      "                 coef    std err          t      P>|t|      [0.025      0.975]\n",
      "------------------------------------------------------------------------------\n",
      "Intercept   1.977e+05   1.06e+04     18.615      0.000    1.77e+05    2.19e+05\n",
      "age        -2226.1989    179.056    -12.433      0.000   -2582.896   -1869.502\n",
      "==============================================================================\n",
      "Omnibus:                       41.770   Durbin-Watson:                   0.958\n",
      "Prob(Omnibus):                  0.000   Jarque-Bera (JB):              154.458\n",
      "Skew:                           1.628   Prob(JB):                     2.88e-34\n",
      "Kurtosis:                       9.127   Cond. No.                         158.\n",
      "==============================================================================\n",
      "\n",
      "Warnings:\n",
      "[1] Standard Errors assume that the covariance matrix of the errors is correctly specified.\n"
     ]
    }
   ],
   "source": [
    "# Methode des moindres carrés \n",
    "model = smf.ols('montant_total_des_achats~age', data=df).fit()\n",
    "print(model.summary())"
   ]
  },
  {
   "cell_type": "code",
   "execution_count": 216,
   "metadata": {},
   "outputs": [
    {
     "data": {
      "text/plain": [
       "162080.8176"
      ]
     },
     "execution_count": 216,
     "metadata": {},
     "output_type": "execute_result"
    }
   ],
   "source": [
    "# y= ax+b\n",
    "pred_montant =  -2226.1989*16 + 1.977e+05\n",
    "pred_montant"
   ]
  },
  {
   "cell_type": "code",
   "execution_count": 217,
   "metadata": {},
   "outputs": [
    {
     "data": {
      "text/plain": [
       "0    162101.986866\n",
       "dtype: float64"
      ]
     },
     "execution_count": 217,
     "metadata": {},
     "output_type": "execute_result"
    }
   ],
   "source": [
    "# Prédiction pour client 16 ans \n",
    "a_prevoir = pd.DataFrame({'age':[16]})\n",
    "price_prev = model.predict(a_prevoir)\n",
    "price_prev"
   ]
  },
  {
   "cell_type": "code",
   "execution_count": 218,
   "metadata": {},
   "outputs": [
    {
     "data": {
      "image/png": "[encoded data removed]",
      "text/plain": [
       "<Figure size 432x288 with 1 Axes>"
      ]
     },
     "metadata": {
      "needs_background": "light"
     },
     "output_type": "display_data"
    }
   ],
   "source": [
    "# Histogramme des résidus\n",
    "df['residu_s'] = model.resid\n",
    "plt.hist(df['residu_s'], density=True)\n",
    "plt.xlabel('Résidus')\n",
    "plt.title('Histogramme des résidus')\n",
    "plt.show()"
   ]
  },
  {
   "cell_type": "code",
   "execution_count": 219,
   "metadata": {},
   "outputs": [
    {
     "name": "stdout",
     "output_type": "stream",
     "text": [
      "stat=0.864, p=0.000\n",
      "la distribution age n'est probalemement pas gaussien\n"
     ]
    }
   ],
   "source": [
    "#Teste si un échantillon de données(residu) a une distribution gaussienne avec shapiro\n",
    "#H0: l'échantillon a une distribution gaussienne.\n",
    "#H1: l'échantillon n'a pas de distribution gaussienne.\n",
    "\n",
    "from scipy.stats import shapiro\n",
    "import scipy.stats\n",
    "data = df['residu_s'].values\n",
    "stat, p = shapiro(data)\n",
    "print('stat=%.3f, p=%.3f' % (stat, p))\n",
    "if p > 0.05:\n",
    "    print(\"la distribution age est probalemement gaussien\")\n",
    "else:\n",
    "    print(\"la distribution age n'est probalemement pas gaussien\")"
   ]
  },
  {
   "cell_type": "code",
   "execution_count": 220,
   "metadata": {},
   "outputs": [
    {
     "name": "stdout",
     "output_type": "stream",
     "text": [
      "Conclusion: Il y une corrélation négative  entre l'age et le montant total des achats\n"
     ]
    }
   ],
   "source": [
    "print(\"Conclusion: Il y une corrélation négative  entre l'age et le montant total des achats\")"
   ]
  },
  {
   "cell_type": "markdown",
   "metadata": {},
   "source": [
    "# Y a-t-il une corrélation entre l'âge des clients et :\n",
    "\n",
    "# La fréquence d’achat (ie. nombre d'achats par mois par exemple) ;\n",
    "    quantitative et quantitative"
   ]
  },
  {
   "cell_type": "code",
   "execution_count": 221,
   "metadata": {},
   "outputs": [
    {
     "data": {
      "text/html": [
       "<div>\n",
       "<style scoped>\n",
       "    .dataframe tbody tr th:only-of-type {\n",
       "        vertical-align: middle;\n",
       "    }\n",
       "\n",
       "    .dataframe tbody tr th {\n",
       "        vertical-align: top;\n",
       "    }\n",
       "\n",
       "    .dataframe thead th {\n",
       "        text-align: right;\n",
       "    }\n",
       "</style>\n",
       "<table border=\"1\" class=\"dataframe\">\n",
       "  <thead>\n",
       "    <tr style=\"text-align: right;\">\n",
       "      <th></th>\n",
       "      <th>client_id</th>\n",
       "      <th>price</th>\n",
       "    </tr>\n",
       "  </thead>\n",
       "  <tbody>\n",
       "    <tr>\n",
       "      <th>0</th>\n",
       "      <td>c_1</td>\n",
       "      <td>2.500000</td>\n",
       "    </tr>\n",
       "    <tr>\n",
       "      <th>1</th>\n",
       "      <td>c_10</td>\n",
       "      <td>3.500000</td>\n",
       "    </tr>\n",
       "    <tr>\n",
       "      <th>2</th>\n",
       "      <td>c_100</td>\n",
       "      <td>2.000000</td>\n",
       "    </tr>\n",
       "    <tr>\n",
       "      <th>3</th>\n",
       "      <td>c_1000</td>\n",
       "      <td>4.666667</td>\n",
       "    </tr>\n",
       "    <tr>\n",
       "      <th>4</th>\n",
       "      <td>c_1001</td>\n",
       "      <td>6.444444</td>\n",
       "    </tr>\n",
       "    <tr>\n",
       "      <th>...</th>\n",
       "      <td>...</td>\n",
       "      <td>...</td>\n",
       "    </tr>\n",
       "    <tr>\n",
       "      <th>8595</th>\n",
       "      <td>c_995</td>\n",
       "      <td>1.600000</td>\n",
       "    </tr>\n",
       "    <tr>\n",
       "      <th>8596</th>\n",
       "      <td>c_996</td>\n",
       "      <td>3.818182</td>\n",
       "    </tr>\n",
       "    <tr>\n",
       "      <th>8597</th>\n",
       "      <td>c_997</td>\n",
       "      <td>2.555556</td>\n",
       "    </tr>\n",
       "    <tr>\n",
       "      <th>8598</th>\n",
       "      <td>c_998</td>\n",
       "      <td>3.500000</td>\n",
       "    </tr>\n",
       "    <tr>\n",
       "      <th>8599</th>\n",
       "      <td>c_999</td>\n",
       "      <td>2.750000</td>\n",
       "    </tr>\n",
       "  </tbody>\n",
       "</table>\n",
       "<p>8600 rows × 2 columns</p>\n",
       "</div>"
      ],
      "text/plain": [
       "     client_id     price\n",
       "0          c_1  2.500000\n",
       "1         c_10  3.500000\n",
       "2        c_100  2.000000\n",
       "3       c_1000  4.666667\n",
       "4       c_1001  6.444444\n",
       "...        ...       ...\n",
       "8595     c_995  1.600000\n",
       "8596     c_996  3.818182\n",
       "8597     c_997  2.555556\n",
       "8598     c_998  3.500000\n",
       "8599     c_999  2.750000\n",
       "\n",
       "[8600 rows x 2 columns]"
      ]
     },
     "execution_count": 221,
     "metadata": {},
     "output_type": "execute_result"
    }
   ],
   "source": [
    "#groupby aggrégation count et group by aggrégation mean \n",
    "df4= data_final1[['client_id', 'mois', 'price']].groupby(['client_id', 'mois']).count().reset_index()\n",
    "df4= df4[['client_id', 'price']].groupby('client_id').mean().reset_index()\n",
    "df4"
   ]
  },
  {
   "cell_type": "code",
   "execution_count": 222,
   "metadata": {},
   "outputs": [
    {
     "data": {
      "text/html": [
       "<div>\n",
       "<style scoped>\n",
       "    .dataframe tbody tr th:only-of-type {\n",
       "        vertical-align: middle;\n",
       "    }\n",
       "\n",
       "    .dataframe tbody tr th {\n",
       "        vertical-align: top;\n",
       "    }\n",
       "\n",
       "    .dataframe thead th {\n",
       "        text-align: right;\n",
       "    }\n",
       "</style>\n",
       "<table border=\"1\" class=\"dataframe\">\n",
       "  <thead>\n",
       "    <tr style=\"text-align: right;\">\n",
       "      <th></th>\n",
       "      <th>client_id</th>\n",
       "      <th>price</th>\n",
       "      <th>age</th>\n",
       "    </tr>\n",
       "  </thead>\n",
       "  <tbody>\n",
       "    <tr>\n",
       "      <th>0</th>\n",
       "      <td>c_1</td>\n",
       "      <td>2.500000</td>\n",
       "      <td>66</td>\n",
       "    </tr>\n",
       "    <tr>\n",
       "      <th>1</th>\n",
       "      <td>c_10</td>\n",
       "      <td>3.500000</td>\n",
       "      <td>65</td>\n",
       "    </tr>\n",
       "    <tr>\n",
       "      <th>2</th>\n",
       "      <td>c_100</td>\n",
       "      <td>2.000000</td>\n",
       "      <td>29</td>\n",
       "    </tr>\n",
       "    <tr>\n",
       "      <th>3</th>\n",
       "      <td>c_1000</td>\n",
       "      <td>4.666667</td>\n",
       "      <td>55</td>\n",
       "    </tr>\n",
       "    <tr>\n",
       "      <th>4</th>\n",
       "      <td>c_1001</td>\n",
       "      <td>6.444444</td>\n",
       "      <td>39</td>\n",
       "    </tr>\n",
       "    <tr>\n",
       "      <th>...</th>\n",
       "      <td>...</td>\n",
       "      <td>...</td>\n",
       "      <td>...</td>\n",
       "    </tr>\n",
       "    <tr>\n",
       "      <th>8595</th>\n",
       "      <td>c_995</td>\n",
       "      <td>1.600000</td>\n",
       "      <td>66</td>\n",
       "    </tr>\n",
       "    <tr>\n",
       "      <th>8596</th>\n",
       "      <td>c_996</td>\n",
       "      <td>3.818182</td>\n",
       "      <td>51</td>\n",
       "    </tr>\n",
       "    <tr>\n",
       "      <th>8597</th>\n",
       "      <td>c_997</td>\n",
       "      <td>2.555556</td>\n",
       "      <td>27</td>\n",
       "    </tr>\n",
       "    <tr>\n",
       "      <th>8598</th>\n",
       "      <td>c_998</td>\n",
       "      <td>3.500000</td>\n",
       "      <td>20</td>\n",
       "    </tr>\n",
       "    <tr>\n",
       "      <th>8599</th>\n",
       "      <td>c_999</td>\n",
       "      <td>2.750000</td>\n",
       "      <td>57</td>\n",
       "    </tr>\n",
       "  </tbody>\n",
       "</table>\n",
       "<p>8600 rows × 3 columns</p>\n",
       "</div>"
      ],
      "text/plain": [
       "     client_id     price  age\n",
       "0          c_1  2.500000   66\n",
       "1         c_10  3.500000   65\n",
       "2        c_100  2.000000   29\n",
       "3       c_1000  4.666667   55\n",
       "4       c_1001  6.444444   39\n",
       "...        ...       ...  ...\n",
       "8595     c_995  1.600000   66\n",
       "8596     c_996  3.818182   51\n",
       "8597     c_997  2.555556   27\n",
       "8598     c_998  3.500000   20\n",
       "8599     c_999  2.750000   57\n",
       "\n",
       "[8600 rows x 3 columns]"
      ]
     },
     "execution_count": 222,
     "metadata": {},
     "output_type": "execute_result"
    }
   ],
   "source": [
    "#merge entre df4 et cliend_id, age du dataframe final\n",
    "df5= df4.merge(data_final1[['client_id', 'age']].sort_values(['client_id', 'age']).drop_duplicates('client_id',keep='first'), on= 'client_id' , how='left')\n",
    "df5"
   ]
  },
  {
   "cell_type": "code",
   "execution_count": 223,
   "metadata": {},
   "outputs": [
    {
     "data": {
      "text/html": [
       "<div>\n",
       "<style scoped>\n",
       "    .dataframe tbody tr th:only-of-type {\n",
       "        vertical-align: middle;\n",
       "    }\n",
       "\n",
       "    .dataframe tbody tr th {\n",
       "        vertical-align: top;\n",
       "    }\n",
       "\n",
       "    .dataframe thead th {\n",
       "        text-align: right;\n",
       "    }\n",
       "</style>\n",
       "<table border=\"1\" class=\"dataframe\">\n",
       "  <thead>\n",
       "    <tr style=\"text-align: right;\">\n",
       "      <th></th>\n",
       "      <th>age</th>\n",
       "      <th>fréquence_achat</th>\n",
       "    </tr>\n",
       "  </thead>\n",
       "  <tbody>\n",
       "    <tr>\n",
       "      <th>24</th>\n",
       "      <td>41</td>\n",
       "      <td>11.436550</td>\n",
       "    </tr>\n",
       "    <tr>\n",
       "      <th>20</th>\n",
       "      <td>37</td>\n",
       "      <td>6.479533</td>\n",
       "    </tr>\n",
       "    <tr>\n",
       "      <th>21</th>\n",
       "      <td>38</td>\n",
       "      <td>6.385219</td>\n",
       "    </tr>\n",
       "    <tr>\n",
       "      <th>19</th>\n",
       "      <td>36</td>\n",
       "      <td>6.129437</td>\n",
       "    </tr>\n",
       "    <tr>\n",
       "      <th>26</th>\n",
       "      <td>43</td>\n",
       "      <td>6.114549</td>\n",
       "    </tr>\n",
       "    <tr>\n",
       "      <th>...</th>\n",
       "      <td>...</td>\n",
       "      <td>...</td>\n",
       "    </tr>\n",
       "    <tr>\n",
       "      <th>10</th>\n",
       "      <td>27</td>\n",
       "      <td>2.579682</td>\n",
       "    </tr>\n",
       "    <tr>\n",
       "      <th>12</th>\n",
       "      <td>29</td>\n",
       "      <td>2.546029</td>\n",
       "    </tr>\n",
       "    <tr>\n",
       "      <th>1</th>\n",
       "      <td>18</td>\n",
       "      <td>2.521989</td>\n",
       "    </tr>\n",
       "    <tr>\n",
       "      <th>2</th>\n",
       "      <td>19</td>\n",
       "      <td>2.510855</td>\n",
       "    </tr>\n",
       "    <tr>\n",
       "      <th>70</th>\n",
       "      <td>87</td>\n",
       "      <td>2.397527</td>\n",
       "    </tr>\n",
       "  </tbody>\n",
       "</table>\n",
       "<p>76 rows × 2 columns</p>\n",
       "</div>"
      ],
      "text/plain": [
       "    age  fréquence_achat\n",
       "24   41        11.436550\n",
       "20   37         6.479533\n",
       "21   38         6.385219\n",
       "19   36         6.129437\n",
       "26   43         6.114549\n",
       "..  ...              ...\n",
       "10   27         2.579682\n",
       "12   29         2.546029\n",
       "1    18         2.521989\n",
       "2    19         2.510855\n",
       "70   87         2.397527\n",
       "\n",
       "[76 rows x 2 columns]"
      ]
     },
     "execution_count": 223,
     "metadata": {},
     "output_type": "execute_result"
    }
   ],
   "source": [
    "# Groupby par age aggrégation mean \n",
    "\n",
    "df6 = df5[['price', 'age']].groupby('age').mean().reset_index()\n",
    "\n",
    "df7= df6.rename(columns={'price':'fréquence_achat'})\n",
    "df7 = df7.sort_values(by='fréquence_achat', ascending=False)\n",
    "df7"
   ]
  },
  {
   "cell_type": "code",
   "execution_count": 224,
   "metadata": {},
   "outputs": [
    {
     "data": {
      "text/plain": [
       "Text(0.5, 3000, \"Relation entre la fréquence achats et l'ages des clients\")"
      ]
     },
     "execution_count": 224,
     "metadata": {},
     "output_type": "execute_result"
    },
    {
     "data": {
      "image/png": "[encoded data removed]",
      "text/plain": [
       "<Figure size 432x432 with 3 Axes>"
      ]
     },
     "metadata": {
      "needs_background": "light"
     },
     "output_type": "display_data"
    }
   ],
   "source": [
    "#Relation entre la fréquence achats et l'ages des clients\n",
    "sns.jointplot(x='age', y='fréquence_achat',color='darkgreen', data= df7, kind='reg')\n",
    "plt.xlabel('age', size=15)\n",
    "plt.ylabel('fréquence_achat', size=15)\n",
    "plt.title(\"Relation entre la fréquence achats et l'ages des clients\", y=3000, pad= 90, size=15)\n"
   ]
  },
  {
   "cell_type": "code",
   "execution_count": 225,
   "metadata": {},
   "outputs": [
    {
     "data": {
      "text/html": [
       "<div>\n",
       "<style scoped>\n",
       "    .dataframe tbody tr th:only-of-type {\n",
       "        vertical-align: middle;\n",
       "    }\n",
       "\n",
       "    .dataframe tbody tr th {\n",
       "        vertical-align: top;\n",
       "    }\n",
       "\n",
       "    .dataframe thead th {\n",
       "        text-align: right;\n",
       "    }\n",
       "</style>\n",
       "<table border=\"1\" class=\"dataframe\">\n",
       "  <thead>\n",
       "    <tr style=\"text-align: right;\">\n",
       "      <th></th>\n",
       "      <th>age</th>\n",
       "      <th>fréquence_achat</th>\n",
       "    </tr>\n",
       "  </thead>\n",
       "  <tbody>\n",
       "    <tr>\n",
       "      <th>age</th>\n",
       "      <td>1.000000</td>\n",
       "      <td>-0.319333</td>\n",
       "    </tr>\n",
       "    <tr>\n",
       "      <th>fréquence_achat</th>\n",
       "      <td>-0.319333</td>\n",
       "      <td>1.000000</td>\n",
       "    </tr>\n",
       "  </tbody>\n",
       "</table>\n",
       "</div>"
      ],
      "text/plain": [
       "                      age  fréquence_achat\n",
       "age              1.000000        -0.319333\n",
       "fréquence_achat -0.319333         1.000000"
      ]
     },
     "execution_count": 225,
     "metadata": {},
     "output_type": "execute_result"
    }
   ],
   "source": [
    "# Coefficient corrélation \n",
    "df7.corr()"
   ]
  },
  {
   "cell_type": "code",
   "execution_count": 226,
   "metadata": {},
   "outputs": [
    {
     "name": "stdout",
     "output_type": "stream",
     "text": [
      "-0.13333333333333336\n",
      "-0.09520164046479836\n"
     ]
    }
   ],
   "source": [
    "#les coefficients corrélations ( kendall et spearman )\n",
    "\n",
    "print(df7['age'].corr(df7['fréquence_achat'], method='kendall'))\n",
    "print(df7['age'].corr(df7['fréquence_achat'], method='spearman'))"
   ]
  },
  {
   "cell_type": "code",
   "execution_count": 227,
   "metadata": {},
   "outputs": [
    {
     "data": {
      "text/plain": [
       "0.10197354792646095"
      ]
     },
     "execution_count": 227,
     "metadata": {},
     "output_type": "execute_result"
    }
   ],
   "source": [
    "# R carré\n",
    "(-0.319332973440672)**2"
   ]
  },
  {
   "cell_type": "code",
   "execution_count": 228,
   "metadata": {},
   "outputs": [
    {
     "name": "stdout",
     "output_type": "stream",
     "text": [
      "stat=-0.319, p=0.005\n",
      "Probablement dépendant \n"
     ]
    }
   ],
   "source": [
    "#  Teste pearson si deux échantillons ont une relation linéaire.\n",
    "#H0: les deux échantillons sont indépendants.\n",
    "#H1: il existe une dépendance entre les échantillons.\n",
    "\n",
    "from scipy.stats import pearsonr\n",
    "data1 = df7['age'].values\n",
    "data2 = df7['fréquence_achat'].values\n",
    "stat, p = pearsonr(data1, data2)\n",
    "print('stat=%.3f, p=%.3f' % (stat, p))\n",
    "if p > 0.05:\n",
    "    print('probablement indépendant ')\n",
    "else:\n",
    "\n",
    "    print('Probablement dépendant ')"
   ]
  },
  {
   "cell_type": "code",
   "execution_count": 229,
   "metadata": {},
   "outputs": [
    {
     "name": "stdout",
     "output_type": "stream",
     "text": [
      "stat=0.955, p=0.009\n",
      "la distribution age n'est probalemement pas gaussien\n"
     ]
    }
   ],
   "source": [
    "#Teste si un échantillon de données(age) a une distribution gaussienne avec shapiro\n",
    "#H0: l'échantillon a une distribution gaussienne.\n",
    "#H1: l'échantillon n'a pas de distribution gaussienne.\n",
    "\n",
    "from scipy.stats import shapiro\n",
    "import scipy.stats\n",
    "data = df7['age'].values\n",
    "stat, p = shapiro(data)\n",
    "print('stat=%.3f, p=%.3f' % (stat, p))\n",
    "if p > 0.05:\n",
    "    print(\"la distribution age est probalemement gaussien\")\n",
    "else:\n",
    "    print(\"la distribution age n'est probalemement pas gaussien\")"
   ]
  },
  {
   "cell_type": "code",
   "execution_count": 230,
   "metadata": {},
   "outputs": [
    {
     "name": "stdout",
     "output_type": "stream",
     "text": [
      "NormaltestResult(statistic=23.33269279340759, pvalue=8.577685837925247e-06)\n",
      "la distribution price n'est probalemement pas gaussien\n"
     ]
    }
   ],
   "source": [
    "#Teste si un échantillon de données(age) a une distribution gaussienne avec normaltest\n",
    "print(scipy.stats.normaltest(df7.age))\n",
    "print(\"la distribution price n'est probalemement pas gaussien\")"
   ]
  },
  {
   "cell_type": "code",
   "execution_count": 231,
   "metadata": {},
   "outputs": [
    {
     "name": "stdout",
     "output_type": "stream",
     "text": [
      "stat=0.732, p=0.000\n",
      "la distribution fréquence_achat n'est probalemement pas gaussien\n"
     ]
    }
   ],
   "source": [
    "#Teste si un échantillon (fréquence_achat)de données a une distribution gaussienne avec shapiro\n",
    "#H0: l'échantillon a une distribution gaussienne.\n",
    "#H1: l'échantillon n'a pas de distribution gaussienne.\n",
    "\n",
    "from scipy.stats import shapiro\n",
    "import scipy.stats\n",
    "data = df7['fréquence_achat'].values\n",
    "stat, p = shapiro(data)\n",
    "print('stat=%.3f, p=%.3f' % (stat, p))\n",
    "if p > 0.05:\n",
    "    print(\"la distribution fréquence_achat est probalemement gaussien\")\n",
    "else:\n",
    "    print(\"la distribution fréquence_achat n'est probalemement pas gaussien\")"
   ]
  },
  {
   "cell_type": "code",
   "execution_count": 232,
   "metadata": {},
   "outputs": [
    {
     "name": "stdout",
     "output_type": "stream",
     "text": [
      "NormaltestResult(statistic=43.937618938105715, pvalue=2.877844167490753e-10)\n",
      "la distribution fréquence_achat n'est probalemement pas gaussien\n"
     ]
    }
   ],
   "source": [
    "#Teste si un échantillon de données(fréquence_achat) a une distribution gaussienne avec normaltest\n",
    "print(scipy.stats.normaltest(df7.fréquence_achat))\n",
    "print(\"la distribution fréquence_achat n'est probalemement pas gaussien\")"
   ]
  },
  {
   "cell_type": "code",
   "execution_count": 233,
   "metadata": {},
   "outputs": [
    {
     "name": "stdout",
     "output_type": "stream",
     "text": [
      "Conclusion: Il y a une corrélation négative entre la fréquence d'achat et l'ages des clients\n"
     ]
    }
   ],
   "source": [
    "print(\"Conclusion: Il y a une corrélation négative entre la fréquence d'achat et l'ages des clients\")"
   ]
  },
  {
   "cell_type": "markdown",
   "metadata": {},
   "source": [
    "# Y a-t-il une corrélation entre l'âge des clients et : La taille du panier moyen (en nombre d’articles)"
   ]
  },
  {
   "cell_type": "code",
   "execution_count": 234,
   "metadata": {},
   "outputs": [
    {
     "data": {
      "text/html": [
       "<div>\n",
       "<style scoped>\n",
       "    .dataframe tbody tr th:only-of-type {\n",
       "        vertical-align: middle;\n",
       "    }\n",
       "\n",
       "    .dataframe tbody tr th {\n",
       "        vertical-align: top;\n",
       "    }\n",
       "\n",
       "    .dataframe thead th {\n",
       "        text-align: right;\n",
       "    }\n",
       "</style>\n",
       "<table border=\"1\" class=\"dataframe\">\n",
       "  <thead>\n",
       "    <tr style=\"text-align: right;\">\n",
       "      <th></th>\n",
       "      <th>session_id</th>\n",
       "      <th>id_prod</th>\n",
       "    </tr>\n",
       "  </thead>\n",
       "  <tbody>\n",
       "    <tr>\n",
       "      <th>0</th>\n",
       "      <td>s_1</td>\n",
       "      <td>1</td>\n",
       "    </tr>\n",
       "    <tr>\n",
       "      <th>1</th>\n",
       "      <td>s_10</td>\n",
       "      <td>1</td>\n",
       "    </tr>\n",
       "    <tr>\n",
       "      <th>2</th>\n",
       "      <td>s_100</td>\n",
       "      <td>2</td>\n",
       "    </tr>\n",
       "    <tr>\n",
       "      <th>3</th>\n",
       "      <td>s_1000</td>\n",
       "      <td>4</td>\n",
       "    </tr>\n",
       "    <tr>\n",
       "      <th>4</th>\n",
       "      <td>s_10000</td>\n",
       "      <td>3</td>\n",
       "    </tr>\n",
       "    <tr>\n",
       "      <th>...</th>\n",
       "      <td>...</td>\n",
       "      <td>...</td>\n",
       "    </tr>\n",
       "    <tr>\n",
       "      <th>169168</th>\n",
       "      <td>s_99994</td>\n",
       "      <td>3</td>\n",
       "    </tr>\n",
       "    <tr>\n",
       "      <th>169169</th>\n",
       "      <td>s_99995</td>\n",
       "      <td>1</td>\n",
       "    </tr>\n",
       "    <tr>\n",
       "      <th>169170</th>\n",
       "      <td>s_99996</td>\n",
       "      <td>4</td>\n",
       "    </tr>\n",
       "    <tr>\n",
       "      <th>169171</th>\n",
       "      <td>s_99997</td>\n",
       "      <td>1</td>\n",
       "    </tr>\n",
       "    <tr>\n",
       "      <th>169172</th>\n",
       "      <td>s_99998</td>\n",
       "      <td>3</td>\n",
       "    </tr>\n",
       "  </tbody>\n",
       "</table>\n",
       "<p>169173 rows × 2 columns</p>\n",
       "</div>"
      ],
      "text/plain": [
       "       session_id  id_prod\n",
       "0             s_1        1\n",
       "1            s_10        1\n",
       "2           s_100        2\n",
       "3          s_1000        4\n",
       "4         s_10000        3\n",
       "...           ...      ...\n",
       "169168    s_99994        3\n",
       "169169    s_99995        1\n",
       "169170    s_99996        4\n",
       "169171    s_99997        1\n",
       "169172    s_99998        3\n",
       "\n",
       "[169173 rows x 2 columns]"
      ]
     },
     "execution_count": 234,
     "metadata": {},
     "output_type": "execute_result"
    }
   ],
   "source": [
    "# Groupby par session_id avec agg count\n",
    "df4= data_final1.groupby('session_id').count().reset_index()[['session_id', 'id_prod']]\n",
    "df4"
   ]
  },
  {
   "cell_type": "code",
   "execution_count": 235,
   "metadata": {},
   "outputs": [
    {
     "data": {
      "text/html": [
       "<div>\n",
       "<style scoped>\n",
       "    .dataframe tbody tr th:only-of-type {\n",
       "        vertical-align: middle;\n",
       "    }\n",
       "\n",
       "    .dataframe tbody tr th {\n",
       "        vertical-align: top;\n",
       "    }\n",
       "\n",
       "    .dataframe thead th {\n",
       "        text-align: right;\n",
       "    }\n",
       "</style>\n",
       "<table border=\"1\" class=\"dataframe\">\n",
       "  <thead>\n",
       "    <tr style=\"text-align: right;\">\n",
       "      <th></th>\n",
       "      <th>age</th>\n",
       "      <th>moyenne nbre articles</th>\n",
       "    </tr>\n",
       "  </thead>\n",
       "  <tbody>\n",
       "    <tr>\n",
       "      <th>31</th>\n",
       "      <td>48</td>\n",
       "      <td>2.454599</td>\n",
       "    </tr>\n",
       "    <tr>\n",
       "      <th>30</th>\n",
       "      <td>47</td>\n",
       "      <td>2.448990</td>\n",
       "    </tr>\n",
       "    <tr>\n",
       "      <th>17</th>\n",
       "      <td>34</td>\n",
       "      <td>2.434346</td>\n",
       "    </tr>\n",
       "    <tr>\n",
       "      <th>27</th>\n",
       "      <td>44</td>\n",
       "      <td>2.429735</td>\n",
       "    </tr>\n",
       "    <tr>\n",
       "      <th>26</th>\n",
       "      <td>43</td>\n",
       "      <td>2.428457</td>\n",
       "    </tr>\n",
       "    <tr>\n",
       "      <th>16</th>\n",
       "      <td>33</td>\n",
       "      <td>2.426614</td>\n",
       "    </tr>\n",
       "    <tr>\n",
       "      <th>22</th>\n",
       "      <td>39</td>\n",
       "      <td>2.425820</td>\n",
       "    </tr>\n",
       "    <tr>\n",
       "      <th>14</th>\n",
       "      <td>31</td>\n",
       "      <td>2.420908</td>\n",
       "    </tr>\n",
       "    <tr>\n",
       "      <th>29</th>\n",
       "      <td>46</td>\n",
       "      <td>2.418202</td>\n",
       "    </tr>\n",
       "    <tr>\n",
       "      <th>23</th>\n",
       "      <td>40</td>\n",
       "      <td>2.417899</td>\n",
       "    </tr>\n",
       "    <tr>\n",
       "      <th>18</th>\n",
       "      <td>35</td>\n",
       "      <td>2.413403</td>\n",
       "    </tr>\n",
       "    <tr>\n",
       "      <th>32</th>\n",
       "      <td>49</td>\n",
       "      <td>2.412047</td>\n",
       "    </tr>\n",
       "    <tr>\n",
       "      <th>25</th>\n",
       "      <td>42</td>\n",
       "      <td>2.409828</td>\n",
       "    </tr>\n",
       "    <tr>\n",
       "      <th>20</th>\n",
       "      <td>37</td>\n",
       "      <td>2.404213</td>\n",
       "    </tr>\n",
       "    <tr>\n",
       "      <th>15</th>\n",
       "      <td>32</td>\n",
       "      <td>2.394482</td>\n",
       "    </tr>\n",
       "  </tbody>\n",
       "</table>\n",
       "</div>"
      ],
      "text/plain": [
       "    age  moyenne nbre articles\n",
       "31   48               2.454599\n",
       "30   47               2.448990\n",
       "17   34               2.434346\n",
       "27   44               2.429735\n",
       "26   43               2.428457\n",
       "16   33               2.426614\n",
       "22   39               2.425820\n",
       "14   31               2.420908\n",
       "29   46               2.418202\n",
       "23   40               2.417899\n",
       "18   35               2.413403\n",
       "32   49               2.412047\n",
       "25   42               2.409828\n",
       "20   37               2.404213\n",
       "15   32               2.394482"
      ]
     },
     "execution_count": 235,
     "metadata": {},
     "output_type": "execute_result"
    }
   ],
   "source": [
    "# Merge entre df4 et data_final1[['session_id', 'age']]\n",
    "df5 = df4.merge(data_final1[['session_id', 'age']].drop_duplicates(['session_id']), how='left', on='session_id' )\n",
    "# Groupby par age avec aggrégation mean \n",
    "df5 = df5.groupby(['age'])[['id_prod']].agg('mean').reset_index()\n",
    "df5 = df5.rename(columns={'id_prod':'moyenne nbre articles'}).sort_values(by='moyenne nbre articles', ascending=False)\n",
    "df5.head(15)"
   ]
  },
  {
   "cell_type": "code",
   "execution_count": 236,
   "metadata": {},
   "outputs": [
    {
     "data": {
      "text/plain": [
       "Text(0.5, 3000, ' Relation entre age des clients et la moyenne nombre articles')"
      ]
     },
     "execution_count": 236,
     "metadata": {},
     "output_type": "execute_result"
    },
    {
     "data": {
      "image/png": "[encoded data removed]",
      "text/plain": [
       "<Figure size 432x432 with 3 Axes>"
      ]
     },
     "metadata": {
      "needs_background": "light"
     },
     "output_type": "display_data"
    }
   ],
   "source": [
    "# Relation entre age des clients et la moyenne nombre articles\n",
    "sns.jointplot(x='age', y='moyenne nbre articles',color='darkblue', data= df5, kind='reg')\n",
    "plt.xlabel('age', size=15)\n",
    "plt.ylabel('moyenne nbre articles', size=15)\n",
    "plt.title(\" Relation entre age des clients et la moyenne nombre articles\", y=3000, pad= 90, size=15)\n"
   ]
  },
  {
   "cell_type": "code",
   "execution_count": 237,
   "metadata": {},
   "outputs": [
    {
     "data": {
      "text/html": [
       "<div>\n",
       "<style scoped>\n",
       "    .dataframe tbody tr th:only-of-type {\n",
       "        vertical-align: middle;\n",
       "    }\n",
       "\n",
       "    .dataframe tbody tr th {\n",
       "        vertical-align: top;\n",
       "    }\n",
       "\n",
       "    .dataframe thead th {\n",
       "        text-align: right;\n",
       "    }\n",
       "</style>\n",
       "<table border=\"1\" class=\"dataframe\">\n",
       "  <thead>\n",
       "    <tr style=\"text-align: right;\">\n",
       "      <th></th>\n",
       "      <th>age</th>\n",
       "      <th>moyenne nbre articles</th>\n",
       "    </tr>\n",
       "  </thead>\n",
       "  <tbody>\n",
       "    <tr>\n",
       "      <th>age</th>\n",
       "      <td>1.000000</td>\n",
       "      <td>-0.589024</td>\n",
       "    </tr>\n",
       "    <tr>\n",
       "      <th>moyenne nbre articles</th>\n",
       "      <td>-0.589024</td>\n",
       "      <td>1.000000</td>\n",
       "    </tr>\n",
       "  </tbody>\n",
       "</table>\n",
       "</div>"
      ],
      "text/plain": [
       "                            age  moyenne nbre articles\n",
       "age                    1.000000              -0.589024\n",
       "moyenne nbre articles -0.589024               1.000000"
      ]
     },
     "execution_count": 237,
     "metadata": {},
     "output_type": "execute_result"
    }
   ],
   "source": [
    "# Coefficient corrélation (la force de relation entre x et y est de 58% et sens négatif)\n",
    "df5.corr()"
   ]
  },
  {
   "cell_type": "code",
   "execution_count": 238,
   "metadata": {},
   "outputs": [
    {
     "name": "stdout",
     "output_type": "stream",
     "text": [
      "-0.378673957621326\n",
      "-0.650375939849624\n"
     ]
    }
   ],
   "source": [
    "# Coefficient corrélation (kendall, spearman)\n",
    "print(df5['age'].corr(df5['moyenne nbre articles'], method='kendall'))\n",
    "print(df5['age'].corr(df5['moyenne nbre articles'], method='spearman'))"
   ]
  },
  {
   "cell_type": "code",
   "execution_count": 239,
   "metadata": {},
   "outputs": [
    {
     "data": {
      "text/plain": [
       "0.346949272576"
      ]
     },
     "execution_count": 239,
     "metadata": {},
     "output_type": "execute_result"
    }
   ],
   "source": [
    "# R carré (qualité prédictive de la régréssion linéaire )\n",
    "(-0.589024)**2"
   ]
  },
  {
   "cell_type": "code",
   "execution_count": 240,
   "metadata": {},
   "outputs": [
    {
     "name": "stdout",
     "output_type": "stream",
     "text": [
      "stat=-0.589, p=0.000\n",
      "Probablement dépendant \n"
     ]
    }
   ],
   "source": [
    "#  Teste pearson si deux échantillons ont une relation linéaire.\n",
    "#H0: les deux échantillons sont indépendants.\n",
    "#H1: il existe une dépendance entre les échantillons.\n",
    "\n",
    "from scipy.stats import pearsonr\n",
    "data1 = df5['age'].values\n",
    "data2 = df5['moyenne nbre articles'].values\n",
    "stat, p = pearsonr(data1, data2)\n",
    "print('stat=%.3f, p=%.3f' % (stat, p))\n",
    "if p > 0.05:\n",
    "    print('probablement indépendant ')\n",
    "else:\n",
    "\n",
    "    print('Probablement dépendant ')"
   ]
  },
  {
   "cell_type": "code",
   "execution_count": 241,
   "metadata": {},
   "outputs": [
    {
     "name": "stdout",
     "output_type": "stream",
     "text": [
      "stat=0.781, p=0.000\n",
      "la distribution age n'est probalemement pas gaussien\n"
     ]
    }
   ],
   "source": [
    "#Teste si un échantillon de données(age) a une distribution gaussienne avec shapiro\n",
    "#H0: l'échantillon a une distribution gaussienne.\n",
    "#H1: l'échantillon n'a pas de distribution gaussienne.\n",
    "\n",
    "from scipy.stats import shapiro\n",
    "import scipy.stats\n",
    "data = df5['moyenne nbre articles'].values\n",
    "stat, p = shapiro(data)\n",
    "print('stat=%.3f, p=%.3f' % (stat, p))\n",
    "if p > 0.05:\n",
    "    print(\"la distribution age est probalemement gaussien\")\n",
    "else:\n",
    "    print(\"la distribution age n'est probalemement pas gaussien\")"
   ]
  },
  {
   "cell_type": "code",
   "execution_count": 242,
   "metadata": {},
   "outputs": [
    {
     "name": "stdout",
     "output_type": "stream",
     "text": [
      "Conclusion: Il y a une corrélation négative entre la moyenne nbre articles et l'ages des clients\n"
     ]
    }
   ],
   "source": [
    "print(\"Conclusion: Il y a une corrélation négative entre la moyenne nbre articles et l'ages des clients\")"
   ]
  },
  {
   "cell_type": "markdown",
   "metadata": {},
   "source": [
    "# Y a-t-il une corrélation entre l'âge des clients et : Les catégories de produits achetés."
   ]
  },
  {
   "cell_type": "code",
   "execution_count": 243,
   "metadata": {},
   "outputs": [
    {
     "data": {
      "text/plain": [
       "Text(0.5, 1.0, 'Les 3 populations sont différentes ')"
      ]
     },
     "execution_count": 243,
     "metadata": {},
     "output_type": "execute_result"
    },
    {
     "data": {
      "image/png": "[encoded data removed]",
      "text/plain": [
       "<Figure size 432x288 with 1 Axes>"
      ]
     },
     "metadata": {
      "needs_background": "light"
     },
     "output_type": "display_data"
    }
   ],
   "source": [
    "# Utilisation du sous-échantillon (sans les 4 clients outliers atypiques)\n",
    "meanprops = {'marker':'o', 'markeredgecolor':'black',\n",
    "            'markerfacecolor':'firebrick'}\n",
    "sns.boxplot(x=\"categ_object\", y=\"age\", showmeans=True, meanprops=meanprops,\n",
    "            data=data_final2)\n",
    "plt.title(\"Les 3 populations sont différentes \", size=20)"
   ]
  },
  {
   "cell_type": "code",
   "execution_count": 244,
   "metadata": {},
   "outputs": [
    {
     "data": {
      "text/html": [
       "<div>\n",
       "<style scoped>\n",
       "    .dataframe tbody tr th:only-of-type {\n",
       "        vertical-align: middle;\n",
       "    }\n",
       "\n",
       "    .dataframe tbody tr th {\n",
       "        vertical-align: top;\n",
       "    }\n",
       "\n",
       "    .dataframe thead th {\n",
       "        text-align: right;\n",
       "    }\n",
       "</style>\n",
       "<table border=\"1\" class=\"dataframe\">\n",
       "  <thead>\n",
       "    <tr style=\"text-align: right;\">\n",
       "      <th></th>\n",
       "      <th>age</th>\n",
       "      <th>categ_object</th>\n",
       "    </tr>\n",
       "  </thead>\n",
       "  <tbody>\n",
       "    <tr>\n",
       "      <th>0</th>\n",
       "      <td>44</td>\n",
       "      <td>categ0</td>\n",
       "    </tr>\n",
       "    <tr>\n",
       "      <th>1</th>\n",
       "      <td>22</td>\n",
       "      <td>categ2</td>\n",
       "    </tr>\n",
       "    <tr>\n",
       "      <th>2</th>\n",
       "      <td>42</td>\n",
       "      <td>categ1</td>\n",
       "    </tr>\n",
       "    <tr>\n",
       "      <th>3</th>\n",
       "      <td>58</td>\n",
       "      <td>categ0</td>\n",
       "    </tr>\n",
       "    <tr>\n",
       "      <th>4</th>\n",
       "      <td>41</td>\n",
       "      <td>categ0</td>\n",
       "    </tr>\n",
       "  </tbody>\n",
       "</table>\n",
       "</div>"
      ],
      "text/plain": [
       "   age categ_object\n",
       "0   44       categ0\n",
       "1   22       categ2\n",
       "2   42       categ1\n",
       "3   58       categ0\n",
       "4   41       categ0"
      ]
     },
     "execution_count": 244,
     "metadata": {},
     "output_type": "execute_result"
    }
   ],
   "source": [
    "#Projections age et categ\n",
    "df = data_final2[['age', 'categ_object']]\n",
    "df.head()"
   ]
  },
  {
   "cell_type": "code",
   "execution_count": 245,
   "metadata": {},
   "outputs": [
    {
     "data": {
      "text/html": [
       "<div>\n",
       "<style scoped>\n",
       "    .dataframe tbody tr th:only-of-type {\n",
       "        vertical-align: middle;\n",
       "    }\n",
       "\n",
       "    .dataframe tbody tr th {\n",
       "        vertical-align: top;\n",
       "    }\n",
       "\n",
       "    .dataframe thead th {\n",
       "        text-align: right;\n",
       "    }\n",
       "</style>\n",
       "<table border=\"1\" class=\"dataframe\">\n",
       "  <thead>\n",
       "    <tr style=\"text-align: right;\">\n",
       "      <th></th>\n",
       "      <th>age</th>\n",
       "      <th>categ_object</th>\n",
       "    </tr>\n",
       "  </thead>\n",
       "  <tbody>\n",
       "    <tr>\n",
       "      <th>0</th>\n",
       "      <td>44</td>\n",
       "      <td>categ0</td>\n",
       "    </tr>\n",
       "    <tr>\n",
       "      <th>3</th>\n",
       "      <td>58</td>\n",
       "      <td>categ0</td>\n",
       "    </tr>\n",
       "    <tr>\n",
       "      <th>4</th>\n",
       "      <td>41</td>\n",
       "      <td>categ0</td>\n",
       "    </tr>\n",
       "    <tr>\n",
       "      <th>5</th>\n",
       "      <td>39</td>\n",
       "      <td>categ0</td>\n",
       "    </tr>\n",
       "    <tr>\n",
       "      <th>6</th>\n",
       "      <td>59</td>\n",
       "      <td>categ0</td>\n",
       "    </tr>\n",
       "  </tbody>\n",
       "</table>\n",
       "</div>"
      ],
      "text/plain": [
       "   age categ_object\n",
       "0   44       categ0\n",
       "3   58       categ0\n",
       "4   41       categ0\n",
       "5   39       categ0\n",
       "6   59       categ0"
      ]
     },
     "execution_count": 245,
     "metadata": {},
     "output_type": "execute_result"
    }
   ],
   "source": [
    "# Restriction sur la categorie 0 \n",
    "categ0 = df[df['categ_object']=='categ0']\n",
    "categ0.head()"
   ]
  },
  {
   "cell_type": "code",
   "execution_count": 246,
   "metadata": {},
   "outputs": [
    {
     "data": {
      "text/html": [
       "<div>\n",
       "<style scoped>\n",
       "    .dataframe tbody tr th:only-of-type {\n",
       "        vertical-align: middle;\n",
       "    }\n",
       "\n",
       "    .dataframe tbody tr th {\n",
       "        vertical-align: top;\n",
       "    }\n",
       "\n",
       "    .dataframe thead th {\n",
       "        text-align: right;\n",
       "    }\n",
       "</style>\n",
       "<table border=\"1\" class=\"dataframe\">\n",
       "  <thead>\n",
       "    <tr style=\"text-align: right;\">\n",
       "      <th></th>\n",
       "      <th>age</th>\n",
       "      <th>categ_object</th>\n",
       "    </tr>\n",
       "  </thead>\n",
       "  <tbody>\n",
       "    <tr>\n",
       "      <th>2</th>\n",
       "      <td>42</td>\n",
       "      <td>categ1</td>\n",
       "    </tr>\n",
       "    <tr>\n",
       "      <th>15</th>\n",
       "      <td>51</td>\n",
       "      <td>categ1</td>\n",
       "    </tr>\n",
       "    <tr>\n",
       "      <th>16</th>\n",
       "      <td>34</td>\n",
       "      <td>categ1</td>\n",
       "    </tr>\n",
       "    <tr>\n",
       "      <th>20</th>\n",
       "      <td>51</td>\n",
       "      <td>categ1</td>\n",
       "    </tr>\n",
       "    <tr>\n",
       "      <th>23</th>\n",
       "      <td>55</td>\n",
       "      <td>categ1</td>\n",
       "    </tr>\n",
       "  </tbody>\n",
       "</table>\n",
       "</div>"
      ],
      "text/plain": [
       "    age categ_object\n",
       "2    42       categ1\n",
       "15   51       categ1\n",
       "16   34       categ1\n",
       "20   51       categ1\n",
       "23   55       categ1"
      ]
     },
     "execution_count": 246,
     "metadata": {},
     "output_type": "execute_result"
    }
   ],
   "source": [
    "# Restriction sur la categorie 1\n",
    "categ1 = df[df['categ_object']=='categ1']\n",
    "categ1.head()"
   ]
  },
  {
   "cell_type": "code",
   "execution_count": 247,
   "metadata": {},
   "outputs": [
    {
     "data": {
      "text/html": [
       "<div>\n",
       "<style scoped>\n",
       "    .dataframe tbody tr th:only-of-type {\n",
       "        vertical-align: middle;\n",
       "    }\n",
       "\n",
       "    .dataframe tbody tr th {\n",
       "        vertical-align: top;\n",
       "    }\n",
       "\n",
       "    .dataframe thead th {\n",
       "        text-align: right;\n",
       "    }\n",
       "</style>\n",
       "<table border=\"1\" class=\"dataframe\">\n",
       "  <thead>\n",
       "    <tr style=\"text-align: right;\">\n",
       "      <th></th>\n",
       "      <th>age</th>\n",
       "      <th>categ_object</th>\n",
       "    </tr>\n",
       "  </thead>\n",
       "  <tbody>\n",
       "    <tr>\n",
       "      <th>1</th>\n",
       "      <td>22</td>\n",
       "      <td>categ2</td>\n",
       "    </tr>\n",
       "    <tr>\n",
       "      <th>27</th>\n",
       "      <td>56</td>\n",
       "      <td>categ2</td>\n",
       "    </tr>\n",
       "    <tr>\n",
       "      <th>71</th>\n",
       "      <td>25</td>\n",
       "      <td>categ2</td>\n",
       "    </tr>\n",
       "    <tr>\n",
       "      <th>106</th>\n",
       "      <td>22</td>\n",
       "      <td>categ2</td>\n",
       "    </tr>\n",
       "    <tr>\n",
       "      <th>127</th>\n",
       "      <td>27</td>\n",
       "      <td>categ2</td>\n",
       "    </tr>\n",
       "  </tbody>\n",
       "</table>\n",
       "</div>"
      ],
      "text/plain": [
       "     age categ_object\n",
       "1     22       categ2\n",
       "27    56       categ2\n",
       "71    25       categ2\n",
       "106   22       categ2\n",
       "127   27       categ2"
      ]
     },
     "execution_count": 247,
     "metadata": {},
     "output_type": "execute_result"
    }
   ],
   "source": [
    "# Restriction sur la categorie 2\n",
    "categ2 = df[df['categ_object']=='categ2']\n",
    "categ2.head()"
   ]
  },
  {
   "cell_type": "code",
   "execution_count": 248,
   "metadata": {},
   "outputs": [
    {
     "data": {
      "text/plain": [
       "{'categ0': array([44, 58, 41, ..., 71, 30, 53]),\n",
       " 'categ2': array([22, 56, 25, ..., 17, 20, 27]),\n",
       " 'categ1': array([42, 51, 34, ..., 53, 35, 32])}"
      ]
     },
     "execution_count": 248,
     "metadata": {},
     "output_type": "execute_result"
    }
   ],
   "source": [
    "#Les valeurs uniques de colonne categ_object\n",
    "grps = pd.unique(df['categ_object'].values)\n",
    "grps\n",
    "\n",
    "# création dictionnaire entre categ_object et age\n",
    "d_data = {grp:df['age'][df.categ_object == grp].values for grp in grps}\n",
    "d_data"
   ]
  },
  {
   "cell_type": "code",
   "execution_count": 249,
   "metadata": {},
   "outputs": [
    {
     "name": "stdout",
     "output_type": "stream",
     "text": [
      "stat=0.781, p=0.000\n",
      "les 3 populations sont significativements différentes\n"
     ]
    }
   ],
   "source": [
    "#Test non paramètrique kruskall\n",
    "\n",
    "#H0 : toutes les distributions d'échantillons sont égales.\n",
    "#H1 : une ou plusieurs distributions d'échantillon ne sont pas égales.\n",
    "\n",
    "\n",
    "from scipy import stats\n",
    "x = categ0['age'].values\n",
    "y = categ1['age'].values\n",
    "z = categ2['age'].values\n",
    "stats.kruskal(x, y, z)\n",
    "print('stat=%.3f, p=%.3f' % (stat, p))\n",
    "if p > 0.05:\n",
    "    print('les 3 populations sont significativements les memes')\n",
    "else:\n",
    "    print('les 3 populations sont significativements différentes')\n",
    "    \n"
   ]
  },
  {
   "cell_type": "code",
   "execution_count": 250,
   "metadata": {},
   "outputs": [
    {
     "name": "stdout",
     "output_type": "stream",
     "text": [
      "stat=19992.374, p=0.000\n",
      "les 3 populations sont significativements différentes\n"
     ]
    }
   ],
   "source": [
    "#Teste anova si les moyennes de deux échantillons indépendants ou plus sont significativement différentes.\n",
    "#H0: les moyennes des échantillons sont égales.\n",
    "#H1: une ou plusieurs des moyennes des échantillons sont inégales.\n",
    "\n",
    "stat, p = stats.f_oneway(d_data['categ0'], d_data['categ1'],  d_data['categ2'])\n",
    "print('stat=%.3f, p=%.3f' % (stat, p))\n",
    "if p > 0.05:\n",
    "    print('les 3 populations sont significativements les memes')\n",
    "else:\n",
    "    print('les 3 populations sont significativements différentes')\n",
    "    "
   ]
  },
  {
   "cell_type": "code",
   "execution_count": 251,
   "metadata": {},
   "outputs": [
    {
     "data": {
      "text/html": [
       "<div>\n",
       "<style scoped>\n",
       "    .dataframe tbody tr th:only-of-type {\n",
       "        vertical-align: middle;\n",
       "    }\n",
       "\n",
       "    .dataframe tbody tr th {\n",
       "        vertical-align: top;\n",
       "    }\n",
       "\n",
       "    .dataframe thead th {\n",
       "        text-align: right;\n",
       "    }\n",
       "</style>\n",
       "<table border=\"1\" class=\"dataframe\">\n",
       "  <thead>\n",
       "    <tr style=\"text-align: right;\">\n",
       "      <th></th>\n",
       "      <th>sum_sq</th>\n",
       "      <th>df</th>\n",
       "      <th>F</th>\n",
       "      <th>PR(&gt;F)</th>\n",
       "    </tr>\n",
       "  </thead>\n",
       "  <tbody>\n",
       "    <tr>\n",
       "      <th>categ_object</th>\n",
       "      <td>6.759386e+06</td>\n",
       "      <td>2.0</td>\n",
       "      <td>19992.37421</td>\n",
       "      <td>0.0</td>\n",
       "    </tr>\n",
       "    <tr>\n",
       "      <th>Residual</th>\n",
       "      <td>5.300518e+07</td>\n",
       "      <td>313549.0</td>\n",
       "      <td>NaN</td>\n",
       "      <td>NaN</td>\n",
       "    </tr>\n",
       "  </tbody>\n",
       "</table>\n",
       "</div>"
      ],
      "text/plain": [
       "                    sum_sq        df            F  PR(>F)\n",
       "categ_object  6.759386e+06       2.0  19992.37421     0.0\n",
       "Residual      5.300518e+07  313549.0          NaN     NaN"
      ]
     },
     "execution_count": 251,
     "metadata": {},
     "output_type": "execute_result"
    }
   ],
   "source": [
    "import statsmodels.api as sm\n",
    "from statsmodels.formula.api import ols\n",
    "model = ols('age ~ categ_object', data=data_final2).fit()\n",
    "aov_table = sm.stats.anova_lm(model, typ=2)\n",
    "aov_table"
   ]
  },
  {
   "cell_type": "code",
   "execution_count": 252,
   "metadata": {},
   "outputs": [
    {
     "data": {
      "text/html": [
       "<div>\n",
       "<style scoped>\n",
       "    .dataframe tbody tr th:only-of-type {\n",
       "        vertical-align: middle;\n",
       "    }\n",
       "\n",
       "    .dataframe tbody tr th {\n",
       "        vertical-align: top;\n",
       "    }\n",
       "\n",
       "    .dataframe thead th {\n",
       "        text-align: right;\n",
       "    }\n",
       "</style>\n",
       "<table border=\"1\" class=\"dataframe\">\n",
       "  <thead>\n",
       "    <tr style=\"text-align: right;\">\n",
       "      <th></th>\n",
       "      <th>sum_sq</th>\n",
       "      <th>df</th>\n",
       "      <th>mean_sq</th>\n",
       "      <th>F</th>\n",
       "      <th>PR(&gt;F)</th>\n",
       "      <th>eta_sq</th>\n",
       "      <th>omega_sq</th>\n",
       "    </tr>\n",
       "  </thead>\n",
       "  <tbody>\n",
       "    <tr>\n",
       "      <th>categ_object</th>\n",
       "      <td>6.759386e+06</td>\n",
       "      <td>2.0</td>\n",
       "      <td>3.379693e+06</td>\n",
       "      <td>19992.37421</td>\n",
       "      <td>0.0</td>\n",
       "      <td>0.1131</td>\n",
       "      <td>0.113094</td>\n",
       "    </tr>\n",
       "    <tr>\n",
       "      <th>Residual</th>\n",
       "      <td>5.300518e+07</td>\n",
       "      <td>313549.0</td>\n",
       "      <td>1.690491e+02</td>\n",
       "      <td>NaN</td>\n",
       "      <td>NaN</td>\n",
       "      <td>NaN</td>\n",
       "      <td>NaN</td>\n",
       "    </tr>\n",
       "  </tbody>\n",
       "</table>\n",
       "</div>"
      ],
      "text/plain": [
       "                    sum_sq        df       mean_sq            F  PR(>F)  \\\n",
       "categ_object  6.759386e+06       2.0  3.379693e+06  19992.37421     0.0   \n",
       "Residual      5.300518e+07  313549.0  1.690491e+02          NaN     NaN   \n",
       "\n",
       "              eta_sq  omega_sq  \n",
       "categ_object  0.1131  0.113094  \n",
       "Residual         NaN       NaN  "
      ]
     },
     "execution_count": 252,
     "metadata": {},
     "output_type": "execute_result"
    }
   ],
   "source": [
    "\n",
    "def anova_table(aov):\n",
    "    aov['mean_sq'] = aov[:]['sum_sq']/aov[:]['df']\n",
    "\n",
    "    aov['eta_sq'] = aov[:-1]['sum_sq']/sum(aov['sum_sq'])\n",
    "\n",
    "    aov['omega_sq'] = (aov[:-1]['sum_sq']-(aov[:-1]['df']*aov['mean_sq'][-1]))/(sum(aov['sum_sq'])+aov['mean_sq'][-1])\n",
    "\n",
    "    cols = ['sum_sq', 'df', 'mean_sq', 'F', 'PR(>F)', 'eta_sq', 'omega_sq']\n",
    "    aov = aov[cols]\n",
    "    return aov\n",
    "\n",
    "anova_table(aov_table)"
   ]
  },
  {
   "cell_type": "code",
   "execution_count": 253,
   "metadata": {},
   "outputs": [
    {
     "name": "stdout",
     "output_type": "stream",
     "text": [
      "         Source            SS      DF            MS            F  p-unc  \\\n",
      "0  categ_object  6.759386e+06       2  3.379693e+06  19992.37421    0.0   \n",
      "1        Within  5.300518e+07  313549  1.690491e+02          NaN    NaN   \n",
      "\n",
      "       n2  \n",
      "0  0.1131  \n",
      "1     NaN  \n"
     ]
    }
   ],
   "source": [
    "#teste pingouin pour trouver  eta carré\n",
    "import pingouin as pg\n",
    "aov = pg.anova(data=df, dv='age', between='categ_object', detailed=True, effsize='n2')\n",
    "print(aov)"
   ]
  },
  {
   "cell_type": "code",
   "execution_count": 254,
   "metadata": {},
   "outputs": [
    {
     "data": {
      "text/plain": [
       "0.11310023045719024"
      ]
     },
     "execution_count": 254,
     "metadata": {},
     "output_type": "execute_result"
    }
   ],
   "source": [
    "# Calcule de eta carré \n",
    "aov['n2'][0]\n",
    "#une corrélation de 0.12 sur echelle de 0 à 1"
   ]
  },
  {
   "cell_type": "code",
   "execution_count": 255,
   "metadata": {},
   "outputs": [
    {
     "name": "stdout",
     "output_type": "stream",
     "text": [
      "Conclusion: Il y a une corrélation entre l'age des clients et les catégories de produits achetés\n"
     ]
    }
   ],
   "source": [
    "print(\"Conclusion: Il y a une corrélation entre l'age des clients et les catégories de produits achetés\")"
   ]
  }
 ],
 "metadata": {
  "kernelspec": {
   "display_name": "Python 3",
   "language": "python",
   "name": "python3"
  },
  "language_info": {
   "codemirror_mode": {
    "name": "ipython",
    "version": 3
   },
   "file_extension": ".py",
   "mimetype": "text/x-python",
   "name": "python",
   "nbconvert_exporter": "python",
   "pygments_lexer": "ipython3",
   "version": "3.7.6"
  }
 },
 "nbformat": 4,
 "nbformat_minor": 4
}
