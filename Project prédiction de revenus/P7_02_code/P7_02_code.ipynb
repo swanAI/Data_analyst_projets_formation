{
 "cells": [
  {
   "cell_type": "code",
   "execution_count": 1,
   "metadata": {},
   "outputs": [
    {
     "data": {
      "text/html": [
       "<style>.container { width:100% !important; }</style>"
      ],
      "text/plain": [
       "<IPython.core.display.HTML object>"
      ]
     },
     "metadata": {},
     "output_type": "display_data"
    }
   ],
   "source": [
    "import pandas as pd\n",
    "#import modin.pandas as pd\n",
    "import matplotlib.pyplot as plt\n",
    "import matplotlib.gridspec as gridspec\n",
    "import seaborn as sns \n",
    "import statsmodels.api as sm\n",
    "from statsmodels.formula.api import ols\n",
    "import numpy as np \n",
    "from IPython.core.display import display, HTML\n",
    "display(HTML(\"<style>.container { width:100% !important; }</style>\"))"
   ]
  },
  {
   "cell_type": "markdown",
   "metadata": {},
   "source": [
    "                                            Sommaire notebook\n",
    "                                            \n",
    "                                            \n",
    "                                   1-Mission3       \n",
    "                                     1.1Création des classes parents \n",
    "                                   2-Mission 4\n",
    "                                     2.1 ANOVA sans log \n",
    "                                     2.2 ANOVA avec log \n",
    "                                     2.3 ANOVA backward\n",
    "                                   3-Regression multiple\n",
    "                                     3.1 Modele version 1(avec les log) \n",
    "                                     3.2 Modele version 2(sans les log )\n",
    "                                     3.3 Améliorez le modèle(avec la classe de revenu des parents) \n",
    "                                     3.4 Modèle reg_multiple Analyses des valeurs atypiques et influentes\n",
    "                                      \n",
    "                                      \n",
    "                                            "
   ]
  },
  {
   "cell_type": "markdown",
   "metadata": {},
   "source": [
    "# 1-Mission 3\n",
    "\n",
    "### 1.1 Création des classes parents"
   ]
  },
  {
   "cell_type": "code",
   "execution_count": 86,
   "metadata": {},
   "outputs": [
    {
     "name": "stdout",
     "output_type": "stream",
     "text": [
      "(5750000, 11)\n"
     ]
    },
    {
     "data": {
      "text/html": [
       "<div>\n",
       "<style scoped>\n",
       "    .dataframe tbody tr th:only-of-type {\n",
       "        vertical-align: middle;\n",
       "    }\n",
       "\n",
       "    .dataframe tbody tr th {\n",
       "        vertical-align: top;\n",
       "    }\n",
       "\n",
       "    .dataframe thead th {\n",
       "        text-align: right;\n",
       "    }\n",
       "</style>\n",
       "<table border=\"1\" class=\"dataframe\">\n",
       "  <thead>\n",
       "    <tr style=\"text-align: right;\">\n",
       "      <th></th>\n",
       "      <th>Country Code</th>\n",
       "      <th>year_survey</th>\n",
       "      <th>quantile</th>\n",
       "      <th>nb_quantiles</th>\n",
       "      <th>income</th>\n",
       "      <th>gdpppp</th>\n",
       "      <th>Country Name</th>\n",
       "      <th>values_pop</th>\n",
       "      <th>values_gini</th>\n",
       "      <th>log_value_income</th>\n",
       "      <th>coeff_elastique</th>\n",
       "    </tr>\n",
       "  </thead>\n",
       "  <tbody>\n",
       "    <tr>\n",
       "      <th>0</th>\n",
       "      <td>ALB</td>\n",
       "      <td>2008</td>\n",
       "      <td>1</td>\n",
       "      <td>100</td>\n",
       "      <td>728.89795</td>\n",
       "      <td>7297.0</td>\n",
       "      <td>Albanie</td>\n",
       "      <td>2947314.0</td>\n",
       "      <td>30.0</td>\n",
       "      <td>6.591534</td>\n",
       "      <td>0.4</td>\n",
       "    </tr>\n",
       "    <tr>\n",
       "      <th>1</th>\n",
       "      <td>ALB</td>\n",
       "      <td>2008</td>\n",
       "      <td>2</td>\n",
       "      <td>100</td>\n",
       "      <td>916.66235</td>\n",
       "      <td>7297.0</td>\n",
       "      <td>Albanie</td>\n",
       "      <td>2947314.0</td>\n",
       "      <td>30.0</td>\n",
       "      <td>6.820739</td>\n",
       "      <td>0.4</td>\n",
       "    </tr>\n",
       "    <tr>\n",
       "      <th>2</th>\n",
       "      <td>ALB</td>\n",
       "      <td>2008</td>\n",
       "      <td>3</td>\n",
       "      <td>100</td>\n",
       "      <td>1010.91600</td>\n",
       "      <td>7297.0</td>\n",
       "      <td>Albanie</td>\n",
       "      <td>2947314.0</td>\n",
       "      <td>30.0</td>\n",
       "      <td>6.918612</td>\n",
       "      <td>0.4</td>\n",
       "    </tr>\n",
       "    <tr>\n",
       "      <th>3</th>\n",
       "      <td>ALB</td>\n",
       "      <td>2008</td>\n",
       "      <td>4</td>\n",
       "      <td>100</td>\n",
       "      <td>1086.90780</td>\n",
       "      <td>7297.0</td>\n",
       "      <td>Albanie</td>\n",
       "      <td>2947314.0</td>\n",
       "      <td>30.0</td>\n",
       "      <td>6.991092</td>\n",
       "      <td>0.4</td>\n",
       "    </tr>\n",
       "    <tr>\n",
       "      <th>4</th>\n",
       "      <td>ALB</td>\n",
       "      <td>2008</td>\n",
       "      <td>5</td>\n",
       "      <td>100</td>\n",
       "      <td>1132.69970</td>\n",
       "      <td>7297.0</td>\n",
       "      <td>Albanie</td>\n",
       "      <td>2947314.0</td>\n",
       "      <td>30.0</td>\n",
       "      <td>7.032359</td>\n",
       "      <td>0.4</td>\n",
       "    </tr>\n",
       "  </tbody>\n",
       "</table>\n",
       "</div>"
      ],
      "text/plain": [
       "  Country Code  year_survey  quantile  nb_quantiles      income  gdpppp  \\\n",
       "0          ALB         2008         1           100   728.89795  7297.0   \n",
       "1          ALB         2008         2           100   916.66235  7297.0   \n",
       "2          ALB         2008         3           100  1010.91600  7297.0   \n",
       "3          ALB         2008         4           100  1086.90780  7297.0   \n",
       "4          ALB         2008         5           100  1132.69970  7297.0   \n",
       "\n",
       "  Country Name  values_pop  values_gini  log_value_income  coeff_elastique  \n",
       "0      Albanie   2947314.0         30.0          6.591534              0.4  \n",
       "1      Albanie   2947314.0         30.0          6.820739              0.4  \n",
       "2      Albanie   2947314.0         30.0          6.918612              0.4  \n",
       "3      Albanie   2947314.0         30.0          6.991092              0.4  \n",
       "4      Albanie   2947314.0         30.0          7.032359              0.4  "
      ]
     },
     "execution_count": 86,
     "metadata": {},
     "output_type": "execute_result"
    }
   ],
   "source": [
    "#Importer fichier avec les clones\n",
    "df_final1 = pd.read_csv('df2_final_P7.csv')\n",
    "# Dimensions df_final1\n",
    "print(df_final1.shape)\n",
    "df_final1.head()"
   ]
  },
  {
   "cell_type": "code",
   "execution_count": 87,
   "metadata": {},
   "outputs": [
    {
     "name": "stdout",
     "output_type": "stream",
     "text": [
      "(40000, 4)\n"
     ]
    },
    {
     "data": {
      "text/html": [
       "<div>\n",
       "<style scoped>\n",
       "    .dataframe tbody tr th:only-of-type {\n",
       "        vertical-align: middle;\n",
       "    }\n",
       "\n",
       "    .dataframe tbody tr th {\n",
       "        vertical-align: top;\n",
       "    }\n",
       "\n",
       "    .dataframe thead th {\n",
       "        text-align: right;\n",
       "    }\n",
       "</style>\n",
       "<table border=\"1\" class=\"dataframe\">\n",
       "  <thead>\n",
       "    <tr style=\"text-align: right;\">\n",
       "      <th></th>\n",
       "      <th>coeff_elastique</th>\n",
       "      <th>c_enfants</th>\n",
       "      <th>c_parents</th>\n",
       "      <th>proba_cond</th>\n",
       "    </tr>\n",
       "  </thead>\n",
       "  <tbody>\n",
       "    <tr>\n",
       "      <th>0</th>\n",
       "      <td>0.2</td>\n",
       "      <td>1</td>\n",
       "      <td>1</td>\n",
       "      <td>0.034</td>\n",
       "    </tr>\n",
       "    <tr>\n",
       "      <th>1</th>\n",
       "      <td>0.2</td>\n",
       "      <td>2</td>\n",
       "      <td>1</td>\n",
       "      <td>0.036</td>\n",
       "    </tr>\n",
       "    <tr>\n",
       "      <th>2</th>\n",
       "      <td>0.2</td>\n",
       "      <td>3</td>\n",
       "      <td>1</td>\n",
       "      <td>0.018</td>\n",
       "    </tr>\n",
       "    <tr>\n",
       "      <th>3</th>\n",
       "      <td>0.2</td>\n",
       "      <td>4</td>\n",
       "      <td>1</td>\n",
       "      <td>0.022</td>\n",
       "    </tr>\n",
       "    <tr>\n",
       "      <th>4</th>\n",
       "      <td>0.2</td>\n",
       "      <td>5</td>\n",
       "      <td>1</td>\n",
       "      <td>0.019</td>\n",
       "    </tr>\n",
       "  </tbody>\n",
       "</table>\n",
       "</div>"
      ],
      "text/plain": [
       "   coeff_elastique  c_enfants  c_parents  proba_cond\n",
       "0              0.2          1          1       0.034\n",
       "1              0.2          2          1       0.036\n",
       "2              0.2          3          1       0.018\n",
       "3              0.2          4          1       0.022\n",
       "4              0.2          5          1       0.019"
      ]
     },
     "execution_count": 87,
     "metadata": {},
     "output_type": "execute_result"
    }
   ],
   "source": [
    "# importer ficher proba conditionnelle\n",
    "df_proba_cond = pd.read_csv('DF2_Proba_cond_P7.csv')\n",
    "# Dimensions df_proba_cond\n",
    "print(df_proba_cond.shape)\n",
    "df_proba_cond.head()"
   ]
  },
  {
   "cell_type": "code",
   "execution_count": 88,
   "metadata": {},
   "outputs": [
    {
     "name": "stdout",
     "output_type": "stream",
     "text": [
      "(115, 2)\n"
     ]
    },
    {
     "data": {
      "text/html": [
       "<div>\n",
       "<style scoped>\n",
       "    .dataframe tbody tr th:only-of-type {\n",
       "        vertical-align: middle;\n",
       "    }\n",
       "\n",
       "    .dataframe tbody tr th {\n",
       "        vertical-align: top;\n",
       "    }\n",
       "\n",
       "    .dataframe thead th {\n",
       "        text-align: right;\n",
       "    }\n",
       "</style>\n",
       "<table border=\"1\" class=\"dataframe\">\n",
       "  <thead>\n",
       "    <tr style=\"text-align: right;\">\n",
       "      <th></th>\n",
       "      <th>Country Code</th>\n",
       "      <th>coeff_elastique</th>\n",
       "    </tr>\n",
       "  </thead>\n",
       "  <tbody>\n",
       "    <tr>\n",
       "      <th>0</th>\n",
       "      <td>ALB</td>\n",
       "      <td>0.40</td>\n",
       "    </tr>\n",
       "    <tr>\n",
       "      <th>1</th>\n",
       "      <td>ARG</td>\n",
       "      <td>0.66</td>\n",
       "    </tr>\n",
       "    <tr>\n",
       "      <th>2</th>\n",
       "      <td>ARM</td>\n",
       "      <td>0.50</td>\n",
       "    </tr>\n",
       "    <tr>\n",
       "      <th>3</th>\n",
       "      <td>AUT</td>\n",
       "      <td>0.40</td>\n",
       "    </tr>\n",
       "    <tr>\n",
       "      <th>4</th>\n",
       "      <td>AZE</td>\n",
       "      <td>0.50</td>\n",
       "    </tr>\n",
       "  </tbody>\n",
       "</table>\n",
       "</div>"
      ],
      "text/plain": [
       "  Country Code  coeff_elastique\n",
       "0          ALB             0.40\n",
       "1          ARG             0.66\n",
       "2          ARM             0.50\n",
       "3          AUT             0.40\n",
       "4          AZE             0.50"
      ]
     },
     "execution_count": 88,
     "metadata": {},
     "output_type": "execute_result"
    }
   ],
   "source": [
    "#Voir les pj pour chaque pays \n",
    "coef_df = df_final1[[\"Country Code\",\"coeff_elastique\"]].drop_duplicates().reset_index()[[\"Country Code\",\"coeff_elastique\"]]\n",
    "#Dimensions coef_df\n",
    "print(coef_df.shape)\n",
    "coef_df.head()"
   ]
  },
  {
   "cell_type": "code",
   "execution_count": 89,
   "metadata": {},
   "outputs": [
    {
     "name": "stdout",
     "output_type": "stream",
     "text": [
      "0\n",
      "1\n",
      "2\n",
      "3\n",
      "4\n",
      "5\n",
      "6\n",
      "7\n",
      "8\n",
      "9\n",
      "10\n",
      "11\n",
      "12\n",
      "13\n",
      "14\n",
      "15\n",
      "16\n",
      "17\n",
      "18\n",
      "19\n",
      "20\n",
      "21\n",
      "22\n",
      "23\n",
      "24\n",
      "25\n",
      "26\n",
      "27\n",
      "28\n",
      "29\n",
      "30\n",
      "31\n",
      "32\n",
      "33\n",
      "34\n",
      "35\n",
      "36\n",
      "37\n",
      "38\n",
      "39\n",
      "40\n",
      "41\n",
      "42\n",
      "43\n",
      "44\n",
      "45\n",
      "46\n",
      "47\n",
      "48\n",
      "49\n",
      "50\n",
      "51\n",
      "52\n",
      "53\n",
      "54\n",
      "55\n",
      "56\n",
      "57\n",
      "58\n",
      "59\n",
      "60\n",
      "61\n",
      "62\n",
      "63\n",
      "64\n",
      "65\n",
      "66\n",
      "67\n",
      "68\n",
      "69\n",
      "70\n",
      "71\n",
      "72\n",
      "73\n",
      "74\n",
      "75\n",
      "76\n",
      "77\n",
      "78\n",
      "79\n",
      "80\n",
      "81\n",
      "82\n",
      "83\n",
      "84\n",
      "85\n",
      "86\n",
      "87\n",
      "88\n",
      "89\n",
      "90\n",
      "91\n",
      "92\n",
      "93\n",
      "94\n",
      "95\n",
      "96\n",
      "97\n",
      "98\n",
      "99\n",
      "100\n",
      "101\n",
      "102\n",
      "103\n",
      "104\n",
      "105\n",
      "106\n",
      "107\n",
      "108\n",
      "109\n",
      "110\n",
      "111\n",
      "112\n",
      "113\n",
      "114\n"
     ]
    }
   ],
   "source": [
    "#Boucle pour créer les classes parents\n",
    "c_parents = [] # liste vide pour accueillir les classes parents \n",
    "\n",
    "for i in range(115):\n",
    "    coef = coef_df['coeff_elastique'][i] # i = chaque pj pour chaque pays\n",
    "    for child in range(1,101):# Pour chaque quantiles enfants de 1 à 100\n",
    "        sm = 0\n",
    "        for parent in range(1,101): # Pour chaque quantile enfants de 1 à 100\n",
    "            proba = df_proba_cond[(df_proba_cond[\"coeff_elastique\"]==coef) & #pour chaque coef pour chaque pays\n",
    "                                  (df_proba_cond[\"c_enfants\"]==child) & # pour chaque quantile enfant de 1 à 100\n",
    "                                  (df_proba_cond[\"c_parents\"]==parent)][\"proba_cond\"].values[0]\n",
    "                                    #pour chaque quantile parents #de 1 à 100 et la valeur de proba\n",
    "                                                                                            \n",
    "            if parent == 100: #si parents = 100\n",
    "                parent_list = [parent]*(500-sm) # parent_list = 50 000 \n",
    "                c_parents = c_parents+parent_list # c_parents = (50 000 classes pour chaque pays )\n",
    "            else: # sinon si parent pas != 100 \n",
    "                parent_list = [parent]*int(500*proba) #pour ne pas avoir classes décimales \n",
    "                sm = sm + int(500*proba)\n",
    "                c_parents = c_parents+parent_list\n",
    "            \n",
    "    print(i) # print chaque index pays "
   ]
  },
  {
   "cell_type": "code",
   "execution_count": 1,
   "metadata": {},
   "outputs": [
    {
     "ename": "NameError",
     "evalue": "name 'c_parents' is not defined",
     "output_type": "error",
     "traceback": [
      "\u001b[0;31m---------------------------------------------------------------------------\u001b[0m",
      "\u001b[0;31mNameError\u001b[0m                                 Traceback (most recent call last)",
      "\u001b[0;32m<ipython-input-1-9607539016fa>\u001b[0m in \u001b[0;36m<module>\u001b[0;34m\u001b[0m\n\u001b[1;32m      1\u001b[0m \u001b[0;31m#voir le nombre classes parents\u001b[0m\u001b[0;34m\u001b[0m\u001b[0;34m\u001b[0m\u001b[0;34m\u001b[0m\u001b[0m\n\u001b[0;32m----> 2\u001b[0;31m \u001b[0mlen\u001b[0m\u001b[0;34m(\u001b[0m\u001b[0mc_parents\u001b[0m\u001b[0;34m)\u001b[0m\u001b[0;34m\u001b[0m\u001b[0;34m\u001b[0m\u001b[0m\n\u001b[0m",
      "\u001b[0;31mNameError\u001b[0m: name 'c_parents' is not defined"
     ]
    }
   ],
   "source": [
    "#voir le nombre classes parents\n",
    "len(c_parents)"
   ]
  },
  {
   "cell_type": "code",
   "execution_count": null,
   "metadata": {},
   "outputs": [],
   "source": [
    "#voir le nombre de pays dans le df_final2\n",
    "len(df_final1[\"Country Code\"].unique())"
   ]
  },
  {
   "cell_type": "code",
   "execution_count": null,
   "metadata": {},
   "outputs": [],
   "source": [
    "#création dataframe pour c_parents\n",
    "Classe_parents = pd.DataFrame(c_parents)\n",
    "\n",
    "#concat le df_final1 et df classes_parents\n",
    "df_M4 = pd.concat([df_final1,Classe_parents], axis=1)\n",
    "df_M4= df_M4.rename(columns={0:'C_i_parent'})\n",
    "df_M4.head()"
   ]
  },
  {
   "cell_type": "code",
   "execution_count": null,
   "metadata": {},
   "outputs": [],
   "source": [
    "#Sélectionner les colonnes \n",
    "DF_M4 = df_M4.iloc[:,[0,6,1,2,11,3,4,9,8,10,7,5]]\n",
    "DF_M4.head()"
   ]
  },
  {
   "cell_type": "code",
   "execution_count": null,
   "metadata": {},
   "outputs": [],
   "source": [
    "# Renommer les colonnes \n",
    "DF_M4 = DF_M4.rename(columns={'Country Name':'Country_Name', 'Country Code':'Country_Code'})"
   ]
  },
  {
   "cell_type": "code",
   "execution_count": null,
   "metadata": {},
   "outputs": [],
   "source": [
    "# sauvegarder DF_M4\n",
    "DF_M4.to_csv(\"df_M4.csv\", index = False)"
   ]
  },
  {
   "cell_type": "markdown",
   "metadata": {},
   "source": [
    "# Mission 4\n",
    "\n",
    "\n",
    "# 2.1 ANOVA sans log \n",
    "\n",
    "Pour cette mission 4, nous chercherons à expliquer le revenu des individus en fonction de plusieurs variables explicatives : le pays de l'individu, l'indice de Gini de ce pays, la classe de revenus des parents, etc.\n",
    "\n",
    "Appliquez une ANOVA sur vos données, en n’incluant comme variable explicative que le pays de l’individu. Analysez la performance du modèle."
   ]
  },
  {
   "cell_type": "code",
   "execution_count": 2,
   "metadata": {},
   "outputs": [
    {
     "name": "stdout",
     "output_type": "stream",
     "text": [
      "(5750000, 12)\n",
      "115\n"
     ]
    },
    {
     "data": {
      "text/html": [
       "<div>\n",
       "<style scoped>\n",
       "    .dataframe tbody tr th:only-of-type {\n",
       "        vertical-align: middle;\n",
       "    }\n",
       "\n",
       "    .dataframe tbody tr th {\n",
       "        vertical-align: top;\n",
       "    }\n",
       "\n",
       "    .dataframe thead th {\n",
       "        text-align: right;\n",
       "    }\n",
       "</style>\n",
       "<table border=\"1\" class=\"dataframe\">\n",
       "  <thead>\n",
       "    <tr style=\"text-align: right;\">\n",
       "      <th></th>\n",
       "      <th>Country_Code</th>\n",
       "      <th>Country_Name</th>\n",
       "      <th>year_survey</th>\n",
       "      <th>quantile</th>\n",
       "      <th>C_i_parent</th>\n",
       "      <th>nb_quantiles</th>\n",
       "      <th>income</th>\n",
       "      <th>log_value_income</th>\n",
       "      <th>values_gini</th>\n",
       "      <th>coeff_elastique</th>\n",
       "      <th>values_pop</th>\n",
       "      <th>gdpppp</th>\n",
       "    </tr>\n",
       "  </thead>\n",
       "  <tbody>\n",
       "    <tr>\n",
       "      <th>0</th>\n",
       "      <td>ALB</td>\n",
       "      <td>Albanie</td>\n",
       "      <td>2008</td>\n",
       "      <td>1</td>\n",
       "      <td>1</td>\n",
       "      <td>100</td>\n",
       "      <td>728.89795</td>\n",
       "      <td>6.591534</td>\n",
       "      <td>30.0</td>\n",
       "      <td>0.4</td>\n",
       "      <td>2947314.0</td>\n",
       "      <td>7297.0</td>\n",
       "    </tr>\n",
       "    <tr>\n",
       "      <th>1</th>\n",
       "      <td>ALB</td>\n",
       "      <td>Albanie</td>\n",
       "      <td>2008</td>\n",
       "      <td>2</td>\n",
       "      <td>1</td>\n",
       "      <td>100</td>\n",
       "      <td>916.66235</td>\n",
       "      <td>6.820739</td>\n",
       "      <td>30.0</td>\n",
       "      <td>0.4</td>\n",
       "      <td>2947314.0</td>\n",
       "      <td>7297.0</td>\n",
       "    </tr>\n",
       "    <tr>\n",
       "      <th>2</th>\n",
       "      <td>ALB</td>\n",
       "      <td>Albanie</td>\n",
       "      <td>2008</td>\n",
       "      <td>3</td>\n",
       "      <td>1</td>\n",
       "      <td>100</td>\n",
       "      <td>1010.91600</td>\n",
       "      <td>6.918612</td>\n",
       "      <td>30.0</td>\n",
       "      <td>0.4</td>\n",
       "      <td>2947314.0</td>\n",
       "      <td>7297.0</td>\n",
       "    </tr>\n",
       "    <tr>\n",
       "      <th>3</th>\n",
       "      <td>ALB</td>\n",
       "      <td>Albanie</td>\n",
       "      <td>2008</td>\n",
       "      <td>4</td>\n",
       "      <td>1</td>\n",
       "      <td>100</td>\n",
       "      <td>1086.90780</td>\n",
       "      <td>6.991092</td>\n",
       "      <td>30.0</td>\n",
       "      <td>0.4</td>\n",
       "      <td>2947314.0</td>\n",
       "      <td>7297.0</td>\n",
       "    </tr>\n",
       "    <tr>\n",
       "      <th>4</th>\n",
       "      <td>ALB</td>\n",
       "      <td>Albanie</td>\n",
       "      <td>2008</td>\n",
       "      <td>5</td>\n",
       "      <td>1</td>\n",
       "      <td>100</td>\n",
       "      <td>1132.69970</td>\n",
       "      <td>7.032359</td>\n",
       "      <td>30.0</td>\n",
       "      <td>0.4</td>\n",
       "      <td>2947314.0</td>\n",
       "      <td>7297.0</td>\n",
       "    </tr>\n",
       "  </tbody>\n",
       "</table>\n",
       "</div>"
      ],
      "text/plain": [
       "  Country_Code Country_Name  year_survey  quantile  C_i_parent  nb_quantiles  \\\n",
       "0          ALB      Albanie         2008         1           1           100   \n",
       "1          ALB      Albanie         2008         2           1           100   \n",
       "2          ALB      Albanie         2008         3           1           100   \n",
       "3          ALB      Albanie         2008         4           1           100   \n",
       "4          ALB      Albanie         2008         5           1           100   \n",
       "\n",
       "       income  log_value_income  values_gini  coeff_elastique  values_pop  \\\n",
       "0   728.89795          6.591534         30.0              0.4   2947314.0   \n",
       "1   916.66235          6.820739         30.0              0.4   2947314.0   \n",
       "2  1010.91600          6.918612         30.0              0.4   2947314.0   \n",
       "3  1086.90780          6.991092         30.0              0.4   2947314.0   \n",
       "4  1132.69970          7.032359         30.0              0.4   2947314.0   \n",
       "\n",
       "   gdpppp  \n",
       "0  7297.0  \n",
       "1  7297.0  \n",
       "2  7297.0  \n",
       "3  7297.0  \n",
       "4  7297.0  "
      ]
     },
     "execution_count": 2,
     "metadata": {},
     "output_type": "execute_result"
    }
   ],
   "source": [
    "#importer le fichier pour la mission 4\n",
    "DF_M4 = pd.read_csv('df_M4.csv')\n",
    "print(DF_M4.shape)\n",
    "print(DF_M4['Country_Name'].nunique())\n",
    "DF_M4.head()"
   ]
  },
  {
   "cell_type": "code",
   "execution_count": 3,
   "metadata": {
    "scrolled": false
   },
   "outputs": [
    {
     "name": "stdout",
     "output_type": "stream",
     "text": [
      "                            OLS Regression Results                            \n",
      "==============================================================================\n",
      "Dep. Variable:                 income   R-squared:                       0.497\n",
      "Model:                            OLS   Adj. R-squared:                  0.497\n",
      "Method:                 Least Squares   F-statistic:                 4.986e+04\n",
      "Date:                Tue, 13 Apr 2021   Prob (F-statistic):               0.00\n",
      "Time:                        00:49:04   Log-Likelihood:            -5.8752e+07\n",
      "No. Observations:             5750000   AIC:                         1.175e+08\n",
      "Df Residuals:                 5749885   BIC:                         1.175e+08\n",
      "Df Model:                         114                                         \n",
      "Covariance Type:            nonrobust                                         \n",
      "=========================================================================================================================\n",
      "                                                            coef    std err          t      P>|t|      [0.025      0.975]\n",
      "-------------------------------------------------------------------------------------------------------------------------\n",
      "Intercept                                              5617.9049     29.636    189.565      0.000    5559.820    5675.990\n",
      "Country_Name[T.Albanie]                               -2623.0750     41.911    -62.586      0.000   -2705.220   -2540.930\n",
      "Country_Name[T.Allemagne]                              1.244e+04     41.911    296.908      0.000    1.24e+04    1.25e+04\n",
      "Country_Name[T.Argentine]                               229.9798     41.911      5.487      0.000     147.835     312.125\n",
      "Country_Name[T.Arménie]                               -3989.5221     41.911    -95.189      0.000   -4071.667   -3907.377\n",
      "Country_Name[T.Autriche]                               1.102e+04     41.911    262.928      0.000    1.09e+04    1.11e+04\n",
      "Country_Name[T.Azerbaïdjan]                           -3260.4759     41.911    -77.794      0.000   -3342.621   -3178.331\n",
      "Country_Name[T.Bangladesh]                            -4619.2125     41.911   -110.214      0.000   -4701.357   -4537.068\n",
      "Country_Name[T.Belgique]                               9406.7093     41.911    224.443      0.000    9324.564    9488.854\n",
      "Country_Name[T.Bhoutan]                               -4101.9758     41.911    -97.873      0.000   -4184.121   -4019.831\n",
      "Country_Name[T.Bolivie]                               -2601.6410     41.911    -62.075      0.000   -2683.786   -2519.496\n",
      "Country_Name[T.Bosnie-Herzégovine]                      716.7824     41.911     17.102      0.000     634.638     798.927\n",
      "Country_Name[T.Brésil]                                 -810.4203     41.911    -19.337      0.000    -892.565    -728.275\n",
      "Country_Name[T.Bulgarie]                               -632.9263     41.911    -15.102      0.000    -715.071    -550.781\n",
      "Country_Name[T.Burkina Faso]                          -4699.9522     41.911   -112.140      0.000   -4782.097   -4617.807\n",
      "Country_Name[T.Bélarus]                               -1696.7413     41.911    -40.484      0.000   -1778.886   -1614.596\n",
      "Country_Name[T.Cambodge]                              -4131.5646     41.911    -98.579      0.000   -4213.710   -4049.420\n",
      "Country_Name[T.Cameroun]                              -3823.4109     41.911    -91.226      0.000   -3905.556   -3741.266\n",
      "Country_Name[T.Canada]                                 1.812e+04     41.911    432.382      0.000     1.8e+04    1.82e+04\n",
      "Country_Name[T.Chili]                                  1433.7051     41.911     34.208      0.000    1351.560    1515.850\n",
      "Country_Name[T.Chine]                                 -3095.1462     41.911    -73.850      0.000   -3177.291   -3013.001\n",
      "Country_Name[T.Chypre]                                 1.173e+04     41.911    279.816      0.000    1.16e+04    1.18e+04\n",
      "Country_Name[T.Cisjordanie et Gaza]                   -4503.8064     41.911   -107.460      0.000   -4585.951   -4421.661\n",
      "Country_Name[T.Colombie]                              -2070.8996     41.911    -49.411      0.000   -2153.044   -1988.755\n",
      "Country_Name[T.Congo, République démocratique du]     -5341.8888     41.911   -127.457      0.000   -5424.034   -5259.744\n",
      "Country_Name[T.Corée, République de]                   9609.6646     41.911    229.285      0.000    9527.520    9691.809\n",
      "Country_Name[T.Costa Rica]                              -37.5183     41.911     -0.895      0.371    -119.663      44.627\n",
      "Country_Name[T.Croatie]                                2098.5609     41.911     50.071      0.000    2016.416    2180.706\n",
      "Country_Name[T.Côte d'Ivoire]                         -5218.0697     41.911   -124.502      0.000   -5300.215   -5135.925\n",
      "Country_Name[T.Danemark]                               1.143e+04     41.911    272.605      0.000    1.13e+04    1.15e+04\n",
      "Country_Name[T.El Salvador]                           -2762.6801     41.911    -65.917      0.000   -2844.825   -2680.535\n",
      "Country_Name[T.Espagne]                                7499.0880     41.911    178.927      0.000    7416.943    7581.233\n",
      "Country_Name[T.Estonie]                                2084.1577     41.911     49.728      0.000    2002.013    2166.303\n",
      "Country_Name[T.Eswatini]                              -5087.6211     41.911   -121.390      0.000   -5169.766   -5005.476\n",
      "Country_Name[T.Fidji]                                 -3519.1740     41.911    -83.967      0.000   -3601.319   -3437.029\n",
      "Country_Name[T.Finlande]                               1.069e+04     41.911    255.024      0.000    1.06e+04    1.08e+04\n",
      "Country_Name[T.France]                                 1.269e+04     41.911    302.817      0.000    1.26e+04    1.28e+04\n",
      "Country_Name[T.Fédération de Russie]                   1538.8658     41.911     36.717      0.000    1456.721    1621.011\n",
      "Country_Name[T.Ghana]                                 -4881.3024     41.911   -116.467      0.000   -4963.447   -4799.157\n",
      "Country_Name[T.Grèce]                                  6109.3694     41.911    145.769      0.000    6027.225    6191.514\n",
      "Country_Name[T.Guatemala]                             -3475.4301     41.911    -82.923      0.000   -3557.575   -3393.285\n",
      "Country_Name[T.Guinée]                                -4921.8929     41.911   -117.436      0.000   -5004.038   -4839.748\n",
      "Country_Name[T.Géorgie]                               -4254.1463     41.911   -101.503      0.000   -4336.291   -4172.001\n",
      "Country_Name[T.Honduras]                              -2321.6365     41.911    -55.394      0.000   -2403.781   -2239.492\n",
      "Country_Name[T.Hongrie]                                 483.4363     41.911     11.535      0.000     401.291     565.581\n",
      "Country_Name[T.Inde]                                  -4693.6354     41.911   -111.989      0.000   -4775.780   -4611.491\n",
      "Country_Name[T.Indonésie]                             -4283.2866     41.911   -102.199      0.000   -4365.431   -4201.142\n",
      "Country_Name[T.Iran, République islamique d’]           214.7506     41.911      5.124      0.000     132.606     296.895\n",
      "Country_Name[T.Iraq]                                  -3912.3925     41.911    -93.349      0.000   -3994.537   -3830.248\n",
      "Country_Name[T.Irlande]                                1.209e+04     41.911    288.533      0.000     1.2e+04    1.22e+04\n",
      "Country_Name[T.Islande]                                2.127e+04     41.911    507.513      0.000    2.12e+04    2.14e+04\n",
      "Country_Name[T.Israël]                                 5482.4133     41.911    130.810      0.000    5400.268    5564.558\n",
      "Country_Name[T.Italie]                                 9307.3100     41.911    222.071      0.000    9225.165    9389.455\n",
      "Country_Name[T.Japon]                                  1.182e+04     41.911    281.905      0.000    1.17e+04    1.19e+04\n",
      "Country_Name[T.Jordanie]                              -2569.2739     41.911    -61.302      0.000   -2651.419   -2487.129\n",
      "Country_Name[T.Kazakhstan]                            -3378.7551     41.911    -80.617      0.000   -3460.900   -3296.610\n",
      "Country_Name[T.Kenya]                                 -5098.5848     41.911   -121.651      0.000   -5180.730   -5016.440\n",
      "Country_Name[T.Kosovo]                                -3441.6358     41.911    -82.117      0.000   -3523.781   -3359.491\n",
      "Country_Name[T.Lettonie]                               1146.5697     41.911     27.357      0.000    1064.425    1228.715\n",
      "Country_Name[T.Libéria]                               -5002.8976     41.911   -119.368      0.000   -5085.042   -4920.753\n",
      "Country_Name[T.Lituanie]                               1005.7517     41.911     23.997      0.000     923.607    1087.897\n",
      "Country_Name[T.Luxembourg]                              1.96e+04     41.911    467.645      0.000    1.95e+04    1.97e+04\n",
      "Country_Name[T.Macédoine du Nord]                     -1018.5086     41.911    -24.301      0.000   -1100.653    -936.364\n",
      "Country_Name[T.Madagascar]                            -5272.6678     41.911   -125.805      0.000   -5354.813   -5190.523\n",
      "Country_Name[T.Malaisie]                                388.4375     41.911      9.268      0.000     306.293     470.582\n",
      "Country_Name[T.Malawi]                                -4703.6395     41.911   -112.228      0.000   -4785.784   -4621.495\n",
      "Country_Name[T.Mali]                                  -4936.8298     41.911   -117.792      0.000   -5018.975   -4854.685\n",
      "Country_Name[T.Maroc]                                 -3280.3043     41.911    -78.268      0.000   -3362.449   -3198.159\n",
      "Country_Name[T.Mauritanie]                            -3819.2958     41.911    -91.128      0.000   -3901.441   -3737.151\n",
      "Country_Name[T.Mexique]                               -1732.0746     41.911    -41.327      0.000   -1814.219   -1649.930\n",
      "Country_Name[T.Moldova]                               -3468.7335     41.911    -82.763      0.000   -3550.878   -3386.589\n",
      "Country_Name[T.Mongolie]                              -3279.8175     41.911    -78.256      0.000   -3361.962   -3197.673\n",
      "Country_Name[T.Monténégro]                              929.9942     41.911     22.190      0.000     847.849    1012.139\n",
      "Country_Name[T.Mozambique]                            -4925.4244     41.911   -117.520      0.000   -5007.569   -4843.280\n",
      "Country_Name[T.Nicaragua]                             -3098.5716     41.911    -73.931      0.000   -3180.716   -3016.427\n",
      "Country_Name[T.Niger]                                 -4967.7755     41.911   -118.530      0.000   -5049.920   -4885.631\n",
      "Country_Name[T.Nigéria]                               -4926.0495     41.911   -117.535      0.000   -5008.194   -4843.905\n",
      "Country_Name[T.Norvège]                                1.687e+04     41.911    402.408      0.000    1.68e+04    1.69e+04\n",
      "Country_Name[T.Népal]                                 -4703.5132     41.911   -112.225      0.000   -4785.658   -4621.368\n",
      "Country_Name[T.Ouganda]                               -4630.6986     41.911   -110.488      0.000   -4712.843   -4548.554\n",
      "Country_Name[T.Pakistan]                              -4730.0656     41.911   -112.859      0.000   -4812.210   -4647.921\n",
      "Country_Name[T.Panama]                                 -482.7655     41.911    -11.519      0.000    -564.910    -400.621\n",
      "Country_Name[T.Paraguay]                              -2339.8239     41.911    -55.828      0.000   -2421.969   -2257.679\n",
      "Country_Name[T.Pays-Bas]                               1.211e+04     41.911    288.960      0.000     1.2e+04    1.22e+04\n",
      "Country_Name[T.Philippines]                           -4143.8420     41.911    -98.871      0.000   -4225.987   -4061.697\n",
      "Country_Name[T.Pologne]                                 123.8153     41.911      2.954      0.003      41.670     205.960\n",
      "Country_Name[T.Portugal]                               4480.7705     41.911    106.911      0.000    4398.626    4562.915\n",
      "Country_Name[T.Pérou]                                 -2287.3715     41.911    -54.576      0.000   -2369.516   -2205.227\n",
      "Country_Name[T.Roumanie]                              -2299.5677     41.911    -54.867      0.000   -2381.713   -2217.423\n",
      "Country_Name[T.Royaume-Uni]                            1.609e+04     41.911    383.946      0.000     1.6e+04    1.62e+04\n",
      "Country_Name[T.République arabe syrienne]             -4932.0874     41.911   -117.679      0.000   -5014.232   -4849.943\n",
      "Country_Name[T.République centrafricaine]             -4806.6050     41.911   -114.685      0.000   -4888.750   -4724.460\n",
      "Country_Name[T.République dominicaine]                -2059.5028     41.911    -49.139      0.000   -2141.648   -1977.358\n",
      "Country_Name[T.République démocratique populaire lao] -4614.4975     41.911   -110.101      0.000   -4696.642   -4532.353\n",
      "Country_Name[T.République kirghize]                   -3844.6857     41.911    -91.734      0.000   -3926.831   -3762.541\n",
      "Country_Name[T.République slovaque]                     478.6750     41.911     11.421      0.000     396.530     560.820\n",
      "Country_Name[T.République tchèque]                     2617.3885     41.911     62.450      0.000    2535.244    2699.533\n",
      "Country_Name[T.Serbie]                                 -738.1540     41.911    -17.612      0.000    -820.299    -656.009\n",
      "Country_Name[T.Slovénie]                               6488.1026     41.911    154.805      0.000    6405.958    6570.247\n",
      "Country_Name[T.Soudan]                                -4532.5578     41.911   -108.146      0.000   -4614.703   -4450.413\n",
      "Country_Name[T.Sri Lanka]                             -3739.9646     41.911    -89.235      0.000   -3822.110   -3657.820\n",
      "Country_Name[T.Suède]                                  1.057e+04     41.911    252.111      0.000    1.05e+04    1.06e+04\n",
      "Country_Name[T.Tadjikistan]                           -3548.0527     41.911    -84.656      0.000   -3630.198   -3465.908\n",
      "Country_Name[T.Tanzanie]                              -5029.1379     41.911   -119.994      0.000   -5111.283   -4946.993\n",
      "Country_Name[T.Thaïlande]                             -2874.1922     41.911    -68.578      0.000   -2956.337   -2792.047\n",
      "Country_Name[T.Timor-Leste]                           -4890.2945     41.911   -116.682      0.000   -4972.439   -4808.150\n",
      "Country_Name[T.Turquie]                                 432.5605     41.911     10.321      0.000     350.416     514.705\n",
      "Country_Name[T.Ukraine]                               -2268.5166     41.911    -54.126      0.000   -2350.661   -2186.372\n",
      "Country_Name[T.Uruguay]                                -327.1200     41.911     -7.805      0.000    -409.265    -244.975\n",
      "Country_Name[T.Venezuela]                             -2450.7572     41.911    -58.475      0.000   -2532.902   -2368.612\n",
      "Country_Name[T.Viet Nam]                              -4240.1309     41.911   -101.169      0.000   -4322.276   -4157.986\n",
      "Country_Name[T.Yémen, Rép. du]                        -4575.2690     41.911   -109.165      0.000   -4657.414   -4493.124\n",
      "Country_Name[T.Égypte, République arabe d’]           -3648.3275     41.911    -87.049      0.000   -3730.472   -3566.183\n",
      "Country_Name[T.Équateur]                              -2234.1639     41.911    -53.307      0.000   -2316.309   -2152.019\n",
      "Country_Name[T.États-Unis]                             1.989e+04     41.911    474.469      0.000    1.98e+04       2e+04\n",
      "==============================================================================\n",
      "Omnibus:                  7304031.825   Durbin-Watson:                   0.687\n",
      "Prob(Omnibus):                  0.000   Jarque-Bera (JB):       2216400884.564\n",
      "Skew:                           6.841   Prob(JB):                         0.00\n",
      "Kurtosis:                      98.204   Cond. No.                         116.\n",
      "==============================================================================\n",
      "\n",
      "Notes:\n",
      "[1] Standard Errors assume that the covariance matrix of the errors is correctly specified.\n"
     ]
    }
   ],
   "source": [
    "import statsmodels.api as sm\n",
    "from statsmodels.formula.api import ols\n",
    "\n",
    "#copy \n",
    "df_ANOVA= DF_M4.copy()\n",
    "#ANOVA avec income (variable expliquée) et Country_Name(variable explicative)\n",
    "mod_anova = ols('income~Country_Name',data=df_ANOVA).fit()\n",
    "#afficher le summary                \n",
    "print(mod_anova.summary())"
   ]
  },
  {
   "cell_type": "code",
   "execution_count": 4,
   "metadata": {},
   "outputs": [
    {
     "name": "stdout",
     "output_type": "stream",
     "text": [
      "                    sum_sq         df             F  PR(>F)\n",
      "Country_Name  2.496311e+14      114.0  49864.237854     0.0\n",
      "Residual      2.525014e+14  5749885.0           NaN     NaN\n"
     ]
    }
   ],
   "source": [
    "aov_table = sm.stats.anova_lm(mod_anova, typ=2)\n",
    "print(aov_table)"
   ]
  },
  {
   "cell_type": "markdown",
   "metadata": {},
   "source": [
    "# 2.2 ANOVA avec log "
   ]
  },
  {
   "cell_type": "code",
   "execution_count": 5,
   "metadata": {},
   "outputs": [
    {
     "name": "stdout",
     "output_type": "stream",
     "text": [
      "                            OLS Regression Results                            \n",
      "==============================================================================\n",
      "Dep. Variable:       log_value_income   R-squared:                       0.727\n",
      "Model:                            OLS   Adj. R-squared:                  0.727\n",
      "Method:                 Least Squares   F-statistic:                 1.340e+05\n",
      "Date:                Tue, 13 Apr 2021   Prob (F-statistic):               0.00\n",
      "Time:                        02:21:12   Log-Likelihood:            -6.2697e+06\n",
      "No. Observations:             5750000   AIC:                         1.254e+07\n",
      "Df Residuals:                 5749885   BIC:                         1.254e+07\n",
      "Df Model:                         114                                         \n",
      "Covariance Type:            nonrobust                                         \n",
      "=========================================================================================================================\n",
      "                                                            coef    std err          t      P>|t|      [0.025      0.975]\n",
      "-------------------------------------------------------------------------------------------------------------------------\n",
      "Intercept                                                 7.7178      0.003   2396.948      0.000       7.711       7.724\n",
      "Country_Name[T.Albanie]                                   0.1340      0.005     29.419      0.000       0.125       0.143\n",
      "Country_Name[T.Allemagne]                                 1.9224      0.005    422.189      0.000       1.914       1.931\n",
      "Country_Name[T.Argentine]                                 0.5843      0.005    128.318      0.000       0.575       0.593\n",
      "Country_Name[T.Arménie]                                  -0.4358      0.005    -95.707      0.000      -0.445      -0.427\n",
      "Country_Name[T.Autriche]                                  1.8722      0.005    411.158      0.000       1.863       1.881\n",
      "Country_Name[T.Azerbaïdjan]                              -0.1139      0.005    -25.003      0.000      -0.123      -0.105\n",
      "Country_Name[T.Bangladesh]                               -0.9732      0.005   -213.714      0.000      -0.982      -0.964\n",
      "Country_Name[T.Belgique]                                  1.7596      0.005    386.425      0.000       1.751       1.769\n",
      "Country_Name[T.Bhoutan]                                  -0.6330      0.005   -139.009      0.000      -0.642      -0.624\n",
      "Country_Name[T.Bolivie]                                  -0.3587      0.005    -78.778      0.000      -0.368      -0.350\n",
      "Country_Name[T.Bosnie-Herzégovine]                        0.8220      0.005    180.523      0.000       0.813       0.831\n",
      "Country_Name[T.Brésil]                                    0.2129      0.005     46.750      0.000       0.204       0.222\n",
      "Country_Name[T.Bulgarie]                                  0.5574      0.005    122.411      0.000       0.548       0.566\n",
      "Country_Name[T.Burkina Faso]                             -1.1579      0.005   -254.290      0.000      -1.167      -1.149\n",
      "Country_Name[T.Bélarus]                                   0.4398      0.005     96.587      0.000       0.431       0.449\n",
      "Country_Name[T.Cambodge]                                 -0.5732      0.005   -125.887      0.000      -0.582      -0.564\n",
      "Country_Name[T.Cameroun]                                 -0.4722      0.005   -103.691      0.000      -0.481      -0.463\n",
      "Country_Name[T.Canada]                                    2.0967      0.005    460.467      0.000       2.088       2.106\n",
      "Country_Name[T.Chili]                                     0.6447      0.005    141.576      0.000       0.636       0.654\n",
      "Country_Name[T.Chine]                                    -0.3198      0.005    -70.230      0.000      -0.329      -0.311\n",
      "Country_Name[T.Chypre]                                    1.9122      0.005    419.932      0.000       1.903       1.921\n",
      "Country_Name[T.Cisjordanie et Gaza]                      -0.9084      0.005   -199.498      0.000      -0.917      -0.899\n",
      "Country_Name[T.Colombie]                                 -0.1614      0.005    -35.440      0.000      -0.170      -0.152\n",
      "Country_Name[T.Congo, République démocratique du]        -2.4297      0.005   -533.598      0.000      -2.439      -2.421\n",
      "Country_Name[T.Corée, République de]                      1.6374      0.005    359.594      0.000       1.628       1.646\n",
      "Country_Name[T.Costa Rica]                                0.4831      0.005    106.084      0.000       0.474       0.492\n",
      "Country_Name[T.Croatie]                                   1.0804      0.005    237.259      0.000       1.071       1.089\n",
      "Country_Name[T.Côte d'Ivoire]                            -2.0232      0.005   -444.310      0.000      -2.032      -2.014\n",
      "Country_Name[T.Danemark]                                  1.9046      0.005    418.273      0.000       1.896       1.914\n",
      "Country_Name[T.El Salvador]                              -0.1588      0.005    -34.877      0.000      -0.168      -0.150\n",
      "Country_Name[T.Espagne]                                   1.5915      0.005    349.506      0.000       1.583       1.600\n",
      "Country_Name[T.Estonie]                                   1.0763      0.005    236.376      0.000       1.067       1.085\n",
      "Country_Name[T.Eswatini]                                 -1.8191      0.005   -399.492      0.000      -1.828      -1.810\n",
      "Country_Name[T.Fidji]                                    -0.3756      0.005    -82.487      0.000      -0.385      -0.367\n",
      "Country_Name[T.Finlande]                                  1.8525      0.005    406.823      0.000       1.844       1.861\n",
      "Country_Name[T.France]                                    1.9143      0.005    420.401      0.000       1.905       1.923\n",
      "Country_Name[T.Fédération de Russie]                      0.8698      0.005    191.025      0.000       0.861       0.879\n",
      "Country_Name[T.Ghana]                                    -1.4337      0.005   -314.856      0.000      -1.443      -1.425\n",
      "Country_Name[T.Grèce]                                     1.4605      0.005    320.731      0.000       1.452       1.469\n",
      "Country_Name[T.Guatemala]                                -0.6504      0.005   -142.838      0.000      -0.659      -0.641\n",
      "Country_Name[T.Guinée]                                   -1.4353      0.005   -315.216      0.000      -1.444      -1.426\n",
      "Country_Name[T.Géorgie]                                  -0.7701      0.005   -169.116      0.000      -0.779      -0.761\n",
      "Country_Name[T.Honduras]                                 -0.3368      0.005    -73.964      0.000      -0.346      -0.328\n",
      "Country_Name[T.Hongrie]                                   0.8714      0.005    191.364      0.000       0.862       0.880\n",
      "Country_Name[T.Inde]                                     -1.0703      0.005   -235.042      0.000      -1.079      -1.061\n",
      "Country_Name[T.Indonésie]                                -0.7483      0.005   -164.327      0.000      -0.757      -0.739\n",
      "Country_Name[T.Iran, République islamique d’]             0.6215      0.005    136.481      0.000       0.613       0.630\n",
      "Country_Name[T.Iraq]                                     -0.4996      0.005   -109.721      0.000      -0.509      -0.491\n",
      "Country_Name[T.Irlande]                                   1.9094      0.005    419.331      0.000       1.901       1.918\n",
      "Country_Name[T.Islande]                                   2.3437      0.005    514.709      0.000       2.335       2.353\n",
      "Country_Name[T.Israël]                                    1.2660      0.005    278.033      0.000       1.257       1.275\n",
      "Country_Name[T.Italie]                                    1.7134      0.005    376.274      0.000       1.704       1.722\n",
      "Country_Name[T.Japon]                                     1.8627      0.005    409.079      0.000       1.854       1.872\n",
      "Country_Name[T.Jordanie]                                  0.1202      0.005     26.406      0.000       0.111       0.129\n",
      "Country_Name[T.Kazakhstan]                               -0.1195      0.005    -26.236      0.000      -0.128      -0.111\n",
      "Country_Name[T.Kenya]                                    -1.6150      0.005   -354.670      0.000      -1.624      -1.606\n",
      "Country_Name[T.Kosovo]                                   -0.1949      0.005    -42.801      0.000      -0.204      -0.186\n",
      "Country_Name[T.Lettonie]                                  0.8733      0.005    191.782      0.000       0.864       0.882\n",
      "Country_Name[T.Libéria]                                  -1.5513      0.005   -340.686      0.000      -1.560      -1.542\n",
      "Country_Name[T.Lituanie]                                  0.8833      0.005    193.982      0.000       0.874       0.892\n",
      "Country_Name[T.Luxembourg]                                2.2757      0.005    499.757      0.000       2.267       2.285\n",
      "Country_Name[T.Macédoine du Nord]                         0.4527      0.005     99.419      0.000       0.444       0.462\n",
      "Country_Name[T.Madagascar]                               -2.2055      0.005   -484.359      0.000      -2.214      -2.197\n",
      "Country_Name[T.Malaisie]                                  0.6020      0.005    132.211      0.000       0.593       0.611\n",
      "Country_Name[T.Malawi]                                   -1.2427      0.005   -272.921      0.000      -1.252      -1.234\n",
      "Country_Name[T.Mali]                                     -1.3711      0.005   -301.097      0.000      -1.380      -1.362\n",
      "Country_Name[T.Maroc]                                    -0.2359      0.005    -51.800      0.000      -0.245      -0.227\n",
      "Country_Name[T.Mauritanie]                               -0.5000      0.005   -109.812      0.000      -0.509      -0.491\n",
      "Country_Name[T.Mexique]                                   0.0634      0.005     13.927      0.000       0.054       0.072\n",
      "Country_Name[T.Moldova]                                  -0.2055      0.005    -45.126      0.000      -0.214      -0.197\n",
      "Country_Name[T.Mongolie]                                 -0.1705      0.005    -37.443      0.000      -0.179      -0.162\n",
      "Country_Name[T.Monténégro]                                0.9298      0.005    204.193      0.000       0.921       0.939\n",
      "Country_Name[T.Mozambique]                               -1.5414      0.005   -338.507      0.000      -1.550      -1.532\n",
      "Country_Name[T.Nicaragua]                                -0.3327      0.005    -73.075      0.000      -0.342      -0.324\n",
      "Country_Name[T.Niger]                                    -1.4689      0.005   -322.589      0.000      -1.478      -1.460\n",
      "Country_Name[T.Nigéria]                                  -1.5596      0.005   -342.498      0.000      -1.568      -1.551\n",
      "Country_Name[T.Norvège]                                   2.1819      0.005    479.168      0.000       2.173       2.191\n",
      "Country_Name[T.Népal]                                    -1.0742      0.005   -235.916      0.000      -1.083      -1.065\n",
      "Country_Name[T.Ouganda]                                  -1.1269      0.005   -247.475      0.000      -1.136      -1.118\n",
      "Country_Name[T.Pakistan]                                 -1.0749      0.005   -236.067      0.000      -1.084      -1.066\n",
      "Country_Name[T.Panama]                                    0.3046      0.005     66.896      0.000       0.296       0.314\n",
      "Country_Name[T.Paraguay]                                 -0.1253      0.005    -27.516      0.000      -0.134      -0.116\n",
      "Country_Name[T.Pays-Bas]                                  1.9237      0.005    422.455      0.000       1.915       1.933\n",
      "Country_Name[T.Philippines]                              -0.7450      0.005   -163.603      0.000      -0.754      -0.736\n",
      "Country_Name[T.Pologne]                                   0.7514      0.005    165.005      0.000       0.742       0.760\n",
      "Country_Name[T.Portugal]                                  1.2795      0.005    280.997      0.000       1.271       1.288\n",
      "Country_Name[T.Pérou]                                    -0.0221      0.005     -4.850      0.000      -0.031      -0.013\n",
      "Country_Name[T.Roumanie]                                  0.1319      0.005     28.969      0.000       0.123       0.141\n",
      "Country_Name[T.Royaume-Uni]                               2.0641      0.005    453.303      0.000       2.055       2.073\n",
      "Country_Name[T.République arabe syrienne]                -1.3948      0.005   -306.322      0.000      -1.404      -1.386\n",
      "Country_Name[T.République centrafricaine]                -1.5870      0.005   -348.519      0.000      -1.596      -1.578\n",
      "Country_Name[T.République dominicaine]                    0.0157      0.005      3.439      0.001       0.007       0.025\n",
      "Country_Name[T.République démocratique populaire lao]    -1.0125      0.005   -222.366      0.000      -1.021      -1.004\n",
      "Country_Name[T.République kirghize]                      -0.4401      0.005    -96.644      0.000      -0.449      -0.431\n",
      "Country_Name[T.République slovaque]                       0.8861      0.005    194.597      0.000       0.877       0.895\n",
      "Country_Name[T.République tchèque]                        1.1881      0.005    260.926      0.000       1.179       1.197\n",
      "Country_Name[T.Serbie]                                    0.6507      0.005    142.906      0.000       0.642       0.660\n",
      "Country_Name[T.Slovénie]                                  1.5945      0.005    350.163      0.000       1.586       1.603\n",
      "Country_Name[T.Soudan]                                   -0.9289      0.005   -203.989      0.000      -0.938      -0.920\n",
      "Country_Name[T.Sri Lanka]                                -0.4453      0.005    -97.799      0.000      -0.454      -0.436\n",
      "Country_Name[T.Suède]                                     1.8610      0.005    408.705      0.000       1.852       1.870\n",
      "Country_Name[T.Tadjikistan]                              -0.2363      0.005    -51.890      0.000      -0.245      -0.227\n",
      "Country_Name[T.Tanzanie]                                 -1.5756      0.005   -346.015      0.000      -1.585      -1.567\n",
      "Country_Name[T.Thaïlande]                                -0.2087      0.005    -45.842      0.000      -0.218      -0.200\n",
      "Country_Name[T.Timor-Leste]                              -1.2938      0.005   -284.129      0.000      -1.303      -1.285\n",
      "Country_Name[T.Turquie]                                   0.6716      0.005    147.493      0.000       0.663       0.681\n",
      "Country_Name[T.Ukraine]                                   0.2936      0.005     64.484      0.000       0.285       0.303\n",
      "Country_Name[T.Uruguay]                                   0.4923      0.005    108.111      0.000       0.483       0.501\n",
      "Country_Name[T.Venezuela]                                 0.0077      0.005      1.683      0.092      -0.001       0.017\n",
      "Country_Name[T.Viet Nam]                                 -0.7244      0.005   -159.087      0.000      -0.733      -0.715\n",
      "Country_Name[T.Yémen, Rép. du]                           -1.0021      0.005   -220.064      0.000      -1.011      -0.993\n",
      "Country_Name[T.Égypte, République arabe d’]              -0.3134      0.005    -68.822      0.000      -0.322      -0.304\n",
      "Country_Name[T.Équateur]                                 -0.0668      0.005    -14.667      0.000      -0.076      -0.058\n",
      "Country_Name[T.États-Unis]                                2.0757      0.005    455.836      0.000       2.067       2.085\n",
      "==============================================================================\n",
      "Omnibus:                   362648.666   Durbin-Watson:                   0.391\n",
      "Prob(Omnibus):                  0.000   Jarque-Bera (JB):          1689402.519\n",
      "Skew:                          -0.066   Prob(JB):                         0.00\n",
      "Kurtosis:                       5.652   Cond. No.                         116.\n",
      "==============================================================================\n",
      "\n",
      "Notes:\n",
      "[1] Standard Errors assume that the covariance matrix of the errors is correctly specified.\n"
     ]
    }
   ],
   "source": [
    "#ANOVA avec income log (variable expliquée) et Country_Name(variable explicative)\n",
    "\n",
    "mod = ols('log_value_income~Country_Name',data=df_ANOVA).fit()\n",
    "# afficher le summary du modèle                \n",
    "print(mod.summary())"
   ]
  },
  {
   "cell_type": "markdown",
   "metadata": {},
   "source": [
    "# 2.3 ANOVA backward"
   ]
  },
  {
   "cell_type": "code",
   "execution_count": 140,
   "metadata": {},
   "outputs": [
    {
     "name": "stdout",
     "output_type": "stream",
     "text": [
      "                            OLS Regression Results                            \n",
      "==============================================================================\n",
      "Dep. Variable:       log_value_income   R-squared:                       0.729\n",
      "Model:                            OLS   Adj. R-squared:                  0.729\n",
      "Method:                 Least Squares   F-statistic:                 1.356e+05\n",
      "Date:                Tue, 13 Apr 2021   Prob (F-statistic):               0.00\n",
      "Time:                        17:01:30   Log-Likelihood:            -6.2078e+06\n",
      "No. Observations:             5700000   AIC:                         1.242e+07\n",
      "Df Residuals:                 5699886   BIC:                         1.242e+07\n",
      "Df Model:                         113                                         \n",
      "Covariance Type:            nonrobust                                         \n",
      "=========================================================================================================================\n",
      "                                                            coef    std err          t      P>|t|      [0.025      0.975]\n",
      "-------------------------------------------------------------------------------------------------------------------------\n",
      "Intercept                                                 7.7178      0.003   2400.065      0.000       7.711       7.724\n",
      "Country_Name[T.Albanie]                                   0.1340      0.005     29.458      0.000       0.125       0.143\n",
      "Country_Name[T.Allemagne]                                 1.9224      0.005    422.738      0.000       1.914       1.931\n",
      "Country_Name[T.Argentine]                                 0.5843      0.005    128.485      0.000       0.575       0.593\n",
      "Country_Name[T.Arménie]                                  -0.4358      0.005    -95.831      0.000      -0.445      -0.427\n",
      "Country_Name[T.Autriche]                                  1.8722      0.005    411.692      0.000       1.863       1.881\n",
      "Country_Name[T.Azerbaïdjan]                              -0.1139      0.005    -25.036      0.000      -0.123      -0.105\n",
      "Country_Name[T.Bangladesh]                               -0.9732      0.005   -213.992      0.000      -0.982      -0.964\n",
      "Country_Name[T.Belgique]                                  1.7596      0.005    386.927      0.000       1.751       1.769\n",
      "Country_Name[T.Bhoutan]                                  -0.6330      0.005   -139.190      0.000      -0.642      -0.624\n",
      "Country_Name[T.Bolivie]                                  -0.3587      0.005    -78.880      0.000      -0.368      -0.350\n",
      "Country_Name[T.Bosnie-Herzégovine]                        0.8220      0.005    180.758      0.000       0.813       0.831\n",
      "Country_Name[T.Brésil]                                    0.2129      0.005     46.811      0.000       0.204       0.222\n",
      "Country_Name[T.Bulgarie]                                  0.5574      0.005    122.570      0.000       0.548       0.566\n",
      "Country_Name[T.Burkina Faso]                             -1.1579      0.005   -254.620      0.000      -1.167      -1.149\n",
      "Country_Name[T.Bélarus]                                   0.4398      0.005     96.713      0.000       0.431       0.449\n",
      "Country_Name[T.Cambodge]                                 -0.5732      0.005   -126.050      0.000      -0.582      -0.564\n",
      "Country_Name[T.Cameroun]                                 -0.4722      0.005   -103.826      0.000      -0.481      -0.463\n",
      "Country_Name[T.Canada]                                    2.0967      0.005    461.066      0.000       2.088       2.106\n",
      "Country_Name[T.Chili]                                     0.6447      0.005    141.760      0.000       0.636       0.654\n",
      "Country_Name[T.Chine]                                    -0.3198      0.005    -70.322      0.000      -0.329      -0.311\n",
      "Country_Name[T.Chypre]                                    1.9122      0.005    420.478      0.000       1.903       1.921\n",
      "Country_Name[T.Cisjordanie et Gaza]                      -0.9084      0.005   -199.757      0.000      -0.917      -0.900\n",
      "Country_Name[T.Colombie]                                 -0.1614      0.005    -35.486      0.000      -0.170      -0.152\n",
      "Country_Name[T.Congo, République démocratique du]        -2.4297      0.005   -534.292      0.000      -2.439      -2.421\n",
      "Country_Name[T.Corée, République de]                      1.6374      0.005    360.061      0.000       1.629       1.646\n",
      "Country_Name[T.Costa Rica]                                0.4831      0.005    106.222      0.000       0.474       0.492\n",
      "Country_Name[T.Croatie]                                   1.0804      0.005    237.568      0.000       1.071       1.089\n",
      "Country_Name[T.Côte d'Ivoire]                            -2.0232      0.005   -444.888      0.000      -2.032      -2.014\n",
      "Country_Name[T.Danemark]                                  1.9046      0.005    418.817      0.000       1.896       1.914\n",
      "Country_Name[T.El Salvador]                              -0.1588      0.005    -34.923      0.000      -0.168      -0.150\n",
      "Country_Name[T.Espagne]                                   1.5915      0.005    349.961      0.000       1.583       1.600\n",
      "Country_Name[T.Estonie]                                   1.0763      0.005    236.683      0.000       1.067       1.085\n",
      "Country_Name[T.Eswatini]                                 -1.8191      0.005   -400.011      0.000      -1.828      -1.810\n",
      "Country_Name[T.Fidji]                                    -0.3756      0.005    -82.594      0.000      -0.385      -0.367\n",
      "Country_Name[T.Finlande]                                  1.8525      0.005    407.352      0.000       1.844       1.861\n",
      "Country_Name[T.France]                                    1.9143      0.005    420.948      0.000       1.905       1.923\n",
      "Country_Name[T.Fédération de Russie]                      0.8698      0.005    191.274      0.000       0.861       0.879\n",
      "Country_Name[T.Ghana]                                    -1.4337      0.005   -315.265      0.000      -1.443      -1.425\n",
      "Country_Name[T.Grèce]                                     1.4605      0.005    321.148      0.000       1.452       1.469\n",
      "Country_Name[T.Guatemala]                                -0.6504      0.005   -143.024      0.000      -0.659      -0.642\n",
      "Country_Name[T.Guinée]                                   -1.4353      0.005   -315.626      0.000      -1.444      -1.426\n",
      "Country_Name[T.Géorgie]                                  -0.7701      0.005   -169.336      0.000      -0.779      -0.761\n",
      "Country_Name[T.Honduras]                                 -0.3368      0.005    -74.060      0.000      -0.346      -0.328\n",
      "Country_Name[T.Hongrie]                                   0.8714      0.005    191.612      0.000       0.862       0.880\n",
      "Country_Name[T.Inde]                                     -1.0703      0.005   -235.347      0.000      -1.079      -1.061\n",
      "Country_Name[T.Indonésie]                                -0.7483      0.005   -164.541      0.000      -0.757      -0.739\n",
      "Country_Name[T.Iran, République islamique d’]             0.6215      0.005    136.658      0.000       0.613       0.630\n",
      "Country_Name[T.Iraq]                                     -0.4996      0.005   -109.864      0.000      -0.509      -0.491\n",
      "Country_Name[T.Irlande]                                   1.9094      0.005    419.876      0.000       1.901       1.918\n",
      "Country_Name[T.Islande]                                   2.3437      0.005    515.378      0.000       2.335       2.353\n",
      "Country_Name[T.Israël]                                    1.2660      0.005    278.394      0.000       1.257       1.275\n",
      "Country_Name[T.Italie]                                    1.7134      0.005    376.764      0.000       1.704       1.722\n",
      "Country_Name[T.Japon]                                     1.8627      0.005    409.611      0.000       1.854       1.872\n",
      "Country_Name[T.Jordanie]                                  0.1202      0.005     26.441      0.000       0.111       0.129\n",
      "Country_Name[T.Kazakhstan]                               -0.1195      0.005    -26.270      0.000      -0.128      -0.111\n",
      "Country_Name[T.Kenya]                                    -1.6150      0.005   -355.132      0.000      -1.624      -1.606\n",
      "Country_Name[T.Kosovo]                                   -0.1949      0.005    -42.857      0.000      -0.204      -0.186\n",
      "Country_Name[T.Lettonie]                                  0.8733      0.005    192.031      0.000       0.864       0.882\n",
      "Country_Name[T.Libéria]                                  -1.5513      0.005   -341.129      0.000      -1.560      -1.542\n",
      "Country_Name[T.Lituanie]                                  0.8833      0.005    194.234      0.000       0.874       0.892\n",
      "Country_Name[T.Luxembourg]                                2.2757      0.005    500.407      0.000       2.267       2.285\n",
      "Country_Name[T.Macédoine du Nord]                         0.4527      0.005     99.548      0.000       0.444       0.462\n",
      "Country_Name[T.Madagascar]                               -2.2055      0.005   -484.989      0.000      -2.214      -2.197\n",
      "Country_Name[T.Malaisie]                                  0.6020      0.005    132.383      0.000       0.593       0.611\n",
      "Country_Name[T.Malawi]                                   -1.2427      0.005   -273.276      0.000      -1.252      -1.234\n",
      "Country_Name[T.Mali]                                     -1.3711      0.005   -301.489      0.000      -1.380      -1.362\n",
      "Country_Name[T.Maroc]                                    -0.2359      0.005    -51.867      0.000      -0.245      -0.227\n",
      "Country_Name[T.Mauritanie]                               -0.5000      0.005   -109.955      0.000      -0.509      -0.491\n",
      "Country_Name[T.Mexique]                                   0.0634      0.005     13.945      0.000       0.055       0.072\n",
      "Country_Name[T.Moldova]                                  -0.2055      0.005    -45.184      0.000      -0.214      -0.197\n",
      "Country_Name[T.Mongolie]                                 -0.1705      0.005    -37.492      0.000      -0.179      -0.162\n",
      "Country_Name[T.Monténégro]                                0.9298      0.005    204.458      0.000       0.921       0.939\n",
      "Country_Name[T.Mozambique]                               -1.5414      0.005   -338.947      0.000      -1.550      -1.532\n",
      "Country_Name[T.Nicaragua]                                -0.3327      0.005    -73.170      0.000      -0.342      -0.324\n",
      "Country_Name[T.Niger]                                    -1.4689      0.005   -323.009      0.000      -1.478      -1.460\n",
      "Country_Name[T.Nigéria]                                  -1.5596      0.005   -342.943      0.000      -1.568      -1.551\n",
      "Country_Name[T.Norvège]                                   2.1819      0.005    479.791      0.000       2.173       2.191\n",
      "Country_Name[T.Népal]                                    -1.0742      0.005   -236.223      0.000      -1.083      -1.065\n",
      "Country_Name[T.Ouganda]                                  -1.1269      0.005   -247.797      0.000      -1.136      -1.118\n",
      "Country_Name[T.Pakistan]                                 -1.0749      0.005   -236.374      0.000      -1.084      -1.066\n",
      "Country_Name[T.Panama]                                    0.3046      0.005     66.983      0.000       0.296       0.314\n",
      "Country_Name[T.Paraguay]                                 -0.1253      0.005    -27.552      0.000      -0.134      -0.116\n",
      "Country_Name[T.Pays-Bas]                                  1.9237      0.005    423.004      0.000       1.915       1.933\n",
      "Country_Name[T.Philippines]                              -0.7450      0.005   -163.816      0.000      -0.754      -0.736\n",
      "Country_Name[T.Pologne]                                   0.7514      0.005    165.219      0.000       0.742       0.760\n",
      "Country_Name[T.Portugal]                                  1.2795      0.005    281.362      0.000       1.271       1.288\n",
      "Country_Name[T.Pérou]                                    -0.0221      0.005     -4.856      0.000      -0.031      -0.013\n",
      "Country_Name[T.Roumanie]                                  0.1319      0.005     29.007      0.000       0.123       0.141\n",
      "Country_Name[T.Royaume-Uni]                               2.0641      0.005    453.892      0.000       2.055       2.073\n",
      "Country_Name[T.République arabe syrienne]                -1.3948      0.005   -306.721      0.000      -1.404      -1.386\n",
      "Country_Name[T.République centrafricaine]                -1.5870      0.005   -348.973      0.000      -1.596      -1.578\n",
      "Country_Name[T.République dominicaine]                    0.0157      0.005      3.443      0.001       0.007       0.025\n",
      "Country_Name[T.République démocratique populaire lao]    -1.0125      0.005   -222.655      0.000      -1.021      -1.004\n",
      "Country_Name[T.République kirghize]                      -0.4401      0.005    -96.770      0.000      -0.449      -0.431\n",
      "Country_Name[T.République slovaque]                       0.8861      0.005    194.850      0.000       0.877       0.895\n",
      "Country_Name[T.République tchèque]                        1.1881      0.005    261.265      0.000       1.179       1.197\n",
      "Country_Name[T.Serbie]                                    0.6507      0.005    143.091      0.000       0.642       0.660\n",
      "Country_Name[T.Slovénie]                                  1.5945      0.005    350.619      0.000       1.586       1.603\n",
      "Country_Name[T.Soudan]                                   -0.9289      0.005   -204.255      0.000      -0.938      -0.920\n",
      "Country_Name[T.Sri Lanka]                                -0.4453      0.005    -97.926      0.000      -0.454      -0.436\n",
      "Country_Name[T.Suède]                                     1.8610      0.005    409.237      0.000       1.852       1.870\n",
      "Country_Name[T.Tadjikistan]                              -0.2363      0.005    -51.957      0.000      -0.245      -0.227\n",
      "Country_Name[T.Tanzanie]                                 -1.5756      0.005   -346.465      0.000      -1.584      -1.567\n",
      "Country_Name[T.Thaïlande]                                -0.2087      0.005    -45.902      0.000      -0.218      -0.200\n",
      "Country_Name[T.Timor-Leste]                              -1.2938      0.005   -284.499      0.000      -1.303      -1.285\n",
      "Country_Name[T.Turquie]                                   0.6716      0.005    147.685      0.000       0.663       0.681\n",
      "Country_Name[T.Ukraine]                                   0.2936      0.005     64.568      0.000       0.285       0.303\n",
      "Country_Name[T.Uruguay]                                   0.4923      0.005    108.252      0.000       0.483       0.501\n",
      "Country_Name[T.Viet Nam]                                 -0.7244      0.005   -159.294      0.000      -0.733      -0.715\n",
      "Country_Name[T.Yémen, Rép. du]                           -1.0021      0.005   -220.350      0.000      -1.011      -0.993\n",
      "Country_Name[T.Égypte, République arabe d’]              -0.3134      0.005    -68.912      0.000      -0.322      -0.304\n",
      "Country_Name[T.Équateur]                                 -0.0668      0.005    -14.686      0.000      -0.076      -0.058\n",
      "Country_Name[T.États-Unis]                                2.0757      0.005    456.429      0.000       2.067       2.085\n",
      "==============================================================================\n",
      "Omnibus:                   362836.556   Durbin-Watson:                   0.391\n",
      "Prob(Omnibus):                  0.000   Jarque-Bera (JB):          1706911.387\n",
      "Skew:                          -0.065   Prob(JB):                         0.00\n",
      "Kurtosis:                       5.678   Cond. No.                         115.\n",
      "==============================================================================\n",
      "\n",
      "Notes:\n",
      "[1] Standard Errors assume that the covariance matrix of the errors is correctly specified.\n"
     ]
    }
   ],
   "source": [
    "# supprimer Venezuela car p value (0.092) > seuil significativité alpha 5%\n",
    "ANOVA_backward1 = df_ANOVA[df_ANOVA['Country_Name']!='Venezuela']\n",
    "\n",
    "#ANOVA avec income log (variable expliquée) et Country_Name(variable explicative)\n",
    "\n",
    "mod2 = ols('log_value_income~Country_Name',data=ANOVA_backward1).fit()\n",
    "# afficher le summary du modèle                \n",
    "print(mod2.summary())"
   ]
  },
  {
   "cell_type": "markdown",
   "metadata": {},
   "source": [
    "# 3 Regression multiple"
   ]
  },
  {
   "cell_type": "code",
   "execution_count": 124,
   "metadata": {},
   "outputs": [
    {
     "name": "stdout",
     "output_type": "stream",
     "text": [
      "115\n",
      "(5750000, 12)\n"
     ]
    },
    {
     "data": {
      "text/html": [
       "<div>\n",
       "<style scoped>\n",
       "    .dataframe tbody tr th:only-of-type {\n",
       "        vertical-align: middle;\n",
       "    }\n",
       "\n",
       "    .dataframe tbody tr th {\n",
       "        vertical-align: top;\n",
       "    }\n",
       "\n",
       "    .dataframe thead th {\n",
       "        text-align: right;\n",
       "    }\n",
       "</style>\n",
       "<table border=\"1\" class=\"dataframe\">\n",
       "  <thead>\n",
       "    <tr style=\"text-align: right;\">\n",
       "      <th></th>\n",
       "      <th>Country_Code</th>\n",
       "      <th>Country_Name</th>\n",
       "      <th>year_survey</th>\n",
       "      <th>quantile</th>\n",
       "      <th>C_i_parent</th>\n",
       "      <th>nb_quantiles</th>\n",
       "      <th>income</th>\n",
       "      <th>log_value_income</th>\n",
       "      <th>values_gini</th>\n",
       "      <th>coeff_elastique</th>\n",
       "      <th>values_pop</th>\n",
       "      <th>gdpppp</th>\n",
       "    </tr>\n",
       "  </thead>\n",
       "  <tbody>\n",
       "    <tr>\n",
       "      <th>0</th>\n",
       "      <td>ALB</td>\n",
       "      <td>Albanie</td>\n",
       "      <td>2008</td>\n",
       "      <td>1</td>\n",
       "      <td>1</td>\n",
       "      <td>100</td>\n",
       "      <td>728.89795</td>\n",
       "      <td>6.591534</td>\n",
       "      <td>30.0</td>\n",
       "      <td>0.4</td>\n",
       "      <td>2947314.0</td>\n",
       "      <td>7297.0</td>\n",
       "    </tr>\n",
       "    <tr>\n",
       "      <th>1</th>\n",
       "      <td>ALB</td>\n",
       "      <td>Albanie</td>\n",
       "      <td>2008</td>\n",
       "      <td>2</td>\n",
       "      <td>1</td>\n",
       "      <td>100</td>\n",
       "      <td>916.66235</td>\n",
       "      <td>6.820739</td>\n",
       "      <td>30.0</td>\n",
       "      <td>0.4</td>\n",
       "      <td>2947314.0</td>\n",
       "      <td>7297.0</td>\n",
       "    </tr>\n",
       "    <tr>\n",
       "      <th>2</th>\n",
       "      <td>ALB</td>\n",
       "      <td>Albanie</td>\n",
       "      <td>2008</td>\n",
       "      <td>3</td>\n",
       "      <td>1</td>\n",
       "      <td>100</td>\n",
       "      <td>1010.91600</td>\n",
       "      <td>6.918612</td>\n",
       "      <td>30.0</td>\n",
       "      <td>0.4</td>\n",
       "      <td>2947314.0</td>\n",
       "      <td>7297.0</td>\n",
       "    </tr>\n",
       "    <tr>\n",
       "      <th>3</th>\n",
       "      <td>ALB</td>\n",
       "      <td>Albanie</td>\n",
       "      <td>2008</td>\n",
       "      <td>4</td>\n",
       "      <td>1</td>\n",
       "      <td>100</td>\n",
       "      <td>1086.90780</td>\n",
       "      <td>6.991092</td>\n",
       "      <td>30.0</td>\n",
       "      <td>0.4</td>\n",
       "      <td>2947314.0</td>\n",
       "      <td>7297.0</td>\n",
       "    </tr>\n",
       "    <tr>\n",
       "      <th>4</th>\n",
       "      <td>ALB</td>\n",
       "      <td>Albanie</td>\n",
       "      <td>2008</td>\n",
       "      <td>5</td>\n",
       "      <td>1</td>\n",
       "      <td>100</td>\n",
       "      <td>1132.69970</td>\n",
       "      <td>7.032359</td>\n",
       "      <td>30.0</td>\n",
       "      <td>0.4</td>\n",
       "      <td>2947314.0</td>\n",
       "      <td>7297.0</td>\n",
       "    </tr>\n",
       "  </tbody>\n",
       "</table>\n",
       "</div>"
      ],
      "text/plain": [
       "  Country_Code Country_Name  year_survey  quantile  C_i_parent  nb_quantiles  \\\n",
       "0          ALB      Albanie         2008         1           1           100   \n",
       "1          ALB      Albanie         2008         2           1           100   \n",
       "2          ALB      Albanie         2008         3           1           100   \n",
       "3          ALB      Albanie         2008         4           1           100   \n",
       "4          ALB      Albanie         2008         5           1           100   \n",
       "\n",
       "       income  log_value_income  values_gini  coeff_elastique  values_pop  \\\n",
       "0   728.89795          6.591534         30.0              0.4   2947314.0   \n",
       "1   916.66235          6.820739         30.0              0.4   2947314.0   \n",
       "2  1010.91600          6.918612         30.0              0.4   2947314.0   \n",
       "3  1086.90780          6.991092         30.0              0.4   2947314.0   \n",
       "4  1132.69970          7.032359         30.0              0.4   2947314.0   \n",
       "\n",
       "   gdpppp  \n",
       "0  7297.0  \n",
       "1  7297.0  \n",
       "2  7297.0  \n",
       "3  7297.0  \n",
       "4  7297.0  "
      ]
     },
     "execution_count": 124,
     "metadata": {},
     "output_type": "execute_result"
    }
   ],
   "source": [
    "#importer le fichier pour la mission 4\n",
    "DF_M4 = pd.read_csv('df_M4.csv')\n",
    "#Vérifier les pays uniques \n",
    "print(DF_M4['Country_Name'].nunique())\n",
    "#dimensions DF_M4\n",
    "print(DF_M4.shape)\n",
    "DF_M4.head()"
   ]
  },
  {
   "cell_type": "code",
   "execution_count": 125,
   "metadata": {},
   "outputs": [
    {
     "name": "stdout",
     "output_type": "stream",
     "text": [
      "(115, 2)\n"
     ]
    },
    {
     "data": {
      "text/html": [
       "<div>\n",
       "<style scoped>\n",
       "    .dataframe tbody tr th:only-of-type {\n",
       "        vertical-align: middle;\n",
       "    }\n",
       "\n",
       "    .dataframe tbody tr th {\n",
       "        vertical-align: top;\n",
       "    }\n",
       "\n",
       "    .dataframe thead th {\n",
       "        text-align: right;\n",
       "    }\n",
       "</style>\n",
       "<table border=\"1\" class=\"dataframe\">\n",
       "  <thead>\n",
       "    <tr style=\"text-align: right;\">\n",
       "      <th></th>\n",
       "      <th>Country_Name</th>\n",
       "      <th>income_moyen</th>\n",
       "    </tr>\n",
       "  </thead>\n",
       "  <tbody>\n",
       "    <tr>\n",
       "      <th>52</th>\n",
       "      <td>Italie</td>\n",
       "      <td>14925.214922</td>\n",
       "    </tr>\n",
       "    <tr>\n",
       "      <th>113</th>\n",
       "      <td>Équateur</td>\n",
       "      <td>3383.741001</td>\n",
       "    </tr>\n",
       "    <tr>\n",
       "      <th>114</th>\n",
       "      <td>États-Unis</td>\n",
       "      <td>25503.581661</td>\n",
       "    </tr>\n",
       "    <tr>\n",
       "      <th>47</th>\n",
       "      <td>Iran, République islamique d’</td>\n",
       "      <td>5832.655501</td>\n",
       "    </tr>\n",
       "    <tr>\n",
       "      <th>5</th>\n",
       "      <td>Autriche</td>\n",
       "      <td>16637.600204</td>\n",
       "    </tr>\n",
       "  </tbody>\n",
       "</table>\n",
       "</div>"
      ],
      "text/plain": [
       "                      Country_Name  income_moyen\n",
       "52                          Italie  14925.214922\n",
       "113                       Équateur   3383.741001\n",
       "114                     États-Unis  25503.581661\n",
       "47   Iran, République islamique d’   5832.655501\n",
       "5                         Autriche  16637.600204"
      ]
     },
     "execution_count": 125,
     "metadata": {},
     "output_type": "execute_result"
    }
   ],
   "source": [
    "# Création colonne revenus moyens des pays \n",
    "df_revenus_moyen_pays = DF_M4.groupby(by=\"Country_Name\").mean()\n",
    "df_revenus_moyen_pays = df_revenus_moyen_pays.reset_index()\n",
    "\n",
    "\n",
    "# Séléctionner le revenu moyen du pays (income) et le pays \n",
    "df_revenus_moyen_pays1 = df_revenus_moyen_pays[['Country_Name','income']].reset_index()\n",
    "# renomer colonne income en income moyen\n",
    "df_revenus_moyen_pays1 = df_revenus_moyen_pays1.rename(columns={'income':'income_moyen'})\n",
    "df_revenus_moyen_pays1.drop(columns='index', inplace=True )\n",
    "print(df_revenus_moyen_pays1.shape)\n",
    "df_revenus_moyen_pays1.sample(5)\n"
   ]
  },
  {
   "cell_type": "code",
   "execution_count": 126,
   "metadata": {},
   "outputs": [
    {
     "data": {
      "text/html": [
       "<div>\n",
       "<style scoped>\n",
       "    .dataframe tbody tr th:only-of-type {\n",
       "        vertical-align: middle;\n",
       "    }\n",
       "\n",
       "    .dataframe tbody tr th {\n",
       "        vertical-align: top;\n",
       "    }\n",
       "\n",
       "    .dataframe thead th {\n",
       "        text-align: right;\n",
       "    }\n",
       "</style>\n",
       "<table border=\"1\" class=\"dataframe\">\n",
       "  <thead>\n",
       "    <tr style=\"text-align: right;\">\n",
       "      <th></th>\n",
       "      <th>Country_Name</th>\n",
       "      <th>values_gini</th>\n",
       "    </tr>\n",
       "  </thead>\n",
       "  <tbody>\n",
       "    <tr>\n",
       "      <th>0</th>\n",
       "      <td>Albanie</td>\n",
       "      <td>30.0</td>\n",
       "    </tr>\n",
       "    <tr>\n",
       "      <th>1</th>\n",
       "      <td>Albanie</td>\n",
       "      <td>30.0</td>\n",
       "    </tr>\n",
       "    <tr>\n",
       "      <th>2</th>\n",
       "      <td>Albanie</td>\n",
       "      <td>30.0</td>\n",
       "    </tr>\n",
       "    <tr>\n",
       "      <th>3</th>\n",
       "      <td>Albanie</td>\n",
       "      <td>30.0</td>\n",
       "    </tr>\n",
       "    <tr>\n",
       "      <th>4</th>\n",
       "      <td>Albanie</td>\n",
       "      <td>30.0</td>\n",
       "    </tr>\n",
       "  </tbody>\n",
       "</table>\n",
       "</div>"
      ],
      "text/plain": [
       "  Country_Name  values_gini\n",
       "0      Albanie         30.0\n",
       "1      Albanie         30.0\n",
       "2      Albanie         30.0\n",
       "3      Albanie         30.0\n",
       "4      Albanie         30.0"
      ]
     },
     "execution_count": 126,
     "metadata": {},
     "output_type": "execute_result"
    }
   ],
   "source": [
    "#selectionner les pays et ces values Gini\n",
    "df_gini = DF_M4[['Country_Name','values_gini']]\n",
    "df_gini.head()"
   ]
  },
  {
   "cell_type": "code",
   "execution_count": 127,
   "metadata": {},
   "outputs": [
    {
     "name": "stdout",
     "output_type": "stream",
     "text": [
      "(5750000, 3)\n"
     ]
    },
    {
     "data": {
      "text/html": [
       "<div>\n",
       "<style scoped>\n",
       "    .dataframe tbody tr th:only-of-type {\n",
       "        vertical-align: middle;\n",
       "    }\n",
       "\n",
       "    .dataframe tbody tr th {\n",
       "        vertical-align: top;\n",
       "    }\n",
       "\n",
       "    .dataframe thead th {\n",
       "        text-align: right;\n",
       "    }\n",
       "</style>\n",
       "<table border=\"1\" class=\"dataframe\">\n",
       "  <thead>\n",
       "    <tr style=\"text-align: right;\">\n",
       "      <th></th>\n",
       "      <th>Country_Name</th>\n",
       "      <th>values_gini</th>\n",
       "      <th>income_moyen</th>\n",
       "    </tr>\n",
       "  </thead>\n",
       "  <tbody>\n",
       "    <tr>\n",
       "      <th>0</th>\n",
       "      <td>Albanie</td>\n",
       "      <td>30.0</td>\n",
       "      <td>2994.829902</td>\n",
       "    </tr>\n",
       "    <tr>\n",
       "      <th>1</th>\n",
       "      <td>Albanie</td>\n",
       "      <td>30.0</td>\n",
       "      <td>2994.829902</td>\n",
       "    </tr>\n",
       "    <tr>\n",
       "      <th>2</th>\n",
       "      <td>Albanie</td>\n",
       "      <td>30.0</td>\n",
       "      <td>2994.829902</td>\n",
       "    </tr>\n",
       "    <tr>\n",
       "      <th>3</th>\n",
       "      <td>Albanie</td>\n",
       "      <td>30.0</td>\n",
       "      <td>2994.829902</td>\n",
       "    </tr>\n",
       "    <tr>\n",
       "      <th>4</th>\n",
       "      <td>Albanie</td>\n",
       "      <td>30.0</td>\n",
       "      <td>2994.829902</td>\n",
       "    </tr>\n",
       "  </tbody>\n",
       "</table>\n",
       "</div>"
      ],
      "text/plain": [
       "  Country_Name  values_gini  income_moyen\n",
       "0      Albanie         30.0   2994.829902\n",
       "1      Albanie         30.0   2994.829902\n",
       "2      Albanie         30.0   2994.829902\n",
       "3      Albanie         30.0   2994.829902\n",
       "4      Albanie         30.0   2994.829902"
      ]
     },
     "execution_count": 127,
     "metadata": {},
     "output_type": "execute_result"
    }
   ],
   "source": [
    "# merge entre df_gini et le df_revenu moyen pays\n",
    "df_regression1 = df_gini.merge(df_revenus_moyen_pays1, how='left', on='Country_Name')\n",
    "# dimensions de df_regression1\n",
    "print(df_regression1.shape)\n",
    "df_regression1.head()\n"
   ]
  },
  {
   "cell_type": "code",
   "execution_count": 128,
   "metadata": {},
   "outputs": [],
   "source": [
    "# Transormation log variable income  \n",
    "df_regression1['log_value_income_moyen'] = np.log(df_regression1['income_moyen'])"
   ]
  },
  {
   "cell_type": "code",
   "execution_count": 129,
   "metadata": {},
   "outputs": [
    {
     "data": {
      "text/html": [
       "<div>\n",
       "<style scoped>\n",
       "    .dataframe tbody tr th:only-of-type {\n",
       "        vertical-align: middle;\n",
       "    }\n",
       "\n",
       "    .dataframe tbody tr th {\n",
       "        vertical-align: top;\n",
       "    }\n",
       "\n",
       "    .dataframe thead th {\n",
       "        text-align: right;\n",
       "    }\n",
       "</style>\n",
       "<table border=\"1\" class=\"dataframe\">\n",
       "  <thead>\n",
       "    <tr style=\"text-align: right;\">\n",
       "      <th></th>\n",
       "      <th>income</th>\n",
       "      <th>log_value_income</th>\n",
       "      <th>C_i_parent</th>\n",
       "    </tr>\n",
       "  </thead>\n",
       "  <tbody>\n",
       "    <tr>\n",
       "      <th>0</th>\n",
       "      <td>728.89795</td>\n",
       "      <td>6.591534</td>\n",
       "      <td>1</td>\n",
       "    </tr>\n",
       "    <tr>\n",
       "      <th>1</th>\n",
       "      <td>916.66235</td>\n",
       "      <td>6.820739</td>\n",
       "      <td>1</td>\n",
       "    </tr>\n",
       "    <tr>\n",
       "      <th>2</th>\n",
       "      <td>1010.91600</td>\n",
       "      <td>6.918612</td>\n",
       "      <td>1</td>\n",
       "    </tr>\n",
       "    <tr>\n",
       "      <th>3</th>\n",
       "      <td>1086.90780</td>\n",
       "      <td>6.991092</td>\n",
       "      <td>1</td>\n",
       "    </tr>\n",
       "    <tr>\n",
       "      <th>4</th>\n",
       "      <td>1132.69970</td>\n",
       "      <td>7.032359</td>\n",
       "      <td>1</td>\n",
       "    </tr>\n",
       "  </tbody>\n",
       "</table>\n",
       "</div>"
      ],
      "text/plain": [
       "       income  log_value_income  C_i_parent\n",
       "0   728.89795          6.591534           1\n",
       "1   916.66235          6.820739           1\n",
       "2  1010.91600          6.918612           1\n",
       "3  1086.90780          6.991092           1\n",
       "4  1132.69970          7.032359           1"
      ]
     },
     "execution_count": 129,
     "metadata": {},
     "output_type": "execute_result"
    }
   ],
   "source": [
    "#Séletionner les colonnes 'Country_Name','income','log_value_income','C_i_parent'\n",
    "df2_regression1 = DF_M4[['income','log_value_income','C_i_parent' ]]\n",
    "df2_regression1.head()"
   ]
  },
  {
   "cell_type": "code",
   "execution_count": 130,
   "metadata": {},
   "outputs": [
    {
     "data": {
      "text/html": [
       "<div>\n",
       "<style scoped>\n",
       "    .dataframe tbody tr th:only-of-type {\n",
       "        vertical-align: middle;\n",
       "    }\n",
       "\n",
       "    .dataframe tbody tr th {\n",
       "        vertical-align: top;\n",
       "    }\n",
       "\n",
       "    .dataframe thead th {\n",
       "        text-align: right;\n",
       "    }\n",
       "</style>\n",
       "<table border=\"1\" class=\"dataframe\">\n",
       "  <thead>\n",
       "    <tr style=\"text-align: right;\">\n",
       "      <th></th>\n",
       "      <th>Country_Name</th>\n",
       "      <th>values_gini</th>\n",
       "      <th>income_moyen</th>\n",
       "      <th>log_value_income_moyen</th>\n",
       "      <th>income</th>\n",
       "      <th>log_value_income</th>\n",
       "      <th>C_i_parent</th>\n",
       "    </tr>\n",
       "  </thead>\n",
       "  <tbody>\n",
       "    <tr>\n",
       "      <th>0</th>\n",
       "      <td>Albanie</td>\n",
       "      <td>30.0</td>\n",
       "      <td>2994.829902</td>\n",
       "      <td>8.004643</td>\n",
       "      <td>728.89795</td>\n",
       "      <td>6.591534</td>\n",
       "      <td>1</td>\n",
       "    </tr>\n",
       "    <tr>\n",
       "      <th>1</th>\n",
       "      <td>Albanie</td>\n",
       "      <td>30.0</td>\n",
       "      <td>2994.829902</td>\n",
       "      <td>8.004643</td>\n",
       "      <td>916.66235</td>\n",
       "      <td>6.820739</td>\n",
       "      <td>1</td>\n",
       "    </tr>\n",
       "    <tr>\n",
       "      <th>2</th>\n",
       "      <td>Albanie</td>\n",
       "      <td>30.0</td>\n",
       "      <td>2994.829902</td>\n",
       "      <td>8.004643</td>\n",
       "      <td>1010.91600</td>\n",
       "      <td>6.918612</td>\n",
       "      <td>1</td>\n",
       "    </tr>\n",
       "    <tr>\n",
       "      <th>3</th>\n",
       "      <td>Albanie</td>\n",
       "      <td>30.0</td>\n",
       "      <td>2994.829902</td>\n",
       "      <td>8.004643</td>\n",
       "      <td>1086.90780</td>\n",
       "      <td>6.991092</td>\n",
       "      <td>1</td>\n",
       "    </tr>\n",
       "    <tr>\n",
       "      <th>4</th>\n",
       "      <td>Albanie</td>\n",
       "      <td>30.0</td>\n",
       "      <td>2994.829902</td>\n",
       "      <td>8.004643</td>\n",
       "      <td>1132.69970</td>\n",
       "      <td>7.032359</td>\n",
       "      <td>1</td>\n",
       "    </tr>\n",
       "  </tbody>\n",
       "</table>\n",
       "</div>"
      ],
      "text/plain": [
       "  Country_Name  values_gini  income_moyen  log_value_income_moyen      income  \\\n",
       "0      Albanie         30.0   2994.829902                8.004643   728.89795   \n",
       "1      Albanie         30.0   2994.829902                8.004643   916.66235   \n",
       "2      Albanie         30.0   2994.829902                8.004643  1010.91600   \n",
       "3      Albanie         30.0   2994.829902                8.004643  1086.90780   \n",
       "4      Albanie         30.0   2994.829902                8.004643  1132.69970   \n",
       "\n",
       "   log_value_income  C_i_parent  \n",
       "0          6.591534           1  \n",
       "1          6.820739           1  \n",
       "2          6.918612           1  \n",
       "3          6.991092           1  \n",
       "4          7.032359           1  "
      ]
     },
     "execution_count": 130,
     "metadata": {},
     "output_type": "execute_result"
    }
   ],
   "source": [
    "# voir tete du df et concaténations entre df_regression1, df2_regression1\n",
    "df_regression1_final = pd.concat([df_regression1, df2_regression1], axis=1)\n",
    "df_regression1_final.head()"
   ]
  },
  {
   "cell_type": "code",
   "execution_count": 131,
   "metadata": {},
   "outputs": [],
   "source": [
    "#Création df_geo pour la carte du monde \n",
    "df_geo = df_revenus_moyen_pays1.merge(DF_M4[['Country_Name','Country_Code']], how='left', on='Country_Name').drop_duplicates().reset_index()"
   ]
  },
  {
   "cell_type": "code",
   "execution_count": 132,
   "metadata": {},
   "outputs": [
    {
     "data": {
      "text/html": [
       "<div>\n",
       "<style scoped>\n",
       "    .dataframe tbody tr th:only-of-type {\n",
       "        vertical-align: middle;\n",
       "    }\n",
       "\n",
       "    .dataframe tbody tr th {\n",
       "        vertical-align: top;\n",
       "    }\n",
       "\n",
       "    .dataframe thead th {\n",
       "        text-align: right;\n",
       "    }\n",
       "</style>\n",
       "<table border=\"1\" class=\"dataframe\">\n",
       "  <thead>\n",
       "    <tr style=\"text-align: right;\">\n",
       "      <th></th>\n",
       "      <th>index</th>\n",
       "      <th>Country_Name</th>\n",
       "      <th>income_moyen</th>\n",
       "      <th>Country_Code</th>\n",
       "    </tr>\n",
       "  </thead>\n",
       "  <tbody>\n",
       "    <tr>\n",
       "      <th>36</th>\n",
       "      <td>1800000</td>\n",
       "      <td>France</td>\n",
       "      <td>18309.407545</td>\n",
       "      <td>FRA</td>\n",
       "    </tr>\n",
       "  </tbody>\n",
       "</table>\n",
       "</div>"
      ],
      "text/plain": [
       "      index Country_Name  income_moyen Country_Code\n",
       "36  1800000       France  18309.407545          FRA"
      ]
     },
     "execution_count": 132,
     "metadata": {},
     "output_type": "execute_result"
    }
   ],
   "source": [
    "# vérifier le revenu moyen de la france \n",
    "df_geo[df_geo['Country_Name']=='France']"
   ]
  },
  {
   "cell_type": "code",
   "execution_count": 141,
   "metadata": {},
   "outputs": [
    {
     "data": {
      "application/vnd.plotly.v1+json": {
       "config": {
        "linkText": "Export to plot.ly",
        "plotlyServerURL": "https://plot.ly",
        "showLink": false
       },
       "data": [
        {
         "colorbar": {
          "title": {
           "text": "income moyen pays"
          }
         },
         "locations": [
          "ZAF",
          "ALB",
          "DEU",
          "ARG",
          "ARM",
          "AUT",
          "AZE",
          "BGD",
          "BEL",
          "BTN",
          "BOL",
          "BIH",
          "BRA",
          "BGR",
          "BFA",
          "BLR",
          "KHM",
          "CMR",
          "CAN",
          "CHL",
          "CHN",
          "CYP",
          "PSE",
          "COL",
          "COD",
          "KOR",
          "CRI",
          "HRV",
          "CIV",
          "DNK",
          "SLV",
          "ESP",
          "EST",
          "SWZ",
          "FJI",
          "FIN",
          "FRA",
          "RUS",
          "GHA",
          "GRC",
          "GTM",
          "GIN",
          "GEO",
          "HND",
          "HUN",
          "IND",
          "IDN",
          "IRN",
          "IRQ",
          "IRL",
          "ISL",
          "ISR",
          "ITA",
          "JPN",
          "JOR",
          "KAZ",
          "KEN",
          "XKX",
          "LVA",
          "LBR",
          "LTU",
          "LUX",
          "MKD",
          "MDG",
          "MYS",
          "MWI",
          "MLI",
          "MAR",
          "MRT",
          "MEX",
          "MDA",
          "MNG",
          "MNE",
          "MOZ",
          "NIC",
          "NER",
          "NGA",
          "NOR",
          "NPL",
          "UGA",
          "PAK",
          "PAN",
          "PRY",
          "NLD",
          "PHL",
          "POL",
          "PRT",
          "PER",
          "ROU",
          "GBR",
          "SYR",
          "CAF",
          "DOM",
          "LAO",
          "KGZ",
          "SVK",
          "CZE",
          "SRB",
          "SVN",
          "SDN",
          "LKA",
          "SWE",
          "TJK",
          "TZA",
          "THA",
          "TLS",
          "TUR",
          "UKR",
          "URY",
          "VEN",
          "VNM",
          "YEM",
          "EGY",
          "ECU",
          "USA"
         ],
         "text": [
          "Afrique du Sud",
          "Albanie",
          "Allemagne",
          "Argentine",
          "Arménie",
          "Autriche",
          "Azerbaïdjan",
          "Bangladesh",
          "Belgique",
          "Bhoutan",
          "Bolivie",
          "Bosnie-Herzégovine",
          "Brésil",
          "Bulgarie",
          "Burkina Faso",
          "Bélarus",
          "Cambodge",
          "Cameroun",
          "Canada",
          "Chili",
          "Chine",
          "Chypre",
          "Cisjordanie et Gaza",
          "Colombie",
          "Congo, République démocratique du",
          "Corée, République de",
          "Costa Rica",
          "Croatie",
          "Côte d'Ivoire",
          "Danemark",
          "El Salvador",
          "Espagne",
          "Estonie",
          "Eswatini",
          "Fidji",
          "Finlande",
          "France",
          "Fédération de Russie",
          "Ghana",
          "Grèce",
          "Guatemala",
          "Guinée",
          "Géorgie",
          "Honduras",
          "Hongrie",
          "Inde",
          "Indonésie",
          "Iran, République islamique d’",
          "Iraq",
          "Irlande",
          "Islande",
          "Israël",
          "Italie",
          "Japon",
          "Jordanie",
          "Kazakhstan",
          "Kenya",
          "Kosovo",
          "Lettonie",
          "Libéria",
          "Lituanie",
          "Luxembourg",
          "Macédoine du Nord",
          "Madagascar",
          "Malaisie",
          "Malawi",
          "Mali",
          "Maroc",
          "Mauritanie",
          "Mexique",
          "Moldova",
          "Mongolie",
          "Monténégro",
          "Mozambique",
          "Nicaragua",
          "Niger",
          "Nigéria",
          "Norvège",
          "Népal",
          "Ouganda",
          "Pakistan",
          "Panama",
          "Paraguay",
          "Pays-Bas",
          "Philippines",
          "Pologne",
          "Portugal",
          "Pérou",
          "Roumanie",
          "Royaume-Uni",
          "République arabe syrienne",
          "République centrafricaine",
          "République dominicaine",
          "République démocratique populaire lao",
          "République kirghize",
          "République slovaque",
          "République tchèque",
          "Serbie",
          "Slovénie",
          "Soudan",
          "Sri Lanka",
          "Suède",
          "Tadjikistan",
          "Tanzanie",
          "Thaïlande",
          "Timor-Leste",
          "Turquie",
          "Ukraine",
          "Uruguay",
          "Venezuela",
          "Viet Nam",
          "Yémen, Rép. du",
          "Égypte, République arabe d’",
          "Équateur",
          "États-Unis"
         ],
         "type": "choropleth",
         "z": [
          5617.904879630062,
          2994.829902000176,
          18061.71814199865,
          5847.884653700388,
          1628.382784899886,
          16637.600203998627,
          2357.4290230000092,
          998.6924091000341,
          15024.614175999246,
          1515.9290608000097,
          3016.2638432902136,
          6334.687311000362,
          4807.484593801073,
          4984.978558599806,
          917.9526581999353,
          3921.163534400248,
          1486.340246699838,
          1794.4939640999005,
          23739.640518098167,
          7051.609966399803,
          2522.7587264799795,
          17345.387462998835,
          1114.0985142000661,
          3547.0052755000174,
          276.01604414998343,
          15227.569445319246,
          5580.386556300023,
          7716.465789999556,
          399.8352041900324,
          17043.146491001262,
          2855.224809200015,
          13116.99290960038,
          7702.062593000721,
          530.2838275200181,
          2098.7308823001104,
          16306.330495001597,
          18309.407545001937,
          7156.770709000194,
          736.602529130032,
          11727.274287399412,
          2142.474752510031,
          696.0120133000116,
          1363.7586064600291,
          3296.268419430187,
          6101.341229000068,
          924.2694587998965,
          1334.618297400149,
          5832.655500699879,
          1705.5123434000475,
          17710.73583800151,
          26888.511517999697,
          11100.318136901009,
          14925.214921998891,
          17432.961183999196,
          3048.630975700218,
          2239.149799999906,
          519.320031999931,
          2176.269035199956,
          6764.474570499993,
          615.0072967800133,
          6623.656564500272,
          25217.56268099865,
          4599.3963223001,
          345.2370736299761,
          6006.342358999434,
          914.2654024000234,
          681.0750385400366,
          2337.600600899715,
          1798.609083400038,
          3885.830276540293,
          2149.171398899866,
          2338.087423699968,
          6547.899124999941,
          692.4805006000236,
          2519.3332620299243,
          650.1293531999784,
          691.8553629100287,
          22483.375019998337,
          914.3916509000703,
          987.2062888999842,
          887.8392790999776,
          5135.139376099925,
          3278.080965399806,
          17728.641151000804,
          1474.062855899949,
          5741.72022500013,
          10098.675366001718,
          3330.5333487000253,
          3318.3371887999187,
          21709.60447000154,
          685.8174949000312,
          811.2999005600412,
          3558.402104700061,
          1003.4073529000083,
          1773.2192168999882,
          6096.579894400343,
          8235.293411000112,
          4879.750851600239,
          12106.007474999466,
          1085.3470589998656,
          1877.9402439000148,
          16184.222707000614,
          2069.8522239999847,
          588.7669863000079,
          2743.712640499721,
          727.6103945999654,
          6050.465330999828,
          3349.3883064998627,
          5290.7849202007255,
          3167.147723900154,
          1377.7739658000803,
          1042.6358697999963,
          1969.5773988000649,
          3383.7410011500956,
          25503.58166099915
         ]
        }
       ],
       "layout": {
        "geo": {
         "showframe": false
        },
        "template": {
         "data": {
          "bar": [
           {
            "error_x": {
             "color": "#2a3f5f"
            },
            "error_y": {
             "color": "#2a3f5f"
            },
            "marker": {
             "line": {
              "color": "#E5ECF6",
              "width": 0.5
             }
            },
            "type": "bar"
           }
          ],
          "barpolar": [
           {
            "marker": {
             "line": {
              "color": "#E5ECF6",
              "width": 0.5
             }
            },
            "type": "barpolar"
           }
          ],
          "carpet": [
           {
            "aaxis": {
             "endlinecolor": "#2a3f5f",
             "gridcolor": "white",
             "linecolor": "white",
             "minorgridcolor": "white",
             "startlinecolor": "#2a3f5f"
            },
            "baxis": {
             "endlinecolor": "#2a3f5f",
             "gridcolor": "white",
             "linecolor": "white",
             "minorgridcolor": "white",
             "startlinecolor": "#2a3f5f"
            },
            "type": "carpet"
           }
          ],
          "choropleth": [
           {
            "colorbar": {
             "outlinewidth": 0,
             "ticks": ""
            },
            "type": "choropleth"
           }
          ],
          "contour": [
           {
            "colorbar": {
             "outlinewidth": 0,
             "ticks": ""
            },
            "colorscale": [
             [
              0,
              "#0d0887"
             ],
             [
              0.1111111111111111,
              "#46039f"
             ],
             [
              0.2222222222222222,
              "#7201a8"
             ],
             [
              0.3333333333333333,
              "#9c179e"
             ],
             [
              0.4444444444444444,
              "#bd3786"
             ],
             [
              0.5555555555555556,
              "#d8576b"
             ],
             [
              0.6666666666666666,
              "#ed7953"
             ],
             [
              0.7777777777777778,
              "#fb9f3a"
             ],
             [
              0.8888888888888888,
              "#fdca26"
             ],
             [
              1,
              "#f0f921"
             ]
            ],
            "type": "contour"
           }
          ],
          "contourcarpet": [
           {
            "colorbar": {
             "outlinewidth": 0,
             "ticks": ""
            },
            "type": "contourcarpet"
           }
          ],
          "heatmap": [
           {
            "colorbar": {
             "outlinewidth": 0,
             "ticks": ""
            },
            "colorscale": [
             [
              0,
              "#0d0887"
             ],
             [
              0.1111111111111111,
              "#46039f"
             ],
             [
              0.2222222222222222,
              "#7201a8"
             ],
             [
              0.3333333333333333,
              "#9c179e"
             ],
             [
              0.4444444444444444,
              "#bd3786"
             ],
             [
              0.5555555555555556,
              "#d8576b"
             ],
             [
              0.6666666666666666,
              "#ed7953"
             ],
             [
              0.7777777777777778,
              "#fb9f3a"
             ],
             [
              0.8888888888888888,
              "#fdca26"
             ],
             [
              1,
              "#f0f921"
             ]
            ],
            "type": "heatmap"
           }
          ],
          "heatmapgl": [
           {
            "colorbar": {
             "outlinewidth": 0,
             "ticks": ""
            },
            "colorscale": [
             [
              0,
              "#0d0887"
             ],
             [
              0.1111111111111111,
              "#46039f"
             ],
             [
              0.2222222222222222,
              "#7201a8"
             ],
             [
              0.3333333333333333,
              "#9c179e"
             ],
             [
              0.4444444444444444,
              "#bd3786"
             ],
             [
              0.5555555555555556,
              "#d8576b"
             ],
             [
              0.6666666666666666,
              "#ed7953"
             ],
             [
              0.7777777777777778,
              "#fb9f3a"
             ],
             [
              0.8888888888888888,
              "#fdca26"
             ],
             [
              1,
              "#f0f921"
             ]
            ],
            "type": "heatmapgl"
           }
          ],
          "histogram": [
           {
            "marker": {
             "colorbar": {
              "outlinewidth": 0,
              "ticks": ""
             }
            },
            "type": "histogram"
           }
          ],
          "histogram2d": [
           {
            "colorbar": {
             "outlinewidth": 0,
             "ticks": ""
            },
            "colorscale": [
             [
              0,
              "#0d0887"
             ],
             [
              0.1111111111111111,
              "#46039f"
             ],
             [
              0.2222222222222222,
              "#7201a8"
             ],
             [
              0.3333333333333333,
              "#9c179e"
             ],
             [
              0.4444444444444444,
              "#bd3786"
             ],
             [
              0.5555555555555556,
              "#d8576b"
             ],
             [
              0.6666666666666666,
              "#ed7953"
             ],
             [
              0.7777777777777778,
              "#fb9f3a"
             ],
             [
              0.8888888888888888,
              "#fdca26"
             ],
             [
              1,
              "#f0f921"
             ]
            ],
            "type": "histogram2d"
           }
          ],
          "histogram2dcontour": [
           {
            "colorbar": {
             "outlinewidth": 0,
             "ticks": ""
            },
            "colorscale": [
             [
              0,
              "#0d0887"
             ],
             [
              0.1111111111111111,
              "#46039f"
             ],
             [
              0.2222222222222222,
              "#7201a8"
             ],
             [
              0.3333333333333333,
              "#9c179e"
             ],
             [
              0.4444444444444444,
              "#bd3786"
             ],
             [
              0.5555555555555556,
              "#d8576b"
             ],
             [
              0.6666666666666666,
              "#ed7953"
             ],
             [
              0.7777777777777778,
              "#fb9f3a"
             ],
             [
              0.8888888888888888,
              "#fdca26"
             ],
             [
              1,
              "#f0f921"
             ]
            ],
            "type": "histogram2dcontour"
           }
          ],
          "mesh3d": [
           {
            "colorbar": {
             "outlinewidth": 0,
             "ticks": ""
            },
            "type": "mesh3d"
           }
          ],
          "parcoords": [
           {
            "line": {
             "colorbar": {
              "outlinewidth": 0,
              "ticks": ""
             }
            },
            "type": "parcoords"
           }
          ],
          "pie": [
           {
            "automargin": true,
            "type": "pie"
           }
          ],
          "scatter": [
           {
            "marker": {
             "colorbar": {
              "outlinewidth": 0,
              "ticks": ""
             }
            },
            "type": "scatter"
           }
          ],
          "scatter3d": [
           {
            "line": {
             "colorbar": {
              "outlinewidth": 0,
              "ticks": ""
             }
            },
            "marker": {
             "colorbar": {
              "outlinewidth": 0,
              "ticks": ""
             }
            },
            "type": "scatter3d"
           }
          ],
          "scattercarpet": [
           {
            "marker": {
             "colorbar": {
              "outlinewidth": 0,
              "ticks": ""
             }
            },
            "type": "scattercarpet"
           }
          ],
          "scattergeo": [
           {
            "marker": {
             "colorbar": {
              "outlinewidth": 0,
              "ticks": ""
             }
            },
            "type": "scattergeo"
           }
          ],
          "scattergl": [
           {
            "marker": {
             "colorbar": {
              "outlinewidth": 0,
              "ticks": ""
             }
            },
            "type": "scattergl"
           }
          ],
          "scattermapbox": [
           {
            "marker": {
             "colorbar": {
              "outlinewidth": 0,
              "ticks": ""
             }
            },
            "type": "scattermapbox"
           }
          ],
          "scatterpolar": [
           {
            "marker": {
             "colorbar": {
              "outlinewidth": 0,
              "ticks": ""
             }
            },
            "type": "scatterpolar"
           }
          ],
          "scatterpolargl": [
           {
            "marker": {
             "colorbar": {
              "outlinewidth": 0,
              "ticks": ""
             }
            },
            "type": "scatterpolargl"
           }
          ],
          "scatterternary": [
           {
            "marker": {
             "colorbar": {
              "outlinewidth": 0,
              "ticks": ""
             }
            },
            "type": "scatterternary"
           }
          ],
          "surface": [
           {
            "colorbar": {
             "outlinewidth": 0,
             "ticks": ""
            },
            "colorscale": [
             [
              0,
              "#0d0887"
             ],
             [
              0.1111111111111111,
              "#46039f"
             ],
             [
              0.2222222222222222,
              "#7201a8"
             ],
             [
              0.3333333333333333,
              "#9c179e"
             ],
             [
              0.4444444444444444,
              "#bd3786"
             ],
             [
              0.5555555555555556,
              "#d8576b"
             ],
             [
              0.6666666666666666,
              "#ed7953"
             ],
             [
              0.7777777777777778,
              "#fb9f3a"
             ],
             [
              0.8888888888888888,
              "#fdca26"
             ],
             [
              1,
              "#f0f921"
             ]
            ],
            "type": "surface"
           }
          ],
          "table": [
           {
            "cells": {
             "fill": {
              "color": "#EBF0F8"
             },
             "line": {
              "color": "white"
             }
            },
            "header": {
             "fill": {
              "color": "#C8D4E3"
             },
             "line": {
              "color": "white"
             }
            },
            "type": "table"
           }
          ]
         },
         "layout": {
          "annotationdefaults": {
           "arrowcolor": "#2a3f5f",
           "arrowhead": 0,
           "arrowwidth": 1
          },
          "coloraxis": {
           "colorbar": {
            "outlinewidth": 0,
            "ticks": ""
           }
          },
          "colorscale": {
           "diverging": [
            [
             0,
             "#8e0152"
            ],
            [
             0.1,
             "#c51b7d"
            ],
            [
             0.2,
             "#de77ae"
            ],
            [
             0.3,
             "#f1b6da"
            ],
            [
             0.4,
             "#fde0ef"
            ],
            [
             0.5,
             "#f7f7f7"
            ],
            [
             0.6,
             "#e6f5d0"
            ],
            [
             0.7,
             "#b8e186"
            ],
            [
             0.8,
             "#7fbc41"
            ],
            [
             0.9,
             "#4d9221"
            ],
            [
             1,
             "#276419"
            ]
           ],
           "sequential": [
            [
             0,
             "#0d0887"
            ],
            [
             0.1111111111111111,
             "#46039f"
            ],
            [
             0.2222222222222222,
             "#7201a8"
            ],
            [
             0.3333333333333333,
             "#9c179e"
            ],
            [
             0.4444444444444444,
             "#bd3786"
            ],
            [
             0.5555555555555556,
             "#d8576b"
            ],
            [
             0.6666666666666666,
             "#ed7953"
            ],
            [
             0.7777777777777778,
             "#fb9f3a"
            ],
            [
             0.8888888888888888,
             "#fdca26"
            ],
            [
             1,
             "#f0f921"
            ]
           ],
           "sequentialminus": [
            [
             0,
             "#0d0887"
            ],
            [
             0.1111111111111111,
             "#46039f"
            ],
            [
             0.2222222222222222,
             "#7201a8"
            ],
            [
             0.3333333333333333,
             "#9c179e"
            ],
            [
             0.4444444444444444,
             "#bd3786"
            ],
            [
             0.5555555555555556,
             "#d8576b"
            ],
            [
             0.6666666666666666,
             "#ed7953"
            ],
            [
             0.7777777777777778,
             "#fb9f3a"
            ],
            [
             0.8888888888888888,
             "#fdca26"
            ],
            [
             1,
             "#f0f921"
            ]
           ]
          },
          "colorway": [
           "#636efa",
           "#EF553B",
           "#00cc96",
           "#ab63fa",
           "#FFA15A",
           "#19d3f3",
           "#FF6692",
           "#B6E880",
           "#FF97FF",
           "#FECB52"
          ],
          "font": {
           "color": "#2a3f5f"
          },
          "geo": {
           "bgcolor": "white",
           "lakecolor": "white",
           "landcolor": "#E5ECF6",
           "showlakes": true,
           "showland": true,
           "subunitcolor": "white"
          },
          "hoverlabel": {
           "align": "left"
          },
          "hovermode": "closest",
          "mapbox": {
           "style": "light"
          },
          "paper_bgcolor": "white",
          "plot_bgcolor": "#E5ECF6",
          "polar": {
           "angularaxis": {
            "gridcolor": "white",
            "linecolor": "white",
            "ticks": ""
           },
           "bgcolor": "#E5ECF6",
           "radialaxis": {
            "gridcolor": "white",
            "linecolor": "white",
            "ticks": ""
           }
          },
          "scene": {
           "xaxis": {
            "backgroundcolor": "#E5ECF6",
            "gridcolor": "white",
            "gridwidth": 2,
            "linecolor": "white",
            "showbackground": true,
            "ticks": "",
            "zerolinecolor": "white"
           },
           "yaxis": {
            "backgroundcolor": "#E5ECF6",
            "gridcolor": "white",
            "gridwidth": 2,
            "linecolor": "white",
            "showbackground": true,
            "ticks": "",
            "zerolinecolor": "white"
           },
           "zaxis": {
            "backgroundcolor": "#E5ECF6",
            "gridcolor": "white",
            "gridwidth": 2,
            "linecolor": "white",
            "showbackground": true,
            "ticks": "",
            "zerolinecolor": "white"
           }
          },
          "shapedefaults": {
           "line": {
            "color": "#2a3f5f"
           }
          },
          "ternary": {
           "aaxis": {
            "gridcolor": "white",
            "linecolor": "white",
            "ticks": ""
           },
           "baxis": {
            "gridcolor": "white",
            "linecolor": "white",
            "ticks": ""
           },
           "bgcolor": "#E5ECF6",
           "caxis": {
            "gridcolor": "white",
            "linecolor": "white",
            "ticks": ""
           }
          },
          "title": {
           "x": 0.05
          },
          "xaxis": {
           "automargin": true,
           "gridcolor": "white",
           "linecolor": "white",
           "ticks": "",
           "title": {
            "standoff": 15
           },
           "zerolinecolor": "white",
           "zerolinewidth": 2
          },
          "yaxis": {
           "automargin": true,
           "gridcolor": "white",
           "linecolor": "white",
           "ticks": "",
           "title": {
            "standoff": 15
           },
           "zerolinecolor": "white",
           "zerolinewidth": 2
          }
         }
        },
        "title": {
         "text": "Les revenus moyens des pays dans le monde"
        }
       }
      },
      "text/html": [
       "<div>                            <div id=\"d941d68d-60a2-4ea5-a249-ad7008422a34\" class=\"plotly-graph-div\" style=\"height:525px; width:100%;\"></div>            <script type=\"text/javascript\">                require([\"plotly\"], function(Plotly) {                    window.PLOTLYENV=window.PLOTLYENV || {};                                    if (document.getElementById(\"d941d68d-60a2-4ea5-a249-ad7008422a34\")) {                    Plotly.newPlot(                        \"d941d68d-60a2-4ea5-a249-ad7008422a34\",                        [{\"colorbar\": {\"title\": {\"text\": \"income moyen pays\"}}, \"locations\": [\"ZAF\", \"ALB\", \"DEU\", \"ARG\", \"ARM\", \"AUT\", \"AZE\", \"BGD\", \"BEL\", \"BTN\", \"BOL\", \"BIH\", \"BRA\", \"BGR\", \"BFA\", \"BLR\", \"KHM\", \"CMR\", \"CAN\", \"CHL\", \"CHN\", \"CYP\", \"PSE\", \"COL\", \"COD\", \"KOR\", \"CRI\", \"HRV\", \"CIV\", \"DNK\", \"SLV\", \"ESP\", \"EST\", \"SWZ\", \"FJI\", \"FIN\", \"FRA\", \"RUS\", \"GHA\", \"GRC\", \"GTM\", \"GIN\", \"GEO\", \"HND\", \"HUN\", \"IND\", \"IDN\", \"IRN\", \"IRQ\", \"IRL\", \"ISL\", \"ISR\", \"ITA\", \"JPN\", \"JOR\", \"KAZ\", \"KEN\", \"XKX\", \"LVA\", \"LBR\", \"LTU\", \"LUX\", \"MKD\", \"MDG\", \"MYS\", \"MWI\", \"MLI\", \"MAR\", \"MRT\", \"MEX\", \"MDA\", \"MNG\", \"MNE\", \"MOZ\", \"NIC\", \"NER\", \"NGA\", \"NOR\", \"NPL\", \"UGA\", \"PAK\", \"PAN\", \"PRY\", \"NLD\", \"PHL\", \"POL\", \"PRT\", \"PER\", \"ROU\", \"GBR\", \"SYR\", \"CAF\", \"DOM\", \"LAO\", \"KGZ\", \"SVK\", \"CZE\", \"SRB\", \"SVN\", \"SDN\", \"LKA\", \"SWE\", \"TJK\", \"TZA\", \"THA\", \"TLS\", \"TUR\", \"UKR\", \"URY\", \"VEN\", \"VNM\", \"YEM\", \"EGY\", \"ECU\", \"USA\"], \"text\": [\"Afrique du Sud\", \"Albanie\", \"Allemagne\", \"Argentine\", \"Arm\\u00e9nie\", \"Autriche\", \"Azerba\\u00efdjan\", \"Bangladesh\", \"Belgique\", \"Bhoutan\", \"Bolivie\", \"Bosnie-Herz\\u00e9govine\", \"Br\\u00e9sil\", \"Bulgarie\", \"Burkina Faso\", \"B\\u00e9larus\", \"Cambodge\", \"Cameroun\", \"Canada\", \"Chili\", \"Chine\", \"Chypre\", \"Cisjordanie et Gaza\", \"Colombie\", \"Congo, R\\u00e9publique d\\u00e9mocratique du\", \"Cor\\u00e9e, R\\u00e9publique de\", \"Costa Rica\", \"Croatie\", \"C\\u00f4te d'Ivoire\", \"Danemark\", \"El Salvador\", \"Espagne\", \"Estonie\", \"Eswatini\", \"Fidji\", \"Finlande\", \"France\", \"F\\u00e9d\\u00e9ration de Russie\", \"Ghana\", \"Gr\\u00e8ce\", \"Guatemala\", \"Guin\\u00e9e\", \"G\\u00e9orgie\", \"Honduras\", \"Hongrie\", \"Inde\", \"Indon\\u00e9sie\", \"Iran, R\\u00e9publique islamique d\\u2019\", \"Iraq\", \"Irlande\", \"Islande\", \"Isra\\u00ebl\", \"Italie\", \"Japon\", \"Jordanie\", \"Kazakhstan\", \"Kenya\", \"Kosovo\", \"Lettonie\", \"Lib\\u00e9ria\", \"Lituanie\", \"Luxembourg\", \"Mac\\u00e9doine du Nord\", \"Madagascar\", \"Malaisie\", \"Malawi\", \"Mali\", \"Maroc\", \"Mauritanie\", \"Mexique\", \"Moldova\", \"Mongolie\", \"Mont\\u00e9n\\u00e9gro\", \"Mozambique\", \"Nicaragua\", \"Niger\", \"Nig\\u00e9ria\", \"Norv\\u00e8ge\", \"N\\u00e9pal\", \"Ouganda\", \"Pakistan\", \"Panama\", \"Paraguay\", \"Pays-Bas\", \"Philippines\", \"Pologne\", \"Portugal\", \"P\\u00e9rou\", \"Roumanie\", \"Royaume-Uni\", \"R\\u00e9publique arabe syrienne\", \"R\\u00e9publique centrafricaine\", \"R\\u00e9publique dominicaine\", \"R\\u00e9publique d\\u00e9mocratique populaire lao\", \"R\\u00e9publique kirghize\", \"R\\u00e9publique slovaque\", \"R\\u00e9publique tch\\u00e8que\", \"Serbie\", \"Slov\\u00e9nie\", \"Soudan\", \"Sri Lanka\", \"Su\\u00e8de\", \"Tadjikistan\", \"Tanzanie\", \"Tha\\u00eflande\", \"Timor-Leste\", \"Turquie\", \"Ukraine\", \"Uruguay\", \"Venezuela\", \"Viet Nam\", \"Y\\u00e9men, R\\u00e9p. du\", \"\\u00c9gypte, R\\u00e9publique arabe d\\u2019\", \"\\u00c9quateur\", \"\\u00c9tats-Unis\"], \"type\": \"choropleth\", \"z\": [5617.904879630062, 2994.829902000176, 18061.71814199865, 5847.884653700388, 1628.382784899886, 16637.600203998627, 2357.4290230000092, 998.6924091000341, 15024.614175999246, 1515.9290608000097, 3016.2638432902136, 6334.687311000362, 4807.484593801073, 4984.978558599806, 917.9526581999353, 3921.163534400248, 1486.340246699838, 1794.4939640999005, 23739.640518098167, 7051.609966399803, 2522.7587264799795, 17345.387462998835, 1114.0985142000661, 3547.0052755000174, 276.01604414998343, 15227.569445319246, 5580.386556300023, 7716.465789999556, 399.8352041900324, 17043.146491001262, 2855.224809200015, 13116.99290960038, 7702.062593000721, 530.2838275200181, 2098.7308823001104, 16306.330495001597, 18309.407545001937, 7156.770709000194, 736.602529130032, 11727.274287399412, 2142.474752510031, 696.0120133000116, 1363.7586064600291, 3296.268419430187, 6101.341229000068, 924.2694587998965, 1334.618297400149, 5832.655500699879, 1705.5123434000475, 17710.73583800151, 26888.511517999697, 11100.318136901009, 14925.214921998891, 17432.961183999196, 3048.630975700218, 2239.149799999906, 519.320031999931, 2176.269035199956, 6764.474570499993, 615.0072967800133, 6623.656564500272, 25217.56268099865, 4599.3963223001, 345.2370736299761, 6006.342358999434, 914.2654024000234, 681.0750385400366, 2337.600600899715, 1798.609083400038, 3885.830276540293, 2149.171398899866, 2338.087423699968, 6547.899124999941, 692.4805006000236, 2519.3332620299243, 650.1293531999784, 691.8553629100287, 22483.375019998337, 914.3916509000703, 987.2062888999842, 887.8392790999776, 5135.139376099925, 3278.080965399806, 17728.641151000804, 1474.062855899949, 5741.72022500013, 10098.675366001718, 3330.5333487000253, 3318.3371887999187, 21709.60447000154, 685.8174949000312, 811.2999005600412, 3558.402104700061, 1003.4073529000083, 1773.2192168999882, 6096.579894400343, 8235.293411000112, 4879.750851600239, 12106.007474999466, 1085.3470589998656, 1877.9402439000148, 16184.222707000614, 2069.8522239999847, 588.7669863000079, 2743.712640499721, 727.6103945999654, 6050.465330999828, 3349.3883064998627, 5290.7849202007255, 3167.147723900154, 1377.7739658000803, 1042.6358697999963, 1969.5773988000649, 3383.7410011500956, 25503.58166099915]}],                        {\"geo\": {\"showframe\": false}, \"template\": {\"data\": {\"bar\": [{\"error_x\": {\"color\": \"#2a3f5f\"}, \"error_y\": {\"color\": \"#2a3f5f\"}, \"marker\": {\"line\": {\"color\": \"#E5ECF6\", \"width\": 0.5}}, \"type\": \"bar\"}], \"barpolar\": [{\"marker\": {\"line\": {\"color\": \"#E5ECF6\", \"width\": 0.5}}, \"type\": \"barpolar\"}], \"carpet\": [{\"aaxis\": {\"endlinecolor\": \"#2a3f5f\", \"gridcolor\": \"white\", \"linecolor\": \"white\", \"minorgridcolor\": \"white\", \"startlinecolor\": \"#2a3f5f\"}, \"baxis\": {\"endlinecolor\": \"#2a3f5f\", \"gridcolor\": \"white\", \"linecolor\": \"white\", \"minorgridcolor\": \"white\", \"startlinecolor\": \"#2a3f5f\"}, \"type\": \"carpet\"}], \"choropleth\": [{\"colorbar\": {\"outlinewidth\": 0, \"ticks\": \"\"}, \"type\": \"choropleth\"}], \"contour\": [{\"colorbar\": {\"outlinewidth\": 0, \"ticks\": \"\"}, \"colorscale\": [[0.0, \"#0d0887\"], [0.1111111111111111, \"#46039f\"], [0.2222222222222222, \"#7201a8\"], [0.3333333333333333, \"#9c179e\"], [0.4444444444444444, \"#bd3786\"], [0.5555555555555556, \"#d8576b\"], [0.6666666666666666, \"#ed7953\"], [0.7777777777777778, \"#fb9f3a\"], [0.8888888888888888, \"#fdca26\"], [1.0, \"#f0f921\"]], \"type\": \"contour\"}], \"contourcarpet\": [{\"colorbar\": {\"outlinewidth\": 0, \"ticks\": \"\"}, \"type\": \"contourcarpet\"}], \"heatmap\": [{\"colorbar\": {\"outlinewidth\": 0, \"ticks\": \"\"}, \"colorscale\": [[0.0, \"#0d0887\"], [0.1111111111111111, \"#46039f\"], [0.2222222222222222, \"#7201a8\"], [0.3333333333333333, \"#9c179e\"], [0.4444444444444444, \"#bd3786\"], [0.5555555555555556, \"#d8576b\"], [0.6666666666666666, \"#ed7953\"], [0.7777777777777778, \"#fb9f3a\"], [0.8888888888888888, \"#fdca26\"], [1.0, \"#f0f921\"]], \"type\": \"heatmap\"}], \"heatmapgl\": [{\"colorbar\": {\"outlinewidth\": 0, \"ticks\": \"\"}, \"colorscale\": [[0.0, \"#0d0887\"], [0.1111111111111111, \"#46039f\"], [0.2222222222222222, \"#7201a8\"], [0.3333333333333333, \"#9c179e\"], [0.4444444444444444, \"#bd3786\"], [0.5555555555555556, \"#d8576b\"], [0.6666666666666666, \"#ed7953\"], [0.7777777777777778, \"#fb9f3a\"], [0.8888888888888888, \"#fdca26\"], [1.0, \"#f0f921\"]], \"type\": \"heatmapgl\"}], \"histogram\": [{\"marker\": {\"colorbar\": {\"outlinewidth\": 0, \"ticks\": \"\"}}, \"type\": \"histogram\"}], \"histogram2d\": [{\"colorbar\": {\"outlinewidth\": 0, \"ticks\": \"\"}, \"colorscale\": [[0.0, \"#0d0887\"], [0.1111111111111111, \"#46039f\"], [0.2222222222222222, \"#7201a8\"], [0.3333333333333333, \"#9c179e\"], [0.4444444444444444, \"#bd3786\"], [0.5555555555555556, \"#d8576b\"], [0.6666666666666666, \"#ed7953\"], [0.7777777777777778, \"#fb9f3a\"], [0.8888888888888888, \"#fdca26\"], [1.0, \"#f0f921\"]], \"type\": \"histogram2d\"}], \"histogram2dcontour\": [{\"colorbar\": {\"outlinewidth\": 0, \"ticks\": \"\"}, \"colorscale\": [[0.0, \"#0d0887\"], [0.1111111111111111, \"#46039f\"], [0.2222222222222222, \"#7201a8\"], [0.3333333333333333, \"#9c179e\"], [0.4444444444444444, \"#bd3786\"], [0.5555555555555556, \"#d8576b\"], [0.6666666666666666, \"#ed7953\"], [0.7777777777777778, \"#fb9f3a\"], [0.8888888888888888, \"#fdca26\"], [1.0, \"#f0f921\"]], \"type\": \"histogram2dcontour\"}], \"mesh3d\": [{\"colorbar\": {\"outlinewidth\": 0, \"ticks\": \"\"}, \"type\": \"mesh3d\"}], \"parcoords\": [{\"line\": {\"colorbar\": {\"outlinewidth\": 0, \"ticks\": \"\"}}, \"type\": \"parcoords\"}], \"pie\": [{\"automargin\": true, \"type\": \"pie\"}], \"scatter\": [{\"marker\": {\"colorbar\": {\"outlinewidth\": 0, \"ticks\": \"\"}}, \"type\": \"scatter\"}], \"scatter3d\": [{\"line\": {\"colorbar\": {\"outlinewidth\": 0, \"ticks\": \"\"}}, \"marker\": {\"colorbar\": {\"outlinewidth\": 0, \"ticks\": \"\"}}, \"type\": \"scatter3d\"}], \"scattercarpet\": [{\"marker\": {\"colorbar\": {\"outlinewidth\": 0, \"ticks\": \"\"}}, \"type\": \"scattercarpet\"}], \"scattergeo\": [{\"marker\": {\"colorbar\": {\"outlinewidth\": 0, \"ticks\": \"\"}}, \"type\": \"scattergeo\"}], \"scattergl\": [{\"marker\": {\"colorbar\": {\"outlinewidth\": 0, \"ticks\": \"\"}}, \"type\": \"scattergl\"}], \"scattermapbox\": [{\"marker\": {\"colorbar\": {\"outlinewidth\": 0, \"ticks\": \"\"}}, \"type\": \"scattermapbox\"}], \"scatterpolar\": [{\"marker\": {\"colorbar\": {\"outlinewidth\": 0, \"ticks\": \"\"}}, \"type\": \"scatterpolar\"}], \"scatterpolargl\": [{\"marker\": {\"colorbar\": {\"outlinewidth\": 0, \"ticks\": \"\"}}, \"type\": \"scatterpolargl\"}], \"scatterternary\": [{\"marker\": {\"colorbar\": {\"outlinewidth\": 0, \"ticks\": \"\"}}, \"type\": \"scatterternary\"}], \"surface\": [{\"colorbar\": {\"outlinewidth\": 0, \"ticks\": \"\"}, \"colorscale\": [[0.0, \"#0d0887\"], [0.1111111111111111, \"#46039f\"], [0.2222222222222222, \"#7201a8\"], [0.3333333333333333, \"#9c179e\"], [0.4444444444444444, \"#bd3786\"], [0.5555555555555556, \"#d8576b\"], [0.6666666666666666, \"#ed7953\"], [0.7777777777777778, \"#fb9f3a\"], [0.8888888888888888, \"#fdca26\"], [1.0, \"#f0f921\"]], \"type\": \"surface\"}], \"table\": [{\"cells\": {\"fill\": {\"color\": \"#EBF0F8\"}, \"line\": {\"color\": \"white\"}}, \"header\": {\"fill\": {\"color\": \"#C8D4E3\"}, \"line\": {\"color\": \"white\"}}, \"type\": \"table\"}]}, \"layout\": {\"annotationdefaults\": {\"arrowcolor\": \"#2a3f5f\", \"arrowhead\": 0, \"arrowwidth\": 1}, \"coloraxis\": {\"colorbar\": {\"outlinewidth\": 0, \"ticks\": \"\"}}, \"colorscale\": {\"diverging\": [[0, \"#8e0152\"], [0.1, \"#c51b7d\"], [0.2, \"#de77ae\"], [0.3, \"#f1b6da\"], [0.4, \"#fde0ef\"], [0.5, \"#f7f7f7\"], [0.6, \"#e6f5d0\"], [0.7, \"#b8e186\"], [0.8, \"#7fbc41\"], [0.9, \"#4d9221\"], [1, \"#276419\"]], \"sequential\": [[0.0, \"#0d0887\"], [0.1111111111111111, \"#46039f\"], [0.2222222222222222, \"#7201a8\"], [0.3333333333333333, \"#9c179e\"], [0.4444444444444444, \"#bd3786\"], [0.5555555555555556, \"#d8576b\"], [0.6666666666666666, \"#ed7953\"], [0.7777777777777778, \"#fb9f3a\"], [0.8888888888888888, \"#fdca26\"], [1.0, \"#f0f921\"]], \"sequentialminus\": [[0.0, \"#0d0887\"], [0.1111111111111111, \"#46039f\"], [0.2222222222222222, \"#7201a8\"], [0.3333333333333333, \"#9c179e\"], [0.4444444444444444, \"#bd3786\"], [0.5555555555555556, \"#d8576b\"], [0.6666666666666666, \"#ed7953\"], [0.7777777777777778, \"#fb9f3a\"], [0.8888888888888888, \"#fdca26\"], [1.0, \"#f0f921\"]]}, \"colorway\": [\"#636efa\", \"#EF553B\", \"#00cc96\", \"#ab63fa\", \"#FFA15A\", \"#19d3f3\", \"#FF6692\", \"#B6E880\", \"#FF97FF\", \"#FECB52\"], \"font\": {\"color\": \"#2a3f5f\"}, \"geo\": {\"bgcolor\": \"white\", \"lakecolor\": \"white\", \"landcolor\": \"#E5ECF6\", \"showlakes\": true, \"showland\": true, \"subunitcolor\": \"white\"}, \"hoverlabel\": {\"align\": \"left\"}, \"hovermode\": \"closest\", \"mapbox\": {\"style\": \"light\"}, \"paper_bgcolor\": \"white\", \"plot_bgcolor\": \"#E5ECF6\", \"polar\": {\"angularaxis\": {\"gridcolor\": \"white\", \"linecolor\": \"white\", \"ticks\": \"\"}, \"bgcolor\": \"#E5ECF6\", \"radialaxis\": {\"gridcolor\": \"white\", \"linecolor\": \"white\", \"ticks\": \"\"}}, \"scene\": {\"xaxis\": {\"backgroundcolor\": \"#E5ECF6\", \"gridcolor\": \"white\", \"gridwidth\": 2, \"linecolor\": \"white\", \"showbackground\": true, \"ticks\": \"\", \"zerolinecolor\": \"white\"}, \"yaxis\": {\"backgroundcolor\": \"#E5ECF6\", \"gridcolor\": \"white\", \"gridwidth\": 2, \"linecolor\": \"white\", \"showbackground\": true, \"ticks\": \"\", \"zerolinecolor\": \"white\"}, \"zaxis\": {\"backgroundcolor\": \"#E5ECF6\", \"gridcolor\": \"white\", \"gridwidth\": 2, \"linecolor\": \"white\", \"showbackground\": true, \"ticks\": \"\", \"zerolinecolor\": \"white\"}}, \"shapedefaults\": {\"line\": {\"color\": \"#2a3f5f\"}}, \"ternary\": {\"aaxis\": {\"gridcolor\": \"white\", \"linecolor\": \"white\", \"ticks\": \"\"}, \"baxis\": {\"gridcolor\": \"white\", \"linecolor\": \"white\", \"ticks\": \"\"}, \"bgcolor\": \"#E5ECF6\", \"caxis\": {\"gridcolor\": \"white\", \"linecolor\": \"white\", \"ticks\": \"\"}}, \"title\": {\"x\": 0.05}, \"xaxis\": {\"automargin\": true, \"gridcolor\": \"white\", \"linecolor\": \"white\", \"ticks\": \"\", \"title\": {\"standoff\": 15}, \"zerolinecolor\": \"white\", \"zerolinewidth\": 2}, \"yaxis\": {\"automargin\": true, \"gridcolor\": \"white\", \"linecolor\": \"white\", \"ticks\": \"\", \"title\": {\"standoff\": 15}, \"zerolinecolor\": \"white\", \"zerolinewidth\": 2}}}, \"title\": {\"text\": \"Les revenus moyens des pays dans le monde\"}},                        {\"responsive\": true}                    ).then(function(){\n",
       "                            \n",
       "var gd = document.getElementById('d941d68d-60a2-4ea5-a249-ad7008422a34');\n",
       "var x = new MutationObserver(function (mutations, observer) {{\n",
       "        var display = window.getComputedStyle(gd).display;\n",
       "        if (!display || display === 'none') {{\n",
       "            console.log([gd, 'removed!']);\n",
       "            Plotly.purge(gd);\n",
       "            observer.disconnect();\n",
       "        }}\n",
       "}});\n",
       "\n",
       "// Listen for the removal of the full notebook cells\n",
       "var notebookContainer = gd.closest('#notebook-container');\n",
       "if (notebookContainer) {{\n",
       "    x.observe(notebookContainer, {childList: true});\n",
       "}}\n",
       "\n",
       "// Listen for the clearing of the current output cell\n",
       "var outputEl = gd.closest('.output');\n",
       "if (outputEl) {{\n",
       "    x.observe(outputEl, {childList: true});\n",
       "}}\n",
       "\n",
       "                        })                };                });            </script>        </div>"
      ]
     },
     "metadata": {},
     "output_type": "display_data"
    }
   ],
   "source": [
    "import plotly.graph_objs as go \n",
    "from plotly.offline import download_plotlyjs, init_notebook_mode, plot, iplot\n",
    "import chart_studio.plotly\n",
    "#les revenus moyens des pays dans le monde\n",
    "\n",
    "df_geo = df_revenus_moyen_pays1.merge(DF_M4[['Country_Name','Country_Code']], how='left', on='Country_Name').drop_duplicates().reset_index()\n",
    "\n",
    "# carte du monde pour visualiser les pj des pays \n",
    "data = dict(\n",
    "        type = 'choropleth',\n",
    "        locations = df_geo['Country_Code'],\n",
    "        z = df_geo['income_moyen'],\n",
    "        text = df_geo['Country_Name'],\n",
    "        colorbar = {'title' : 'income moyen pays'},\n",
    "      ) \n",
    "\n",
    "\n",
    "layout = dict(\n",
    "    title = \"Les revenus moyens des pays dans le monde\",\n",
    "    geo = dict(\n",
    "        showframe = False,\n",
    "        #projection = {'type':'Mercator'}\n",
    "    )\n",
    ")\n",
    "\n",
    "\n",
    "choromap = go.Figure(data = [data],layout = layout)\n",
    "iplot(choromap)"
   ]
  },
  {
   "cell_type": "markdown",
   "metadata": {},
   "source": [
    "# 3.1 Modele version 1(avec les log) \n",
    "\n",
    "#variable expliquée le log revenu des individus (revenu des enfants sachant classe ces parents en log)\n",
    "#Variable explicatives log_value_income(revenu moyen du pays de l'individu en log)et value gini"
   ]
  },
  {
   "cell_type": "code",
   "execution_count": 134,
   "metadata": {},
   "outputs": [],
   "source": [
    "#importer les packages nécessaires pour modéliser \n",
    "import statsmodels.api as sm\n",
    "import statsmodels.formula.api as smf\n",
    "from scipy.stats import t, shapiro\n",
    "from statsmodels.stats.outliers_influence import variance_inflation_factor\n",
    "import statsmodels\n",
    "from statsmodels.formula.api import ols"
   ]
  },
  {
   "cell_type": "code",
   "execution_count": 136,
   "metadata": {},
   "outputs": [
    {
     "data": {
      "text/html": [
       "<div>\n",
       "<style scoped>\n",
       "    .dataframe tbody tr th:only-of-type {\n",
       "        vertical-align: middle;\n",
       "    }\n",
       "\n",
       "    .dataframe tbody tr th {\n",
       "        vertical-align: top;\n",
       "    }\n",
       "\n",
       "    .dataframe thead th {\n",
       "        text-align: right;\n",
       "    }\n",
       "</style>\n",
       "<table border=\"1\" class=\"dataframe\">\n",
       "  <thead>\n",
       "    <tr style=\"text-align: right;\">\n",
       "      <th></th>\n",
       "      <th>Country_Name</th>\n",
       "      <th>values_gini</th>\n",
       "      <th>income_moyen</th>\n",
       "      <th>log_value_income_moyen</th>\n",
       "      <th>income</th>\n",
       "      <th>log_value_income</th>\n",
       "      <th>C_i_parent</th>\n",
       "    </tr>\n",
       "  </thead>\n",
       "  <tbody>\n",
       "    <tr>\n",
       "      <th>0</th>\n",
       "      <td>Albanie</td>\n",
       "      <td>30.0</td>\n",
       "      <td>2994.829902</td>\n",
       "      <td>8.004643</td>\n",
       "      <td>728.89795</td>\n",
       "      <td>6.591534</td>\n",
       "      <td>1</td>\n",
       "    </tr>\n",
       "    <tr>\n",
       "      <th>1</th>\n",
       "      <td>Albanie</td>\n",
       "      <td>30.0</td>\n",
       "      <td>2994.829902</td>\n",
       "      <td>8.004643</td>\n",
       "      <td>916.66235</td>\n",
       "      <td>6.820739</td>\n",
       "      <td>1</td>\n",
       "    </tr>\n",
       "    <tr>\n",
       "      <th>2</th>\n",
       "      <td>Albanie</td>\n",
       "      <td>30.0</td>\n",
       "      <td>2994.829902</td>\n",
       "      <td>8.004643</td>\n",
       "      <td>1010.91600</td>\n",
       "      <td>6.918612</td>\n",
       "      <td>1</td>\n",
       "    </tr>\n",
       "    <tr>\n",
       "      <th>3</th>\n",
       "      <td>Albanie</td>\n",
       "      <td>30.0</td>\n",
       "      <td>2994.829902</td>\n",
       "      <td>8.004643</td>\n",
       "      <td>1086.90780</td>\n",
       "      <td>6.991092</td>\n",
       "      <td>1</td>\n",
       "    </tr>\n",
       "    <tr>\n",
       "      <th>4</th>\n",
       "      <td>Albanie</td>\n",
       "      <td>30.0</td>\n",
       "      <td>2994.829902</td>\n",
       "      <td>8.004643</td>\n",
       "      <td>1132.69970</td>\n",
       "      <td>7.032359</td>\n",
       "      <td>1</td>\n",
       "    </tr>\n",
       "  </tbody>\n",
       "</table>\n",
       "</div>"
      ],
      "text/plain": [
       "  Country_Name  values_gini  income_moyen  log_value_income_moyen      income  \\\n",
       "0      Albanie         30.0   2994.829902                8.004643   728.89795   \n",
       "1      Albanie         30.0   2994.829902                8.004643   916.66235   \n",
       "2      Albanie         30.0   2994.829902                8.004643  1010.91600   \n",
       "3      Albanie         30.0   2994.829902                8.004643  1086.90780   \n",
       "4      Albanie         30.0   2994.829902                8.004643  1132.69970   \n",
       "\n",
       "   log_value_income  C_i_parent  \n",
       "0          6.591534           1  \n",
       "1          6.820739           1  \n",
       "2          6.918612           1  \n",
       "3          6.991092           1  \n",
       "4          7.032359           1  "
      ]
     },
     "execution_count": 136,
     "metadata": {},
     "output_type": "execute_result"
    }
   ],
   "source": [
    "# voir tete de df_regression1_final\n",
    "df_regression1_final.head()"
   ]
  },
  {
   "cell_type": "code",
   "execution_count": 137,
   "metadata": {
    "scrolled": false
   },
   "outputs": [
    {
     "name": "stdout",
     "output_type": "stream",
     "text": [
      "                            OLS Regression Results                            \n",
      "==============================================================================\n",
      "Dep. Variable:       log_value_income   R-squared:                       0.725\n",
      "Model:                            OLS   Adj. R-squared:                  0.725\n",
      "Method:                 Least Squares   F-statistic:                 7.597e+06\n",
      "Date:                Tue, 13 Apr 2021   Prob (F-statistic):               0.00\n",
      "Time:                        15:28:44   Log-Likelihood:            -6.2815e+06\n",
      "No. Observations:             5750000   AIC:                         1.256e+07\n",
      "Df Residuals:                 5749997   BIC:                         1.256e+07\n",
      "Df Model:                           2                                         \n",
      "Covariance Type:            nonrobust                                         \n",
      "==========================================================================================\n",
      "                             coef    std err          t      P>|t|      [0.025      0.975]\n",
      "------------------------------------------------------------------------------------------\n",
      "Intercept                  0.4826      0.003    164.171      0.000       0.477       0.488\n",
      "log_value_income_moyen     0.9878      0.000   3624.616      0.000       0.987       0.988\n",
      "values_gini               -0.0172   3.79e-05   -454.498      0.000      -0.017      -0.017\n",
      "==============================================================================\n",
      "Omnibus:                   376835.380   Durbin-Watson:                   0.389\n",
      "Prob(Omnibus):                  0.000   Jarque-Bera (JB):          1770868.854\n",
      "Skew:                          -0.105   Prob(JB):                         0.00\n",
      "Kurtosis:                       5.711   Cond. No.                         388.\n",
      "==============================================================================\n",
      "\n",
      "Notes:\n",
      "[1] Standard Errors assume that the covariance matrix of the errors is correctly specified.\n"
     ]
    }
   ],
   "source": [
    "#version 1 régression Multiples avec log_value_income~log_value_income_moyen+values_gini\n",
    "reg_multi = smf.ols('log_value_income~log_value_income_moyen+values_gini', data=df_regression1_final).fit()\n",
    "print(reg_multi.summary())"
   ]
  },
  {
   "cell_type": "markdown",
   "metadata": {},
   "source": [
    "# 3.2 Modele version 2 (sans les log ) "
   ]
  },
  {
   "cell_type": "code",
   "execution_count": 138,
   "metadata": {},
   "outputs": [
    {
     "name": "stdout",
     "output_type": "stream",
     "text": [
      "                            OLS Regression Results                            \n",
      "==============================================================================\n",
      "Dep. Variable:                 income   R-squared:                       0.497\n",
      "Model:                            OLS   Adj. R-squared:                  0.497\n",
      "Method:                 Least Squares   F-statistic:                 2.842e+06\n",
      "Date:                Tue, 13 Apr 2021   Prob (F-statistic):               0.00\n",
      "Time:                        15:28:53   Log-Likelihood:            -5.8752e+07\n",
      "No. Observations:             5750000   AIC:                         1.175e+08\n",
      "Df Residuals:                 5749997   BIC:                         1.175e+08\n",
      "Df Model:                           2                                         \n",
      "Covariance Type:            nonrobust                                         \n",
      "================================================================================\n",
      "                   coef    std err          t      P>|t|      [0.025      0.975]\n",
      "--------------------------------------------------------------------------------\n",
      "Intercept    -7.302e-11     14.783  -4.94e-12      1.000     -28.975      28.975\n",
      "income_moyen     1.0000      0.000   2257.233      0.000       0.999       1.001\n",
      "values_gini  -6.119e-13      0.355  -1.72e-12      1.000      -0.696       0.696\n",
      "==============================================================================\n",
      "Omnibus:                  7304031.825   Durbin-Watson:                   0.687\n",
      "Prob(Omnibus):                  0.000   Jarque-Bera (JB):       2216400884.564\n",
      "Skew:                           6.841   Prob(JB):                         0.00\n",
      "Kurtosis:                      98.204   Cond. No.                     4.76e+04\n",
      "==============================================================================\n",
      "\n",
      "Notes:\n",
      "[1] Standard Errors assume that the covariance matrix of the errors is correctly specified.\n",
      "[2] The condition number is large, 4.76e+04. This might indicate that there are\n",
      "strong multicollinearity or other numerical problems.\n"
     ]
    }
   ],
   "source": [
    "#Le modéle version 2 est moins bon sans les log \n",
    "\n",
    "reg_multi = smf.ols('income~income_moyen+values_gini', data=df_regression1_final).fit()\n",
    "print(reg_multi.summary())"
   ]
  },
  {
   "cell_type": "code",
   "execution_count": 139,
   "metadata": {},
   "outputs": [
    {
     "data": {
      "text/plain": [
       "<AxesSubplot:title={'center':'Les corrélations entre les variables'}>"
      ]
     },
     "execution_count": 139,
     "metadata": {},
     "output_type": "execute_result"
    },
    {
     "data": {
      "image/png": "[encoded data removed]",
      "text/plain": [
       "<Figure size 1080x504 with 2 Axes>"
      ]
     },
     "metadata": {},
     "output_type": "display_data"
    }
   ],
   "source": [
    "#Voir les corrélations entre variables\n",
    "plt.subplots(figsize=(15,7))\n",
    "plt.title('Les corrélations entre les variables', size=18)\n",
    "sns.heatmap(df_regression1_final.corr(), annot = True, cmap='coolwarm')"
   ]
  },
  {
   "cell_type": "markdown",
   "metadata": {},
   "source": [
    "# 3.3  Améliorez le modèle précédent en incluant maintenant la classe de revenu des parents. Quel est le pourcentage de variance expliquée par ce nouveau modèle ?"
   ]
  },
  {
   "cell_type": "code",
   "execution_count": 71,
   "metadata": {},
   "outputs": [
    {
     "name": "stdout",
     "output_type": "stream",
     "text": [
      "                            OLS Regression Results                            \n",
      "==============================================================================\n",
      "Dep. Variable:       log_value_income   R-squared:                       0.735\n",
      "Model:                            OLS   Adj. R-squared:                  0.735\n",
      "Method:                 Least Squares   F-statistic:                 5.306e+06\n",
      "Date:                Tue, 13 Apr 2021   Prob (F-statistic):               0.00\n",
      "Time:                        14:15:41   Log-Likelihood:            -6.1838e+06\n",
      "No. Observations:             5750000   AIC:                         1.237e+07\n",
      "Df Residuals:                 5749996   BIC:                         1.237e+07\n",
      "Df Model:                           3                                         \n",
      "Covariance Type:            nonrobust                                         \n",
      "==========================================================================================\n",
      "                             coef    std err          t      P>|t|      [0.025      0.975]\n",
      "------------------------------------------------------------------------------------------\n",
      "Intercept                  0.2147      0.003     72.744      0.000       0.209       0.220\n",
      "log_value_income_moyen     0.9964      0.000   3709.130      0.000       0.996       0.997\n",
      "values_gini               -0.0181   3.73e-05   -485.871      0.000      -0.018      -0.018\n",
      "C_i_parent                 0.0044   9.87e-06    445.789      0.000       0.004       0.004\n",
      "==============================================================================\n",
      "Omnibus:                   387931.100   Durbin-Watson:                   0.389\n",
      "Prob(Omnibus):                  0.000   Jarque-Bera (JB):          1901489.843\n",
      "Skew:                          -0.092   Prob(JB):                         0.00\n",
      "Kurtosis:                       5.811   Cond. No.                         706.\n",
      "==============================================================================\n",
      "\n",
      "Notes:\n",
      "[1] Standard Errors assume that the covariance matrix of the errors is correctly specified.\n"
     ]
    }
   ],
   "source": [
    "#la version avec C_i_parents et les log\n",
    "reg_multi = smf.ols('log_value_income~log_value_income_moyen+values_gini+C_i_parent', data=df_regression1_final).fit()\n",
    "print(reg_multi.summary())\n"
   ]
  },
  {
   "cell_type": "code",
   "execution_count": 118,
   "metadata": {},
   "outputs": [
    {
     "data": {
      "image/png": "[encoded data removed]",
      "text/plain": [
       "<Figure size 432x288 with 1 Axes>"
      ]
     },
     "metadata": {},
     "output_type": "display_data"
    }
   ],
   "source": [
    "# Plot Predicted values VS Real values\n",
    "plt.style.use('ggplot')\n",
    "df_regression1_final['Predicted_log_value_income'] = reg_multi.predict()\n",
    "X_plot = [df_regression1_final['log_value_income'].min(), df_regression1_final['log_value_income'].max()]\n",
    "ax = sns.scatterplot(x=\"log_value_income\", y=\"Predicted_log_value_income\", data=df_regression1_final)\n",
    "ax.set(xlabel='income log', ylabel='Predicted_income_log', title='Plot Predicted values VS Real values')\n",
    "plt.plot(X_plot, X_plot, color='b')\n",
    "plt.show()"
   ]
  },
  {
   "cell_type": "code",
   "execution_count": 73,
   "metadata": {},
   "outputs": [
    {
     "name": "stdout",
     "output_type": "stream",
     "text": [
      "[1.0761199348856707, 1.0738251189619235, 1.010806313125886]\n",
      "il n'y a pas de multicolinéarité entre les variables explicatives du modéle\n"
     ]
    }
   ],
   "source": [
    "# Vérifier si il y colinéarité entre les variables explicatives\n",
    "variables = reg_multi.model.exog\n",
    "print([variance_inflation_factor(variables, i) for i in np.arange(1,variables.shape[1])])\n",
    "print(\"il n'y a pas de multicolinéarité entre les variables explicatives du modéle\")"
   ]
  },
  {
   "cell_type": "code",
   "execution_count": 119,
   "metadata": {},
   "outputs": [
    {
     "data": {
      "image/png": "[encoded data removed]",
      "text/plain": [
       "<Figure size 432x288 with 1 Axes>"
      ]
     },
     "metadata": {},
     "output_type": "display_data"
    }
   ],
   "source": [
    "# Histogramme des résidus\n",
    "import matplotlib.pyplot as plt\n",
    "import seaborn as sns \n",
    "df_regression1_final['residu_s'] = reg_multi.resid\n",
    "plt.hist(df_regression1_final['residu_s'], density=True)\n",
    "plt.xlabel('Résidus')\n",
    "plt.title('Histogramme des résidus')\n",
    "plt.show()"
   ]
  },
  {
   "cell_type": "code",
   "execution_count": 120,
   "metadata": {},
   "outputs": [
    {
     "name": "stderr",
     "output_type": "stream",
     "text": [
      "/Users/stephaneea/opt/anaconda3/lib/python3.7/site-packages/seaborn/distributions.py:2551: FutureWarning:\n",
      "\n",
      "`distplot` is a deprecated function and will be removed in a future version. Please adapt your code to use either `displot` (a figure-level function with similar flexibility) or `histplot` (an axes-level function for histograms).\n",
      "\n"
     ]
    },
    {
     "data": {
      "text/plain": [
       "<AxesSubplot:title={'center':'Histogramme des résidus (Modèle final)'}, xlabel='residu_s'>"
      ]
     },
     "execution_count": 120,
     "metadata": {},
     "output_type": "execute_result"
    },
    {
     "data": {
      "image/png": "[encoded data removed]",
      "text/plain": [
       "<Figure size 576x432 with 1 Axes>"
      ]
     },
     "metadata": {},
     "output_type": "display_data"
    }
   ],
   "source": [
    "from scipy.stats import norm\n",
    "#voir histogramme des residus \n",
    "\n",
    "plt.figure(figsize=(8,6))\n",
    "plt.title('Histogramme des résidus (Modèle final)', size=18)\n",
    "sns.distplot(df_regression1_final['residu_s'], fit=norm, kde=False)"
   ]
  },
  {
   "cell_type": "code",
   "execution_count": 76,
   "metadata": {},
   "outputs": [
    {
     "name": "stdout",
     "output_type": "stream",
     "text": [
      "stat=387931.100, p=0.000\n",
      "la distribution des résidus n'est probablemement pas gaussien\n"
     ]
    }
   ],
   "source": [
    "\n",
    "# Vérifier si les résidus sont distribués normalement avec D'Agostino's K^2 Normality Test\n",
    "from scipy.stats import normaltest\n",
    "data = df_regression1_final['residu_s'].values\n",
    "stat, p = normaltest(data)\n",
    "print('stat=%.3f, p=%.3f' % (stat, p))\n",
    "if p > 0.05:\n",
    "    print('La distribution des residus du modèle est probablemement gaussien')\n",
    "else:\n",
    "    print(\"la distribution des résidus n'est probablemement pas gaussien\")"
   ]
  },
  {
   "cell_type": "code",
   "execution_count": 77,
   "metadata": {},
   "outputs": [
    {
     "name": "stdout",
     "output_type": "stream",
     "text": [
      "stat=22020.725\n",
      " la distribution des résidus n'est probablemement pas gaussien15.0% level\n",
      " la distribution des résidus n'est probablemement pas gaussien10.0% level\n",
      " la distribution des résidus n'est probablemement pas gaussien5.0% level\n",
      " la distribution des résidus n'est probablemement pas gaussien2.5% level\n",
      " la distribution des résidus n'est probablemement pas gaussien1.0% level\n"
     ]
    }
   ],
   "source": [
    "# Vérifier si les résidus sont distribués normalement avec Anderson-Darling Normality Test\n",
    "from scipy.stats import anderson\n",
    "data = df_regression1_final['residu_s'].values\n",
    "result = anderson(data)\n",
    "print('stat=%.3f' % (result.statistic))\n",
    "for i in range(len(result.critical_values)):\n",
    "    sl, cv = result.significance_level[i], result.critical_values[i]\n",
    "    if result.statistic < cv:\n",
    "        print('la distribution des residus du modèle est probablemement gaussien  %.1f%% level' % (sl))\n",
    "    else:\n",
    "            print(\" la distribution des résidus n'est probablemement pas gaussien%.1f%% level\" % (sl))"
   ]
  },
  {
   "cell_type": "code",
   "execution_count": 78,
   "metadata": {},
   "outputs": [
    {
     "name": "stdout",
     "output_type": "stream",
     "text": [
      "stat=0.976, p=0.000\n",
      "la distribution des résidus n'est probablemement pas gaussien\n"
     ]
    },
    {
     "name": "stderr",
     "output_type": "stream",
     "text": [
      "/Users/stephaneea/opt/anaconda3/lib/python3.7/site-packages/scipy/stats/morestats.py:1676: UserWarning:\n",
      "\n",
      "p-value may not be accurate for N > 5000.\n",
      "\n"
     ]
    }
   ],
   "source": [
    "#Vérifier si les résidus sont distribués normalement avec shapiro\n",
    "from scipy.stats import shapiro\n",
    "import scipy.stats\n",
    "data = df_regression1_final['residu_s'].values\n",
    "stat, p = shapiro(data)\n",
    "print('stat=%.3f, p=%.3f' % (stat, p))\n",
    "if p > 0.05:\n",
    "    print(\"la distribution des residus du modèle est probablemement gaussien\")\n",
    "else:\n",
    "    print(\"la distribution des résidus n'est probablemement pas gaussien\")"
   ]
  },
  {
   "cell_type": "code",
   "execution_count": 79,
   "metadata": {},
   "outputs": [
    {
     "data": {
      "image/png": "[encoded data removed]",
      "text/plain": [
       "<Figure size 576x432 with 1 Axes>"
      ]
     },
     "metadata": {},
     "output_type": "display_data"
    }
   ],
   "source": [
    "import scipy as sp\n",
    "#QQPLOT\n",
    "fig, ax = plt.subplots(figsize=(8,6))\n",
    "_, (__, ___, r) = sp.stats.probplot(data, plot=ax, fit=True)"
   ]
  },
  {
   "cell_type": "code",
   "execution_count": 80,
   "metadata": {},
   "outputs": [
    {
     "name": "stdout",
     "output_type": "stream",
     "text": [
      "p value test Breusch Pagan: 0.0\n"
     ]
    }
   ],
   "source": [
    "# Vérifier si il y homoscédaticité dans le modèle \n",
    "#Hypothèse H0 rejeter ,l'hétéroscédasticité est présente (les résidus ne sont pas distribués avec une variance égale)\n",
    "_, pval, __, f_pval = statsmodels.stats.diagnostic.het_breuschpagan(reg_multi.resid, variables)\n",
    "print('p value test Breusch Pagan:', pval)"
   ]
  },
  {
   "cell_type": "code",
   "execution_count": 81,
   "metadata": {},
   "outputs": [
    {
     "name": "stdout",
     "output_type": "stream",
     "text": [
      "7.65\n"
     ]
    }
   ],
   "source": [
    "#prédiction du revenu des individus en log avec en définisant les variables\n",
    "a_prevoir = pd.DataFrame({'log_value_income_moyen':8.004643, 'values_gini':30.0, 'C_i_parent': 1}, index=[0])\n",
    "log_income_prev = reg_multi.predict(a_prevoir)\n",
    "print(round(log_income_prev[0], 2))"
   ]
  },
  {
   "cell_type": "markdown",
   "metadata": {},
   "source": [
    "# En observant le coefficient de régression associé à l’indice de Gini, peut-on affirmer que le fait de vivre dans un pays plus inégalitaire favorise plus de personnes qu’il n’en défavorise ?\n"
   ]
  },
  {
   "cell_type": "raw",
   "metadata": {},
   "source": [
    "# ajouter 1 unité a l'incide de gini donc ça diminue la valeur de Y de -0.0181\n",
    "# plus indice de gini est elevé et moins les revenus sont elevés \n",
    "# Non on ne peux pas affirmer que dans pays plus inégalitaire , il favorise plus de personne qu'il n'en défavorise \n",
    "# plus le revenu moyen du pays de l'individus est élevé et plus les revenus de ces individus seront elevés"
   ]
  },
  {
   "cell_type": "markdown",
   "metadata": {},
   "source": [
    "# 3.4 Modèle reg_multiple Analyses des valeurs atypiques et influentes"
   ]
  },
  {
   "cell_type": "markdown",
   "metadata": {},
   "source": [
    "### Calculez les leviers"
   ]
  },
  {
   "cell_type": "code",
   "execution_count": 82,
   "metadata": {},
   "outputs": [
    {
     "data": {
      "text/html": [
       "<div>\n",
       "<style scoped>\n",
       "    .dataframe tbody tr th:only-of-type {\n",
       "        vertical-align: middle;\n",
       "    }\n",
       "\n",
       "    .dataframe tbody tr th {\n",
       "        vertical-align: top;\n",
       "    }\n",
       "\n",
       "    .dataframe thead th {\n",
       "        text-align: right;\n",
       "    }\n",
       "</style>\n",
       "<table border=\"1\" class=\"dataframe\">\n",
       "  <thead>\n",
       "    <tr style=\"text-align: right;\">\n",
       "      <th></th>\n",
       "      <th>obs</th>\n",
       "    </tr>\n",
       "  </thead>\n",
       "  <tbody>\n",
       "    <tr>\n",
       "      <th>0</th>\n",
       "      <td>1</td>\n",
       "    </tr>\n",
       "    <tr>\n",
       "      <th>1</th>\n",
       "      <td>2</td>\n",
       "    </tr>\n",
       "    <tr>\n",
       "      <th>2</th>\n",
       "      <td>3</td>\n",
       "    </tr>\n",
       "    <tr>\n",
       "      <th>3</th>\n",
       "      <td>4</td>\n",
       "    </tr>\n",
       "    <tr>\n",
       "      <th>4</th>\n",
       "      <td>5</td>\n",
       "    </tr>\n",
       "  </tbody>\n",
       "</table>\n",
       "</div>"
      ],
      "text/plain": [
       "   obs\n",
       "0    1\n",
       "1    2\n",
       "2    3\n",
       "3    4\n",
       "4    5"
      ]
     },
     "execution_count": 82,
     "metadata": {},
     "output_type": "execute_result"
    }
   ],
   "source": [
    "# réaliser les tests à un niveau  𝛼=5 % \n",
    "alpha = 0.05\n",
    "#n le nombre d'individus de l'échantillon\n",
    "n = df_regression1_final.shape[0]\n",
    "#p le nombre de variables.\n",
    "p = 4\n",
    "#Création df des observations\n",
    "analyses = pd.DataFrame({'obs':np.arange(1, n+1)})\n",
    "analyses.head()"
   ]
  },
  {
   "cell_type": "code",
   "execution_count": 83,
   "metadata": {},
   "outputs": [
    {
     "name": "stdout",
     "output_type": "stream",
     "text": [
      "(5750000, 7)\n"
     ]
    },
    {
     "data": {
      "text/html": [
       "<div>\n",
       "<style scoped>\n",
       "    .dataframe tbody tr th:only-of-type {\n",
       "        vertical-align: middle;\n",
       "    }\n",
       "\n",
       "    .dataframe tbody tr th {\n",
       "        vertical-align: top;\n",
       "    }\n",
       "\n",
       "    .dataframe thead th {\n",
       "        text-align: right;\n",
       "    }\n",
       "</style>\n",
       "<table border=\"1\" class=\"dataframe\">\n",
       "  <thead>\n",
       "    <tr style=\"text-align: right;\">\n",
       "      <th></th>\n",
       "      <th>obs</th>\n",
       "      <th>log_value_income</th>\n",
       "      <th>income</th>\n",
       "      <th>income_moyen</th>\n",
       "      <th>log_value_income_moyen</th>\n",
       "      <th>values_gini</th>\n",
       "      <th>C_i_parent</th>\n",
       "    </tr>\n",
       "    <tr>\n",
       "      <th>Country_Name</th>\n",
       "      <th></th>\n",
       "      <th></th>\n",
       "      <th></th>\n",
       "      <th></th>\n",
       "      <th></th>\n",
       "      <th></th>\n",
       "      <th></th>\n",
       "    </tr>\n",
       "  </thead>\n",
       "  <tbody>\n",
       "    <tr>\n",
       "      <th>Albanie</th>\n",
       "      <td>1</td>\n",
       "      <td>6.591534</td>\n",
       "      <td>728.89795</td>\n",
       "      <td>2994.829902</td>\n",
       "      <td>8.004643</td>\n",
       "      <td>30.0</td>\n",
       "      <td>1</td>\n",
       "    </tr>\n",
       "    <tr>\n",
       "      <th>Albanie</th>\n",
       "      <td>2</td>\n",
       "      <td>6.820739</td>\n",
       "      <td>916.66235</td>\n",
       "      <td>2994.829902</td>\n",
       "      <td>8.004643</td>\n",
       "      <td>30.0</td>\n",
       "      <td>1</td>\n",
       "    </tr>\n",
       "    <tr>\n",
       "      <th>Albanie</th>\n",
       "      <td>3</td>\n",
       "      <td>6.918612</td>\n",
       "      <td>1010.91600</td>\n",
       "      <td>2994.829902</td>\n",
       "      <td>8.004643</td>\n",
       "      <td>30.0</td>\n",
       "      <td>1</td>\n",
       "    </tr>\n",
       "    <tr>\n",
       "      <th>Albanie</th>\n",
       "      <td>4</td>\n",
       "      <td>6.991092</td>\n",
       "      <td>1086.90780</td>\n",
       "      <td>2994.829902</td>\n",
       "      <td>8.004643</td>\n",
       "      <td>30.0</td>\n",
       "      <td>1</td>\n",
       "    </tr>\n",
       "    <tr>\n",
       "      <th>Albanie</th>\n",
       "      <td>5</td>\n",
       "      <td>7.032359</td>\n",
       "      <td>1132.69970</td>\n",
       "      <td>2994.829902</td>\n",
       "      <td>8.004643</td>\n",
       "      <td>30.0</td>\n",
       "      <td>1</td>\n",
       "    </tr>\n",
       "  </tbody>\n",
       "</table>\n",
       "</div>"
      ],
      "text/plain": [
       "              obs  log_value_income      income  income_moyen  \\\n",
       "Country_Name                                                    \n",
       "Albanie         1          6.591534   728.89795   2994.829902   \n",
       "Albanie         2          6.820739   916.66235   2994.829902   \n",
       "Albanie         3          6.918612  1010.91600   2994.829902   \n",
       "Albanie         4          6.991092  1086.90780   2994.829902   \n",
       "Albanie         5          7.032359  1132.69970   2994.829902   \n",
       "\n",
       "              log_value_income_moyen  values_gini  C_i_parent  \n",
       "Country_Name                                                   \n",
       "Albanie                     8.004643         30.0           1  \n",
       "Albanie                     8.004643         30.0           1  \n",
       "Albanie                     8.004643         30.0           1  \n",
       "Albanie                     8.004643         30.0           1  \n",
       "Albanie                     8.004643         30.0           1  "
      ]
     },
     "execution_count": 83,
     "metadata": {},
     "output_type": "execute_result"
    }
   ],
   "source": [
    "#concaténations entre les observations et les colonnes de df_regression1_final\n",
    "analyses = pd.concat([analyses, df_regression1_final[['Country_Name', 'log_value_income','income','income_moyen','log_value_income_moyen','values_gini','C_i_parent' ]]], axis=1).set_index('Country_Name')\n",
    "print(analyses.shape)\n",
    "analyses.head()"
   ]
  },
  {
   "cell_type": "code",
   "execution_count": 84,
   "metadata": {},
   "outputs": [],
   "source": [
    "#Création colonne levier (atypicité)\n",
    "analyses['levier'] = reg_multi.get_influence().hat_matrix_diag\n",
    "# calculer seuil levier (variables explicative)\n",
    "seuil_levier = 2*p/n"
   ]
  },
  {
   "cell_type": "markdown",
   "metadata": {},
   "source": [
    "### Calculez les résidus studentisés\n",
    "\n",
    "Si l'on souhaite maintenant calculer les résidus studentisés, nous écrivons ceci, sachant que le seuil pour les résidus studentisés est une loi de Student à n-p-1 degrés de liberté :"
   ]
  },
  {
   "cell_type": "code",
   "execution_count": 85,
   "metadata": {},
   "outputs": [],
   "source": [
    "\n",
    "# Création colonne rstudent (variable expliquée, atypicité)\n",
    "analyses['rstudent'] = reg_multi.get_influence().resid_studentized_internal\n",
    "#Calculer seuil residus studentisés\n",
    "seuil_rstudent = t.ppf(1-alpha/2,n-p-1)"
   ]
  },
  {
   "cell_type": "code",
   "execution_count": 86,
   "metadata": {},
   "outputs": [
    {
     "data": {
      "text/html": [
       "<div>\n",
       "<style scoped>\n",
       "    .dataframe tbody tr th:only-of-type {\n",
       "        vertical-align: middle;\n",
       "    }\n",
       "\n",
       "    .dataframe tbody tr th {\n",
       "        vertical-align: top;\n",
       "    }\n",
       "\n",
       "    .dataframe thead th {\n",
       "        text-align: right;\n",
       "    }\n",
       "</style>\n",
       "<table border=\"1\" class=\"dataframe\">\n",
       "  <thead>\n",
       "    <tr style=\"text-align: right;\">\n",
       "      <th></th>\n",
       "      <th>obs</th>\n",
       "      <th>log_value_income</th>\n",
       "      <th>income</th>\n",
       "      <th>income_moyen</th>\n",
       "      <th>log_value_income_moyen</th>\n",
       "      <th>values_gini</th>\n",
       "      <th>C_i_parent</th>\n",
       "      <th>levier</th>\n",
       "      <th>rstudent</th>\n",
       "    </tr>\n",
       "    <tr>\n",
       "      <th>Country_Name</th>\n",
       "      <th></th>\n",
       "      <th></th>\n",
       "      <th></th>\n",
       "      <th></th>\n",
       "      <th></th>\n",
       "      <th></th>\n",
       "      <th></th>\n",
       "      <th></th>\n",
       "      <th></th>\n",
       "    </tr>\n",
       "  </thead>\n",
       "  <tbody>\n",
       "    <tr>\n",
       "      <th>Albanie</th>\n",
       "      <td>1</td>\n",
       "      <td>6.591534</td>\n",
       "      <td>728.89795</td>\n",
       "      <td>2994.829902</td>\n",
       "      <td>8.004643</td>\n",
       "      <td>30.0</td>\n",
       "      <td>1</td>\n",
       "      <td>8.464855e-07</td>\n",
       "      <td>-1.493530</td>\n",
       "    </tr>\n",
       "    <tr>\n",
       "      <th>Albanie</th>\n",
       "      <td>2</td>\n",
       "      <td>6.820739</td>\n",
       "      <td>916.66235</td>\n",
       "      <td>2994.829902</td>\n",
       "      <td>8.004643</td>\n",
       "      <td>30.0</td>\n",
       "      <td>1</td>\n",
       "      <td>8.464855e-07</td>\n",
       "      <td>-1.170380</td>\n",
       "    </tr>\n",
       "    <tr>\n",
       "      <th>Albanie</th>\n",
       "      <td>3</td>\n",
       "      <td>6.918612</td>\n",
       "      <td>1010.91600</td>\n",
       "      <td>2994.829902</td>\n",
       "      <td>8.004643</td>\n",
       "      <td>30.0</td>\n",
       "      <td>1</td>\n",
       "      <td>8.464855e-07</td>\n",
       "      <td>-1.032392</td>\n",
       "    </tr>\n",
       "    <tr>\n",
       "      <th>Albanie</th>\n",
       "      <td>4</td>\n",
       "      <td>6.991092</td>\n",
       "      <td>1086.90780</td>\n",
       "      <td>2994.829902</td>\n",
       "      <td>8.004643</td>\n",
       "      <td>30.0</td>\n",
       "      <td>1</td>\n",
       "      <td>8.464855e-07</td>\n",
       "      <td>-0.930204</td>\n",
       "    </tr>\n",
       "    <tr>\n",
       "      <th>Albanie</th>\n",
       "      <td>5</td>\n",
       "      <td>7.032359</td>\n",
       "      <td>1132.69970</td>\n",
       "      <td>2994.829902</td>\n",
       "      <td>8.004643</td>\n",
       "      <td>30.0</td>\n",
       "      <td>1</td>\n",
       "      <td>8.464855e-07</td>\n",
       "      <td>-0.872023</td>\n",
       "    </tr>\n",
       "  </tbody>\n",
       "</table>\n",
       "</div>"
      ],
      "text/plain": [
       "              obs  log_value_income      income  income_moyen  \\\n",
       "Country_Name                                                    \n",
       "Albanie         1          6.591534   728.89795   2994.829902   \n",
       "Albanie         2          6.820739   916.66235   2994.829902   \n",
       "Albanie         3          6.918612  1010.91600   2994.829902   \n",
       "Albanie         4          6.991092  1086.90780   2994.829902   \n",
       "Albanie         5          7.032359  1132.69970   2994.829902   \n",
       "\n",
       "              log_value_income_moyen  values_gini  C_i_parent        levier  \\\n",
       "Country_Name                                                                  \n",
       "Albanie                     8.004643         30.0           1  8.464855e-07   \n",
       "Albanie                     8.004643         30.0           1  8.464855e-07   \n",
       "Albanie                     8.004643         30.0           1  8.464855e-07   \n",
       "Albanie                     8.004643         30.0           1  8.464855e-07   \n",
       "Albanie                     8.004643         30.0           1  8.464855e-07   \n",
       "\n",
       "              rstudent  \n",
       "Country_Name            \n",
       "Albanie      -1.493530  \n",
       "Albanie      -1.170380  \n",
       "Albanie      -1.032392  \n",
       "Albanie      -0.930204  \n",
       "Albanie      -0.872023  "
      ]
     },
     "execution_count": 86,
     "metadata": {},
     "output_type": "execute_result"
    }
   ],
   "source": [
    "#Voir la tete du df analyses\n",
    "analyses.head()"
   ]
  },
  {
   "cell_type": "code",
   "execution_count": 87,
   "metadata": {},
   "outputs": [
    {
     "name": "stdout",
     "output_type": "stream",
     "text": [
      "1.9599643971094074\n",
      "-1.9599643971094074\n"
     ]
    },
    {
     "data": {
      "text/plain": [
       "-1.9599643971094074"
      ]
     },
     "execution_count": 87,
     "metadata": {},
     "output_type": "execute_result"
    }
   ],
   "source": [
    "#Afficher les valeurs des seuils residus studentisés\n",
    "print(seuil_rstudent)\n",
    "print(-seuil_rstudent)\n",
    "seuil_rstudent_negative = - seuil_rstudent\n",
    "seuil_rstudent_negative"
   ]
  },
  {
   "cell_type": "markdown",
   "metadata": {},
   "source": [
    "### La distance de cook "
   ]
  },
  {
   "cell_type": "code",
   "execution_count": 88,
   "metadata": {},
   "outputs": [
    {
     "name": "stdout",
     "output_type": "stream",
     "text": [
      "6.956526578453272e-07\n"
     ]
    }
   ],
   "source": [
    "#trouver la distance de Cook\n",
    "influence = reg_multi.get_influence()\n",
    "#le seuil de la distance de Cook est de n-p\n",
    "seuils_dcook = 4/(n-p)\n",
    "#trouver la distance de Cook\n",
    "cooks = influence.cooks_distance\n",
    "analyses['cook'] = cooks[0]\n",
    "# le seuil dcook\n",
    "print(seuils_dcook)"
   ]
  },
  {
   "cell_type": "code",
   "execution_count": 89,
   "metadata": {},
   "outputs": [
    {
     "name": "stdout",
     "output_type": "stream",
     "text": [
      "(5432593, 11)\n"
     ]
    },
    {
     "data": {
      "text/html": [
       "<div>\n",
       "<style scoped>\n",
       "    .dataframe tbody tr th:only-of-type {\n",
       "        vertical-align: middle;\n",
       "    }\n",
       "\n",
       "    .dataframe tbody tr th {\n",
       "        vertical-align: top;\n",
       "    }\n",
       "\n",
       "    .dataframe thead th {\n",
       "        text-align: right;\n",
       "    }\n",
       "</style>\n",
       "<table border=\"1\" class=\"dataframe\">\n",
       "  <thead>\n",
       "    <tr style=\"text-align: right;\">\n",
       "      <th></th>\n",
       "      <th>Country_Name</th>\n",
       "      <th>obs</th>\n",
       "      <th>log_value_income</th>\n",
       "      <th>income</th>\n",
       "      <th>income_moyen</th>\n",
       "      <th>log_value_income_moyen</th>\n",
       "      <th>values_gini</th>\n",
       "      <th>C_i_parent</th>\n",
       "      <th>levier</th>\n",
       "      <th>rstudent</th>\n",
       "      <th>cook</th>\n",
       "    </tr>\n",
       "  </thead>\n",
       "  <tbody>\n",
       "    <tr>\n",
       "      <th>0</th>\n",
       "      <td>Albanie</td>\n",
       "      <td>1</td>\n",
       "      <td>6.591534</td>\n",
       "      <td>728.89795</td>\n",
       "      <td>2994.829902</td>\n",
       "      <td>8.004643</td>\n",
       "      <td>30.0</td>\n",
       "      <td>1</td>\n",
       "      <td>8.464855e-07</td>\n",
       "      <td>-1.493530</td>\n",
       "      <td>4.720498e-07</td>\n",
       "    </tr>\n",
       "    <tr>\n",
       "      <th>1</th>\n",
       "      <td>Albanie</td>\n",
       "      <td>2</td>\n",
       "      <td>6.820739</td>\n",
       "      <td>916.66235</td>\n",
       "      <td>2994.829902</td>\n",
       "      <td>8.004643</td>\n",
       "      <td>30.0</td>\n",
       "      <td>1</td>\n",
       "      <td>8.464855e-07</td>\n",
       "      <td>-1.170380</td>\n",
       "      <td>2.898770e-07</td>\n",
       "    </tr>\n",
       "    <tr>\n",
       "      <th>2</th>\n",
       "      <td>Albanie</td>\n",
       "      <td>3</td>\n",
       "      <td>6.918612</td>\n",
       "      <td>1010.91600</td>\n",
       "      <td>2994.829902</td>\n",
       "      <td>8.004643</td>\n",
       "      <td>30.0</td>\n",
       "      <td>1</td>\n",
       "      <td>8.464855e-07</td>\n",
       "      <td>-1.032392</td>\n",
       "      <td>2.255532e-07</td>\n",
       "    </tr>\n",
       "    <tr>\n",
       "      <th>3</th>\n",
       "      <td>Albanie</td>\n",
       "      <td>4</td>\n",
       "      <td>6.991092</td>\n",
       "      <td>1086.90780</td>\n",
       "      <td>2994.829902</td>\n",
       "      <td>8.004643</td>\n",
       "      <td>30.0</td>\n",
       "      <td>1</td>\n",
       "      <td>8.464855e-07</td>\n",
       "      <td>-0.930204</td>\n",
       "      <td>1.831120e-07</td>\n",
       "    </tr>\n",
       "    <tr>\n",
       "      <th>4</th>\n",
       "      <td>Albanie</td>\n",
       "      <td>5</td>\n",
       "      <td>7.032359</td>\n",
       "      <td>1132.69970</td>\n",
       "      <td>2994.829902</td>\n",
       "      <td>8.004643</td>\n",
       "      <td>30.0</td>\n",
       "      <td>1</td>\n",
       "      <td>8.464855e-07</td>\n",
       "      <td>-0.872023</td>\n",
       "      <td>1.609222e-07</td>\n",
       "    </tr>\n",
       "  </tbody>\n",
       "</table>\n",
       "</div>"
      ],
      "text/plain": [
       "  Country_Name  obs  log_value_income      income  income_moyen  \\\n",
       "0      Albanie    1          6.591534   728.89795   2994.829902   \n",
       "1      Albanie    2          6.820739   916.66235   2994.829902   \n",
       "2      Albanie    3          6.918612  1010.91600   2994.829902   \n",
       "3      Albanie    4          6.991092  1086.90780   2994.829902   \n",
       "4      Albanie    5          7.032359  1132.69970   2994.829902   \n",
       "\n",
       "   log_value_income_moyen  values_gini  C_i_parent        levier  rstudent  \\\n",
       "0                8.004643         30.0           1  8.464855e-07 -1.493530   \n",
       "1                8.004643         30.0           1  8.464855e-07 -1.170380   \n",
       "2                8.004643         30.0           1  8.464855e-07 -1.032392   \n",
       "3                8.004643         30.0           1  8.464855e-07 -0.930204   \n",
       "4                8.004643         30.0           1  8.464855e-07 -0.872023   \n",
       "\n",
       "           cook  \n",
       "0  4.720498e-07  \n",
       "1  2.898770e-07  \n",
       "2  2.255532e-07  \n",
       "3  1.831120e-07  \n",
       "4  1.609222e-07  "
      ]
     },
     "execution_count": 89,
     "metadata": {},
     "output_type": "execute_result"
    }
   ],
   "source": [
    "# voir les observations Inférieure au seuil dcook\n",
    "reg_cook_influence = analyses[analyses['cook'] < seuils_dcook]\n",
    "reg_cook_influence = reg_cook_influence.reset_index()\n",
    "print(reg_cook_influence.shape)\n",
    "reg_cook_influence.head()"
   ]
  },
  {
   "cell_type": "code",
   "execution_count": 90,
   "metadata": {},
   "outputs": [
    {
     "name": "stdout",
     "output_type": "stream",
     "text": [
      "1.391304347826087e-06\n",
      "1.9599643971094074\n",
      "-1.9599643971094074\n",
      "6.956526578453272e-07\n"
     ]
    }
   ],
   "source": [
    "#afficher tout les seuils pour atypicité et influence \n",
    "print(seuil_levier)\n",
    "print(seuil_rstudent)\n",
    "print(seuil_rstudent_negative)\n",
    "print(seuils_dcook)"
   ]
  },
  {
   "cell_type": "code",
   "execution_count": 91,
   "metadata": {},
   "outputs": [
    {
     "name": "stdout",
     "output_type": "stream",
     "text": [
      "(5342082, 10)\n"
     ]
    },
    {
     "data": {
      "text/html": [
       "<div>\n",
       "<style scoped>\n",
       "    .dataframe tbody tr th:only-of-type {\n",
       "        vertical-align: middle;\n",
       "    }\n",
       "\n",
       "    .dataframe tbody tr th {\n",
       "        vertical-align: top;\n",
       "    }\n",
       "\n",
       "    .dataframe thead th {\n",
       "        text-align: right;\n",
       "    }\n",
       "</style>\n",
       "<table border=\"1\" class=\"dataframe\">\n",
       "  <thead>\n",
       "    <tr style=\"text-align: right;\">\n",
       "      <th></th>\n",
       "      <th>obs</th>\n",
       "      <th>log_value_income</th>\n",
       "      <th>income</th>\n",
       "      <th>income_moyen</th>\n",
       "      <th>log_value_income_moyen</th>\n",
       "      <th>values_gini</th>\n",
       "      <th>C_i_parent</th>\n",
       "      <th>levier</th>\n",
       "      <th>rstudent</th>\n",
       "      <th>cook</th>\n",
       "    </tr>\n",
       "    <tr>\n",
       "      <th>Country_Name</th>\n",
       "      <th></th>\n",
       "      <th></th>\n",
       "      <th></th>\n",
       "      <th></th>\n",
       "      <th></th>\n",
       "      <th></th>\n",
       "      <th></th>\n",
       "      <th></th>\n",
       "      <th></th>\n",
       "      <th></th>\n",
       "    </tr>\n",
       "  </thead>\n",
       "  <tbody>\n",
       "    <tr>\n",
       "      <th>Roumanie</th>\n",
       "      <td>4252404</td>\n",
       "      <td>6.278211</td>\n",
       "      <td>532.83435</td>\n",
       "      <td>3318.337189</td>\n",
       "      <td>8.107219</td>\n",
       "      <td>36.4</td>\n",
       "      <td>53</td>\n",
       "      <td>1.796317e-07</td>\n",
       "      <td>-2.238318</td>\n",
       "      <td>2.249919e-07</td>\n",
       "    </tr>\n",
       "    <tr>\n",
       "      <th>Roumanie</th>\n",
       "      <td>951934</td>\n",
       "      <td>7.613318</td>\n",
       "      <td>2024.98570</td>\n",
       "      <td>3318.337189</td>\n",
       "      <td>8.107219</td>\n",
       "      <td>36.4</td>\n",
       "      <td>53</td>\n",
       "      <td>1.796317e-07</td>\n",
       "      <td>-0.355990</td>\n",
       "      <td>5.691138e-09</td>\n",
       "    </tr>\n",
       "    <tr>\n",
       "      <th>Roumanie</th>\n",
       "      <td>2354901</td>\n",
       "      <td>5.297168</td>\n",
       "      <td>199.77019</td>\n",
       "      <td>3318.337189</td>\n",
       "      <td>8.107219</td>\n",
       "      <td>36.4</td>\n",
       "      <td>53</td>\n",
       "      <td>1.796317e-07</td>\n",
       "      <td>-3.621462</td>\n",
       "      <td>5.889670e-07</td>\n",
       "    </tr>\n",
       "    <tr>\n",
       "      <th>Roumanie</th>\n",
       "      <td>1400471</td>\n",
       "      <td>8.274067</td>\n",
       "      <td>3920.86470</td>\n",
       "      <td>3318.337189</td>\n",
       "      <td>8.107219</td>\n",
       "      <td>36.4</td>\n",
       "      <td>53</td>\n",
       "      <td>1.796317e-07</td>\n",
       "      <td>0.575581</td>\n",
       "      <td>1.487771e-08</td>\n",
       "    </tr>\n",
       "    <tr>\n",
       "      <th>Roumanie</th>\n",
       "      <td>3654401</td>\n",
       "      <td>5.297168</td>\n",
       "      <td>199.77019</td>\n",
       "      <td>3318.337189</td>\n",
       "      <td>8.107219</td>\n",
       "      <td>36.4</td>\n",
       "      <td>53</td>\n",
       "      <td>1.796317e-07</td>\n",
       "      <td>-3.621462</td>\n",
       "      <td>5.889670e-07</td>\n",
       "    </tr>\n",
       "  </tbody>\n",
       "</table>\n",
       "</div>"
      ],
      "text/plain": [
       "                  obs  log_value_income      income  income_moyen  \\\n",
       "Country_Name                                                        \n",
       "Roumanie      4252404          6.278211   532.83435   3318.337189   \n",
       "Roumanie       951934          7.613318  2024.98570   3318.337189   \n",
       "Roumanie      2354901          5.297168   199.77019   3318.337189   \n",
       "Roumanie      1400471          8.274067  3920.86470   3318.337189   \n",
       "Roumanie      3654401          5.297168   199.77019   3318.337189   \n",
       "\n",
       "              log_value_income_moyen  values_gini  C_i_parent        levier  \\\n",
       "Country_Name                                                                  \n",
       "Roumanie                    8.107219         36.4          53  1.796317e-07   \n",
       "Roumanie                    8.107219         36.4          53  1.796317e-07   \n",
       "Roumanie                    8.107219         36.4          53  1.796317e-07   \n",
       "Roumanie                    8.107219         36.4          53  1.796317e-07   \n",
       "Roumanie                    8.107219         36.4          53  1.796317e-07   \n",
       "\n",
       "              rstudent          cook  \n",
       "Country_Name                          \n",
       "Roumanie     -2.238318  2.249919e-07  \n",
       "Roumanie     -0.355990  5.691138e-09  \n",
       "Roumanie     -3.621462  5.889670e-07  \n",
       "Roumanie      0.575581  1.487771e-08  \n",
       "Roumanie     -3.621462  5.889670e-07  "
      ]
     },
     "execution_count": 91,
     "metadata": {},
     "output_type": "execute_result"
    }
   ],
   "source": [
    "#Conserver les observations entre seuil positif et négatif (rstudent)\n",
    "#conserver les observations sous le seuil dcook\n",
    "#conserver les observations sous le seuil levier \n",
    "\n",
    "\n",
    "reg_atyp_influence = analyses[((analyses['rstudent'] < seuil_rstudent)|(analyses['rstudent'] > seuil_rstudent_negative))\n",
    "             &(analyses['levier']<seuil_levier)&(analyses['cook'] < seuils_dcook)]\n",
    "\n",
    "\n",
    "\n",
    "\n",
    "# voir les dimensions aprés avoir retirer les observations atypiques et influentes pour le modèle\n",
    "print(reg_atyp_influence.shape)\n",
    "reg_atyp_influence.sort_values(by='levier',ascending=True).head()\n"
   ]
  },
  {
   "cell_type": "code",
   "execution_count": 92,
   "metadata": {},
   "outputs": [
    {
     "data": {
      "text/plain": [
       "-40791800"
      ]
     },
     "execution_count": 92,
     "metadata": {},
     "output_type": "execute_result"
    }
   ],
   "source": [
    "#Les observations supprimées avec Atypicités et influentes  \n",
    "(5342082-5750000)*100"
   ]
  },
  {
   "cell_type": "code",
   "execution_count": 93,
   "metadata": {},
   "outputs": [
    {
     "data": {
      "text/html": [
       "<div>\n",
       "<style scoped>\n",
       "    .dataframe tbody tr th:only-of-type {\n",
       "        vertical-align: middle;\n",
       "    }\n",
       "\n",
       "    .dataframe tbody tr th {\n",
       "        vertical-align: top;\n",
       "    }\n",
       "\n",
       "    .dataframe thead th {\n",
       "        text-align: right;\n",
       "    }\n",
       "</style>\n",
       "<table border=\"1\" class=\"dataframe\">\n",
       "  <thead>\n",
       "    <tr style=\"text-align: right;\">\n",
       "      <th></th>\n",
       "      <th>obs</th>\n",
       "      <th>log_value_income</th>\n",
       "      <th>income</th>\n",
       "      <th>income_moyen</th>\n",
       "      <th>log_value_income_moyen</th>\n",
       "      <th>values_gini</th>\n",
       "      <th>C_i_parent</th>\n",
       "      <th>levier</th>\n",
       "      <th>rstudent</th>\n",
       "      <th>cook</th>\n",
       "    </tr>\n",
       "    <tr>\n",
       "      <th>Country_Name</th>\n",
       "      <th></th>\n",
       "      <th></th>\n",
       "      <th></th>\n",
       "      <th></th>\n",
       "      <th></th>\n",
       "      <th></th>\n",
       "      <th></th>\n",
       "      <th></th>\n",
       "      <th></th>\n",
       "      <th></th>\n",
       "    </tr>\n",
       "  </thead>\n",
       "  <tbody>\n",
       "    <tr>\n",
       "      <th>Albanie</th>\n",
       "      <td>1</td>\n",
       "      <td>6.591534</td>\n",
       "      <td>728.89795</td>\n",
       "      <td>2994.829902</td>\n",
       "      <td>8.004643</td>\n",
       "      <td>30.0</td>\n",
       "      <td>1</td>\n",
       "      <td>8.464855e-07</td>\n",
       "      <td>-1.493530</td>\n",
       "      <td>4.720498e-07</td>\n",
       "    </tr>\n",
       "    <tr>\n",
       "      <th>Albanie</th>\n",
       "      <td>2</td>\n",
       "      <td>6.820739</td>\n",
       "      <td>916.66235</td>\n",
       "      <td>2994.829902</td>\n",
       "      <td>8.004643</td>\n",
       "      <td>30.0</td>\n",
       "      <td>1</td>\n",
       "      <td>8.464855e-07</td>\n",
       "      <td>-1.170380</td>\n",
       "      <td>2.898770e-07</td>\n",
       "    </tr>\n",
       "    <tr>\n",
       "      <th>Albanie</th>\n",
       "      <td>3</td>\n",
       "      <td>6.918612</td>\n",
       "      <td>1010.91600</td>\n",
       "      <td>2994.829902</td>\n",
       "      <td>8.004643</td>\n",
       "      <td>30.0</td>\n",
       "      <td>1</td>\n",
       "      <td>8.464855e-07</td>\n",
       "      <td>-1.032392</td>\n",
       "      <td>2.255532e-07</td>\n",
       "    </tr>\n",
       "    <tr>\n",
       "      <th>Albanie</th>\n",
       "      <td>4</td>\n",
       "      <td>6.991092</td>\n",
       "      <td>1086.90780</td>\n",
       "      <td>2994.829902</td>\n",
       "      <td>8.004643</td>\n",
       "      <td>30.0</td>\n",
       "      <td>1</td>\n",
       "      <td>8.464855e-07</td>\n",
       "      <td>-0.930204</td>\n",
       "      <td>1.831120e-07</td>\n",
       "    </tr>\n",
       "    <tr>\n",
       "      <th>Albanie</th>\n",
       "      <td>5</td>\n",
       "      <td>7.032359</td>\n",
       "      <td>1132.69970</td>\n",
       "      <td>2994.829902</td>\n",
       "      <td>8.004643</td>\n",
       "      <td>30.0</td>\n",
       "      <td>1</td>\n",
       "      <td>8.464855e-07</td>\n",
       "      <td>-0.872023</td>\n",
       "      <td>1.609222e-07</td>\n",
       "    </tr>\n",
       "  </tbody>\n",
       "</table>\n",
       "</div>"
      ],
      "text/plain": [
       "              obs  log_value_income      income  income_moyen  \\\n",
       "Country_Name                                                    \n",
       "Albanie         1          6.591534   728.89795   2994.829902   \n",
       "Albanie         2          6.820739   916.66235   2994.829902   \n",
       "Albanie         3          6.918612  1010.91600   2994.829902   \n",
       "Albanie         4          6.991092  1086.90780   2994.829902   \n",
       "Albanie         5          7.032359  1132.69970   2994.829902   \n",
       "\n",
       "              log_value_income_moyen  values_gini  C_i_parent        levier  \\\n",
       "Country_Name                                                                  \n",
       "Albanie                     8.004643         30.0           1  8.464855e-07   \n",
       "Albanie                     8.004643         30.0           1  8.464855e-07   \n",
       "Albanie                     8.004643         30.0           1  8.464855e-07   \n",
       "Albanie                     8.004643         30.0           1  8.464855e-07   \n",
       "Albanie                     8.004643         30.0           1  8.464855e-07   \n",
       "\n",
       "              rstudent          cook  \n",
       "Country_Name                          \n",
       "Albanie      -1.493530  4.720498e-07  \n",
       "Albanie      -1.170380  2.898770e-07  \n",
       "Albanie      -1.032392  2.255532e-07  \n",
       "Albanie      -0.930204  1.831120e-07  \n",
       "Albanie      -0.872023  1.609222e-07  "
      ]
     },
     "execution_count": 93,
     "metadata": {},
     "output_type": "execute_result"
    }
   ],
   "source": [
    "reg_atyp_influence.head()"
   ]
  },
  {
   "cell_type": "code",
   "execution_count": 122,
   "metadata": {},
   "outputs": [
    {
     "name": "stdout",
     "output_type": "stream",
     "text": [
      "                            OLS Regression Results                            \n",
      "==============================================================================\n",
      "Dep. Variable:       log_value_income   R-squared:                       0.815\n",
      "Model:                            OLS   Adj. R-squared:                  0.815\n",
      "Method:                 Least Squares   F-statistic:                 7.848e+06\n",
      "Date:                Tue, 13 Apr 2021   Prob (F-statistic):               0.00\n",
      "Time:                        15:26:07   Log-Likelihood:            -4.5942e+06\n",
      "No. Observations:             5342082   AIC:                         9.188e+06\n",
      "Df Residuals:                 5342078   BIC:                         9.188e+06\n",
      "Df Model:                           3                                         \n",
      "Covariance Type:            nonrobust                                         \n",
      "==========================================================================================\n",
      "                             coef    std err          t      P>|t|      [0.025      0.975]\n",
      "------------------------------------------------------------------------------------------\n",
      "Intercept                  0.1020      0.003     39.680      0.000       0.097       0.107\n",
      "log_value_income_moyen     1.0100      0.000   4488.798      0.000       1.010       1.010\n",
      "values_gini               -0.0173   3.51e-05   -492.407      0.000      -0.017      -0.017\n",
      "C_i_parent                 0.0038   8.35e-06    450.424      0.000       0.004       0.004\n",
      "==============================================================================\n",
      "Omnibus:                     2607.299   Durbin-Watson:                   0.246\n",
      "Prob(Omnibus):                  0.000   Jarque-Bera (JB):             2622.208\n",
      "Skew:                           0.051   Prob(JB):                         0.00\n",
      "Kurtosis:                       3.038   Cond. No.                         730.\n",
      "==============================================================================\n",
      "\n",
      "Notes:\n",
      "[1] Standard Errors assume that the covariance matrix of the errors is correctly specified.\n"
     ]
    }
   ],
   "source": [
    "# regression multiple sans les valeurs atypiques et infleuntes \n",
    "reg_multi_no_influence = smf.ols('log_value_income~log_value_income_moyen+values_gini+C_i_parent', data=reg_atyp_influence).fit()\n",
    "print(reg_multi_no_influence.summary())"
   ]
  },
  {
   "cell_type": "code",
   "execution_count": 123,
   "metadata": {},
   "outputs": [
    {
     "data": {
      "text/plain": [
       "<AxesSubplot:title={'center':'Les corrélations entre les variables'}>"
      ]
     },
     "execution_count": 123,
     "metadata": {},
     "output_type": "execute_result"
    },
    {
     "data": {
      "image/png": "[encoded data removed]",
      "text/plain": [
       "<Figure size 1080x504 with 2 Axes>"
      ]
     },
     "metadata": {},
     "output_type": "display_data"
    }
   ],
   "source": [
    "#Voir les corrélations entre variables\n",
    "reg_atyp_influence_corr =reg_atyp_influence.iloc[:,[1,2,3,4,5,6]]\n",
    "plt.subplots(figsize=(15,7))\n",
    "plt.title('Les corrélations entre les variables', size=22)\n",
    "sns.heatmap(reg_atyp_influence_corr.corr(), annot = True, cmap='coolwarm')"
   ]
  },
  {
   "cell_type": "code",
   "execution_count": 102,
   "metadata": {},
   "outputs": [
    {
     "name": "stdout",
     "output_type": "stream",
     "text": [
      "[1.094510702394315, 1.0975633514647887, 1.012124534476158]\n",
      "il n'y a pas de multicolinéarité entre les variables explicatives du modéle\n"
     ]
    }
   ],
   "source": [
    "#vérifier si il y a colinéarité entre les variables explicatives \n",
    "variables = reg_multi_no_influence.model.exog\n",
    "print([variance_inflation_factor(variables, i) for i in np.arange(1,variables.shape[1])])\n",
    "print(\"il n'y a pas de multicolinéarité entre les variables explicatives du modéle\")"
   ]
  },
  {
   "cell_type": "code",
   "execution_count": 103,
   "metadata": {},
   "outputs": [
    {
     "data": {
      "text/plain": [
       "[('Lagrange multiplier statistic', 161304.05196683772),\n",
       " ('p-value', 0.0),\n",
       " ('f-value', 55442.04853443157),\n",
       " ('f p-value', 0.0)]"
      ]
     },
     "execution_count": 103,
     "metadata": {},
     "output_type": "execute_result"
    }
   ],
   "source": [
    "from statsmodels.compat import lzip\n",
    "import statsmodels.stats.api as sms \n",
    "\n",
    "#Vérifier si il y a homoscédasticité \n",
    "names = ['Lagrange multiplier statistic', 'p-value', \n",
    "        'f-value', 'f p-value'] \n",
    "test = sms.het_breuschpagan (reg_multi_no_influence.resid, reg_multi_no_influence.model.exog) \n",
    "lzip (names, test) "
   ]
  },
  {
   "cell_type": "code",
   "execution_count": 104,
   "metadata": {},
   "outputs": [
    {
     "name": "stderr",
     "output_type": "stream",
     "text": [
      "/Users/stephaneea/opt/anaconda3/lib/python3.7/site-packages/ipykernel_launcher.py:2: SettingWithCopyWarning:\n",
      "\n",
      "\n",
      "A value is trying to be set on a copy of a slice from a DataFrame.\n",
      "Try using .loc[row_indexer,col_indexer] = value instead\n",
      "\n",
      "See the caveats in the documentation: https://pandas.pydata.org/pandas-docs/stable/user_guide/indexing.html#returning-a-view-versus-a-copy\n",
      "\n"
     ]
    }
   ],
   "source": [
    "#Création colonne residus \n",
    "reg_atyp_influence['residu_s'] = reg_multi_no_influence.resid"
   ]
  },
  {
   "cell_type": "code",
   "execution_count": 105,
   "metadata": {},
   "outputs": [
    {
     "data": {
      "image/png": "[encoded data removed]",
      "text/plain": [
       "<Figure size 432x288 with 1 Axes>"
      ]
     },
     "metadata": {},
     "output_type": "display_data"
    }
   ],
   "source": [
    "#voir histogramme des residus \n",
    "plt.hist(reg_atyp_influence['residu_s'], density=True)\n",
    "#sns.distplot(df_regression1_final['residu_s'], norm_hist=True, color='red')\n",
    "plt.xlabel('Résidus')\n",
    "plt.title('Histogramme des résidus')\n",
    "plt.show()"
   ]
  },
  {
   "cell_type": "code",
   "execution_count": 106,
   "metadata": {},
   "outputs": [
    {
     "name": "stderr",
     "output_type": "stream",
     "text": [
      "/Users/stephaneea/opt/anaconda3/lib/python3.7/site-packages/seaborn/distributions.py:2551: FutureWarning:\n",
      "\n",
      "`distplot` is a deprecated function and will be removed in a future version. Please adapt your code to use either `displot` (a figure-level function with similar flexibility) or `histplot` (an axes-level function for histograms).\n",
      "\n"
     ]
    },
    {
     "data": {
      "text/plain": [
       "<AxesSubplot:title={'center':'Histogramme des résidus'}, xlabel='residu_s'>"
      ]
     },
     "execution_count": 106,
     "metadata": {},
     "output_type": "execute_result"
    },
    {
     "data": {
      "image/png": "[encoded data removed]",
      "text/plain": [
       "<Figure size 576x432 with 1 Axes>"
      ]
     },
     "metadata": {},
     "output_type": "display_data"
    }
   ],
   "source": [
    "from scipy.stats import norm\n",
    "#voir histogramme des residus \n",
    "\n",
    "plt.figure(figsize=(8,6))\n",
    "plt.title('Histogramme des résidus', size=18)\n",
    "sns.distplot(reg_atyp_influence['residu_s'], fit=norm, kde=False)"
   ]
  },
  {
   "cell_type": "code",
   "execution_count": 107,
   "metadata": {},
   "outputs": [
    {
     "name": "stdout",
     "output_type": "stream",
     "text": [
      "stat=2607.299, p=0.000\n",
      "la distribution des résidus n'est probablemement pas gaussien\n"
     ]
    }
   ],
   "source": [
    "# Vérifier si les résidus sont distribués normalement avec D'Agostino's K^2 Normality Test\n",
    "from scipy.stats import normaltest\n",
    "data = reg_atyp_influence['residu_s'].values\n",
    "stat, p = normaltest(data)\n",
    "print('stat=%.3f, p=%.3f' % (stat, p))\n",
    "if p > 0.05:\n",
    "    print('La distribution des residus du modèle est probablemement gaussien')\n",
    "else:\n",
    "    print(\"la distribution des résidus n'est probablemement pas gaussien\")"
   ]
  },
  {
   "cell_type": "code",
   "execution_count": 108,
   "metadata": {},
   "outputs": [
    {
     "name": "stdout",
     "output_type": "stream",
     "text": [
      "stat=977.041\n",
      " la distribution des résidus n'est probablemement pas gaussien15.0% level\n",
      " la distribution des résidus n'est probablemement pas gaussien10.0% level\n",
      " la distribution des résidus n'est probablemement pas gaussien5.0% level\n",
      " la distribution des résidus n'est probablemement pas gaussien2.5% level\n",
      " la distribution des résidus n'est probablemement pas gaussien1.0% level\n"
     ]
    }
   ],
   "source": [
    "# Vérifier si les résidus sont distribués normalement avec Anderson-Darling Normality Test\n",
    "from scipy.stats import anderson\n",
    "data = reg_atyp_influence['residu_s'].values\n",
    "result = anderson(data)\n",
    "print('stat=%.3f' % (result.statistic))\n",
    "for i in range(len(result.critical_values)):\n",
    "    sl, cv = result.significance_level[i], result.critical_values[i]\n",
    "    if result.statistic < cv:\n",
    "        print('la distribution des residus du modèle est probablemement gaussien  %.1f%% level' % (sl))\n",
    "    else:\n",
    "            print(\" la distribution des résidus n'est probablemement pas gaussien%.1f%% level\" % (sl))"
   ]
  },
  {
   "cell_type": "code",
   "execution_count": 109,
   "metadata": {},
   "outputs": [
    {
     "name": "stdout",
     "output_type": "stream",
     "text": [
      "stat=1.000, p=0.000\n",
      "la distribution des résidus n'est probablemement pas gaussien\n"
     ]
    },
    {
     "name": "stderr",
     "output_type": "stream",
     "text": [
      "/Users/stephaneea/opt/anaconda3/lib/python3.7/site-packages/scipy/stats/morestats.py:1676: UserWarning:\n",
      "\n",
      "p-value may not be accurate for N > 5000.\n",
      "\n"
     ]
    }
   ],
   "source": [
    "#Vérifier si les résidus sont distribués normalement avec shapiro\n",
    "from scipy.stats import shapiro\n",
    "import scipy.stats\n",
    "data = reg_atyp_influence['residu_s'].values\n",
    "stat, p = shapiro(data)\n",
    "print('stat=%.3f, p=%.3f' % (stat, p))\n",
    "if p > 0.05:\n",
    "    print(\"la distribution des residus du modèle est probablemement gaussien\")\n",
    "else:\n",
    "    print(\"la distribution des résidus n'est probablemement pas gaussien\")"
   ]
  },
  {
   "cell_type": "code",
   "execution_count": 110,
   "metadata": {},
   "outputs": [
    {
     "name": "stdout",
     "output_type": "stream",
     "text": [
      "p value test Breusch Pagan: 0.0\n"
     ]
    }
   ],
   "source": [
    "#Vérifier si il yd a homoscédasticité ( il y a hétéroscédasticité )\n",
    "_, pval, __, f_pval = statsmodels.stats.diagnostic.het_breuschpagan(reg_multi_no_influence.resid, variables)\n",
    "print('p value test Breusch Pagan:', pval)"
   ]
  },
  {
   "cell_type": "code",
   "execution_count": 111,
   "metadata": {},
   "outputs": [
    {
     "data": {
      "image/png": "[encoded data removed]",
      "text/plain": [
       "<Figure size 576x432 with 1 Axes>"
      ]
     },
     "metadata": {},
     "output_type": "display_data"
    }
   ],
   "source": [
    "import scipy as sp\n",
    "#QQPLOT du modèle sans les observations atypiques et influentes \n",
    "fig, ax = plt.subplots(figsize=(8,6))\n",
    "_, (__, ___, r) = sp.stats.probplot(data, plot=ax, fit=True)"
   ]
  },
  {
   "cell_type": "code",
   "execution_count": 112,
   "metadata": {},
   "outputs": [],
   "source": [
    "#sauvegarder reg_atyp_influence\n",
    "reg_atyp_influence.head()\n",
    "reg_atyp_influence.to_csv(\"reg_atyp_influence.csv\", index = False)"
   ]
  },
  {
   "cell_type": "code",
   "execution_count": 113,
   "metadata": {},
   "outputs": [
    {
     "name": "stdout",
     "output_type": "stream",
     "text": [
      "(5342082, 12)\n"
     ]
    },
    {
     "data": {
      "text/html": [
       "<div>\n",
       "<style scoped>\n",
       "    .dataframe tbody tr th:only-of-type {\n",
       "        vertical-align: middle;\n",
       "    }\n",
       "\n",
       "    .dataframe tbody tr th {\n",
       "        vertical-align: top;\n",
       "    }\n",
       "\n",
       "    .dataframe thead th {\n",
       "        text-align: right;\n",
       "    }\n",
       "</style>\n",
       "<table border=\"1\" class=\"dataframe\">\n",
       "  <thead>\n",
       "    <tr style=\"text-align: right;\">\n",
       "      <th></th>\n",
       "      <th>Country_Name</th>\n",
       "      <th>obs</th>\n",
       "      <th>log_value_income</th>\n",
       "      <th>income</th>\n",
       "      <th>income_moyen</th>\n",
       "      <th>log_value_income_moyen</th>\n",
       "      <th>values_gini</th>\n",
       "      <th>C_i_parent</th>\n",
       "      <th>levier</th>\n",
       "      <th>rstudent</th>\n",
       "      <th>cook</th>\n",
       "      <th>residu_s</th>\n",
       "    </tr>\n",
       "  </thead>\n",
       "  <tbody>\n",
       "    <tr>\n",
       "      <th>0</th>\n",
       "      <td>Albanie</td>\n",
       "      <td>1</td>\n",
       "      <td>6.591534</td>\n",
       "      <td>728.89795</td>\n",
       "      <td>2994.829902</td>\n",
       "      <td>8.004643</td>\n",
       "      <td>30.0</td>\n",
       "      <td>1</td>\n",
       "      <td>8.464855e-07</td>\n",
       "      <td>-1.493530</td>\n",
       "      <td>4.720498e-07</td>\n",
       "      <td>-1.080789</td>\n",
       "    </tr>\n",
       "    <tr>\n",
       "      <th>1</th>\n",
       "      <td>Albanie</td>\n",
       "      <td>2</td>\n",
       "      <td>6.820739</td>\n",
       "      <td>916.66235</td>\n",
       "      <td>2994.829902</td>\n",
       "      <td>8.004643</td>\n",
       "      <td>30.0</td>\n",
       "      <td>1</td>\n",
       "      <td>8.464855e-07</td>\n",
       "      <td>-1.170380</td>\n",
       "      <td>2.898770e-07</td>\n",
       "      <td>-0.851584</td>\n",
       "    </tr>\n",
       "    <tr>\n",
       "      <th>2</th>\n",
       "      <td>Albanie</td>\n",
       "      <td>3</td>\n",
       "      <td>6.918612</td>\n",
       "      <td>1010.91600</td>\n",
       "      <td>2994.829902</td>\n",
       "      <td>8.004643</td>\n",
       "      <td>30.0</td>\n",
       "      <td>1</td>\n",
       "      <td>8.464855e-07</td>\n",
       "      <td>-1.032392</td>\n",
       "      <td>2.255532e-07</td>\n",
       "      <td>-0.753711</td>\n",
       "    </tr>\n",
       "    <tr>\n",
       "      <th>3</th>\n",
       "      <td>Albanie</td>\n",
       "      <td>4</td>\n",
       "      <td>6.991092</td>\n",
       "      <td>1086.90780</td>\n",
       "      <td>2994.829902</td>\n",
       "      <td>8.004643</td>\n",
       "      <td>30.0</td>\n",
       "      <td>1</td>\n",
       "      <td>8.464855e-07</td>\n",
       "      <td>-0.930204</td>\n",
       "      <td>1.831120e-07</td>\n",
       "      <td>-0.681231</td>\n",
       "    </tr>\n",
       "    <tr>\n",
       "      <th>4</th>\n",
       "      <td>Albanie</td>\n",
       "      <td>5</td>\n",
       "      <td>7.032359</td>\n",
       "      <td>1132.69970</td>\n",
       "      <td>2994.829902</td>\n",
       "      <td>8.004643</td>\n",
       "      <td>30.0</td>\n",
       "      <td>1</td>\n",
       "      <td>8.464855e-07</td>\n",
       "      <td>-0.872023</td>\n",
       "      <td>1.609222e-07</td>\n",
       "      <td>-0.639964</td>\n",
       "    </tr>\n",
       "  </tbody>\n",
       "</table>\n",
       "</div>"
      ],
      "text/plain": [
       "  Country_Name  obs  log_value_income      income  income_moyen  \\\n",
       "0      Albanie    1          6.591534   728.89795   2994.829902   \n",
       "1      Albanie    2          6.820739   916.66235   2994.829902   \n",
       "2      Albanie    3          6.918612  1010.91600   2994.829902   \n",
       "3      Albanie    4          6.991092  1086.90780   2994.829902   \n",
       "4      Albanie    5          7.032359  1132.69970   2994.829902   \n",
       "\n",
       "   log_value_income_moyen  values_gini  C_i_parent        levier  rstudent  \\\n",
       "0                8.004643         30.0           1  8.464855e-07 -1.493530   \n",
       "1                8.004643         30.0           1  8.464855e-07 -1.170380   \n",
       "2                8.004643         30.0           1  8.464855e-07 -1.032392   \n",
       "3                8.004643         30.0           1  8.464855e-07 -0.930204   \n",
       "4                8.004643         30.0           1  8.464855e-07 -0.872023   \n",
       "\n",
       "           cook  residu_s  \n",
       "0  4.720498e-07 -1.080789  \n",
       "1  2.898770e-07 -0.851584  \n",
       "2  2.255532e-07 -0.753711  \n",
       "3  1.831120e-07 -0.681231  \n",
       "4  1.609222e-07 -0.639964  "
      ]
     },
     "execution_count": 113,
     "metadata": {},
     "output_type": "execute_result"
    }
   ],
   "source": [
    "reg_atyp_influence1=reg_atyp_influence.reset_index()\n",
    "print(reg_atyp_influence1.shape)\n",
    "reg_atyp_influence1.head()"
   ]
  },
  {
   "cell_type": "code",
   "execution_count": 114,
   "metadata": {},
   "outputs": [
    {
     "data": {
      "text/plain": [
       "Country_Name        C_i_parent\n",
       "Albanie             1              2449\n",
       "                    2              2340\n",
       "                    4              2271\n",
       "                    3              2260\n",
       "                    5              2142\n",
       "                    6              2043\n",
       "                    7              2003\n",
       "                    8              1929\n",
       "                    9              1884\n",
       "                    10             1812\n",
       "                    11             1756\n",
       "                    13             1623\n",
       "                    12             1594\n",
       "                    14             1515\n",
       "                    15             1429\n",
       "                    16             1326\n",
       "                    17             1322\n",
       "                    18             1239\n",
       "                    19             1202\n",
       "                    21             1052\n",
       "                    20             1046\n",
       "                    22              961\n",
       "                    23              872\n",
       "                    24              823\n",
       "                    25              742\n",
       "                    26              702\n",
       "                    27              664\n",
       "                    28              659\n",
       "                    29              562\n",
       "                    31              503\n",
       "                    30              485\n",
       "                    33              463\n",
       "                    32              436\n",
       "                    35              382\n",
       "                    36              357\n",
       "                    34              340\n",
       "                    37              331\n",
       "                    39              326\n",
       "                    38              313\n",
       "                    40              298\n",
       "                    41              270\n",
       "                    45              221\n",
       "                    42              206\n",
       "                    43              205\n",
       "                    44              194\n",
       "                    46              193\n",
       "                    48              153\n",
       "                    47              146\n",
       "                    50              127\n",
       "                    49              124\n",
       "                    52              115\n",
       "                    51              107\n",
       "                    53              104\n",
       "                    57              100\n",
       "                    56               85\n",
       "                    54               81\n",
       "                    61               72\n",
       "                    55               68\n",
       "                    58               67\n",
       "                    60               66\n",
       "                    59               59\n",
       "                    68               49\n",
       "                    62               37\n",
       "                    63               33\n",
       "                    65               32\n",
       "                    64               31\n",
       "                    66               30\n",
       "                    67               26\n",
       "                    69               17\n",
       "                    70               12\n",
       "                    71                9\n",
       "Allemagne           100           14280\n",
       "                    99             2238\n",
       "                    98             2189\n",
       "                    97             2074\n",
       "                    96             2010\n",
       "                    95             1819\n",
       "                    94             1773\n",
       "                    93             1610\n",
       "                    92             1575\n",
       "                    91             1463\n",
       "                    90             1331\n",
       "                    89             1192\n",
       "                    88             1109\n",
       "                    87             1098\n",
       "                    86             1020\n",
       "                    85              965\n",
       "                    84              921\n",
       "                    83              771\n",
       "                    82              722\n",
       "                    81              630\n",
       "                    80              563\n",
       "                    79              555\n",
       "                    78              473\n",
       "                    77              466\n",
       "                    75              417\n",
       "                    76              408\n",
       "                    74              402\n",
       "                    73              365\n",
       "                    72              330\n",
       "                    71              294\n",
       "                    70              269\n",
       "                    69              257\n",
       "                    68              220\n",
       "                    65              198\n",
       "                    67              193\n",
       "                    62              152\n",
       "                    63              150\n",
       "                    64              145\n",
       "                    66              143\n",
       "                    57              131\n",
       "                    61              126\n",
       "                    60              120\n",
       "                    59              114\n",
       "                    58              112\n",
       "                    55              103\n",
       "                    56               95\n",
       "                    54               83\n",
       "                    48               58\n",
       "                    52               58\n",
       "                    53               57\n",
       "                    47               51\n",
       "                    50               51\n",
       "                    51               51\n",
       "                    49               48\n",
       "                    46               42\n",
       "                    44               38\n",
       "                    45               36\n",
       "                    41               29\n",
       "                    40               27\n",
       "                    38               22\n",
       "                    42               19\n",
       "                    43               16\n",
       "                    35               14\n",
       "                    39               14\n",
       "                    24               12\n",
       "                    37               12\n",
       "                    26               10\n",
       "                    30               10\n",
       "                    34               10\n",
       "                    23                8\n",
       "                    28                8\n",
       "                    25                6\n",
       "                    27                6\n",
       "                    29                6\n",
       "                    32                6\n",
       "                    36                6\n",
       "                    33                4\n",
       "                    31                2\n",
       "Argentine           30             1172\n",
       "                    28             1165\n",
       "                    32             1149\n",
       "                    34             1126\n",
       "                    25             1107\n",
       "                    27             1103\n",
       "                    29             1099\n",
       "                    31             1095\n",
       "                    35             1093\n",
       "                    24             1080\n",
       "                    33             1074\n",
       "                    26             1071\n",
       "                    37             1039\n",
       "                    36             1038\n",
       "                    38             1035\n",
       "                    23             1027\n",
       "                    39             1023\n",
       "                    22              981\n",
       "                    20              926\n",
       "                    21              921\n",
       "                    43              906\n",
       "                    42              893\n",
       "                    41              874\n",
       "                    40              866\n",
       "                    44              792\n",
       "                    45              791\n",
       "                    19              777\n",
       "                    48              734\n",
       "                    18              729\n",
       "                    47              728\n",
       "                    17              723\n",
       "                    16              716\n",
       "                    46              697\n",
       "                    49              695\n",
       "                    50              672\n",
       "                    51              639\n",
       "                    15              600\n",
       "                    52              582\n",
       "                    14              567\n",
       "                    53              562\n",
       "                    13              520\n",
       "                    54              511\n",
       "                    55              506\n",
       "                    11              502\n",
       "                    56              482\n",
       "                    57              474\n",
       "                    12              473\n",
       "                    59              446\n",
       "                    58              422\n",
       "                    9               395\n",
       "                    10              386\n",
       "                    60              383\n",
       "                    61              364\n",
       "                    62              346\n",
       "                    8               334\n",
       "                    63              314\n",
       "                    64              309\n",
       "                    7               265\n",
       "                    66              250\n",
       "                    6               240\n",
       "                    65              238\n",
       "                    70              212\n",
       "                    67              207\n",
       "                    68              199\n",
       "                    69              171\n",
       "                    71              169\n",
       "                    73              158\n",
       "                    74              139\n",
       "                    72              138\n",
       "                    5               136\n",
       "                    75              131\n",
       "                    77              131\n",
       "                    79              124\n",
       "                    76              123\n",
       "                    4               119\n",
       "                    3               102\n",
       "                    80               96\n",
       "                    78               95\n",
       "                    81               88\n",
       "                    82               56\n",
       "                    83               53\n",
       "                    2                51\n",
       "                    84               31\n",
       "                    85               15\n",
       "                    86               15\n",
       "Arménie             55             1097\n",
       "                    56             1086\n",
       "                    57             1086\n",
       "                    58             1077\n",
       "                    53             1062\n",
       "                    52             1038\n",
       "                    54             1021\n",
       "                    46             1019\n",
       "                    44             1015\n",
       "                    51             1014\n",
       "                    49             1004\n",
       "                    47              995\n",
       "                    59              995\n",
       "                    60              992\n",
       "                    50              990\n",
       "                    45              977\n",
       "                    61              956\n",
       "                    42              946\n",
       "                    48              945\n",
       "                    62              945\n",
       "                    41              929\n",
       "                    43              922\n",
       "                    64              910\n",
       "                    67              897\n",
       "                    65              894\n",
       "                    40              889\n",
       "                    63              877\n",
       "                    66              874\n",
       "                    68              815\n",
       "                    69              799\n",
       "                    38              781\n",
       "                    70              774\n",
       "                    36              750\n",
       "                    39              745\n",
       "                    37              723\n",
       "                    71              711\n",
       "                    72              705\n",
       "                    35              668\n",
       "                    74              659\n",
       "                    73              648\n",
       "                    33              629\n",
       "                    34              624\n",
       "                    75              589\n",
       "                    32              583\n",
       "                    76              547\n",
       "                    77              547\n",
       "                    31              541\n",
       "                    29              517\n",
       "                    30              455\n",
       "                    78              412\n",
       "                    28              397\n",
       "                    27              381\n",
       "                    82              366\n",
       "                    81              363\n",
       "                    79              362\n",
       "                    80              338\n",
       "                    25              332\n",
       "                    26              329\n",
       "                    83              327\n",
       "                    24              292\n",
       "                    84              276\n",
       "                    21              271\n",
       "                    87              266\n",
       "                    18              259\n",
       "                    86              245\n",
       "                    85              241\n",
       "                    22              240\n",
       "                    23              237\n",
       "                    20              236\n",
       "                    19              227\n",
       "                    89              208\n",
       "                    16              205\n",
       "                    15              201\n",
       "                    17              194\n",
       "                    88              194\n",
       "                    14              181\n",
       "                    13              146\n",
       "                    90              145\n",
       "                    91              128\n",
       "                    12              113\n",
       "                    92               87\n",
       "                    10               84\n",
       "                    93               65\n",
       "                    7                60\n",
       "                    8                60\n",
       "                    6                57\n",
       "                    11               56\n",
       "                    9                48\n",
       "                    5                33\n",
       "                    94                2\n",
       "Autriche            78             1331\n",
       "                    79             1324\n",
       "                    80             1296\n",
       "                    77             1257\n",
       "                    81             1252\n",
       "                    76             1240\n",
       "                    75             1239\n",
       "                    72             1216\n",
       "                    74             1215\n",
       "                    73             1195\n",
       "                    83             1168\n",
       "                    82             1157\n",
       "                    84             1155\n",
       "                    71             1146\n",
       "                    69             1095\n",
       "                    85             1081\n",
       "                    70             1077\n",
       "                    66             1058\n",
       "                    86             1031\n",
       "                    68             1029\n",
       "                    67             1010\n",
       "                    87             1003\n",
       "                    65              985\n",
       "                    63              964\n",
       "                    88              953\n",
       "                    64              942\n",
       "                    89              891\n",
       "                    61              887\n",
       "                    62              833\n",
       "                    60              794\n",
       "                    90              769\n",
       "                    59              736\n",
       "                    91              699\n",
       "                    58              665\n",
       "                    92              659\n",
       "                    55              634\n",
       "                    93              604\n",
       "                    56              596\n",
       "                    54              585\n",
       "                    52              555\n",
       "                    53              543\n",
       "                    57              541\n",
       "                    94              539\n",
       "                    51              519\n",
       "                    50              496\n",
       "                    95              490\n",
       "                    49              467\n",
       "                    48              464\n",
       "                    47              395\n",
       "                    46              365\n",
       "                    96              359\n",
       "                    45              347\n",
       "                    44              287\n",
       "                    43              272\n",
       "                    97              263\n",
       "                    42              216\n",
       "                    40              212\n",
       "                    41              194\n",
       "                    39              190\n",
       "                    38              179\n",
       "                    37              175\n",
       "                    36              156\n",
       "                    34              155\n",
       "                    33              142\n",
       "                    32              141\n",
       "                    31              140\n",
       "                    35              135\n",
       "                    98              129\n",
       "                    30              120\n",
       "                    28              119\n",
       "                    27              113\n",
       "                    29               99\n",
       "                    26               93\n",
       "                    23               79\n",
       "                    25               75\n",
       "                    22               73\n",
       "                    24               70\n",
       "                    18               39\n",
       "                    19               39\n",
       "                    21               37\n",
       "                    14               36\n",
       "                    13               33\n",
       "                    16               30\n",
       "                    20               30\n",
       "                    11               27\n",
       "                    12               27\n",
       "                    15               27\n",
       "                    17               21\n",
       "Azerbaïdjan         100           14251\n",
       "                    99             2346\n",
       "                    98             2242\n",
       "                    97             2106\n",
       "                    96             1966\n",
       "                    95             1855\n",
       "                    94             1814\n",
       "                    93             1653\n",
       "                    92             1596\n",
       "                    91             1555\n",
       "                    90             1424\n",
       "                    89             1249\n",
       "                    88             1184\n",
       "                    87             1093\n",
       "                    86             1030\n",
       "                    85              980\n",
       "                    84              903\n",
       "                    83              809\n",
       "                    82              758\n",
       "                    81              669\n",
       "                    80              611\n",
       "                    79              533\n",
       "                    78              474\n",
       "                    77              445\n",
       "                    76              404\n",
       "                    75              401\n",
       "                    74              377\n",
       "                    73              372\n",
       "                    71              344\n",
       "                    72              336\n",
       "                    69              298\n",
       "                    70              285\n",
       "                    68              247\n",
       "                    67              208\n",
       "                    65              192\n",
       "                    66              143\n",
       "                    63              137\n",
       "                    64              136\n",
       "                    62              133\n",
       "                    61              111\n",
       "                    60              108\n",
       "                    59              102\n",
       "                    57               99\n",
       "                    55               91\n",
       "                    58               86\n",
       "                    56               76\n",
       "                    54               68\n",
       "                    53               59\n",
       "                    50               58\n",
       "                    52               55\n",
       "                    47               53\n",
       "                    44               51\n",
       "                    48               49\n",
       "                    49               48\n",
       "                    51               48\n",
       "                    46               44\n",
       "                    45               39\n",
       "                    41               38\n",
       "                    40               29\n",
       "                    42               29\n",
       "                    43               22\n",
       "                    35               21\n",
       "                    38               21\n",
       "                    24               18\n",
       "                    34               18\n",
       "                    39               18\n",
       "                    23               15\n",
       "                    26               15\n",
       "                    30               15\n",
       "                    28               12\n",
       "                    37               12\n",
       "                    25                9\n",
       "                    27                9\n",
       "                    29                9\n",
       "                    32                9\n",
       "                    36                9\n",
       "                    33                6\n",
       "                    31                3\n",
       "Bangladesh          53             1085\n",
       "                    55             1063\n",
       "                    57             1063\n",
       "                    46             1057\n",
       "                    58             1054\n",
       "                    59             1028\n",
       "                    60             1020\n",
       "                    47             1018\n",
       "                    50             1015\n",
       "                    51             1014\n",
       "                    56             1014\n",
       "                    52             1011\n",
       "                    54             1010\n",
       "                    44             1002\n",
       "                    49              988\n",
       "                    45              985\n",
       "                    48              973\n",
       "                    42              968\n",
       "                    41              951\n",
       "                    43              949\n",
       "                    61              942\n",
       "                    64              928\n",
       "                    62              920\n",
       "                    65              868\n",
       "                    63              853\n",
       "                    66              835\n",
       "                    40              825\n",
       "                    39              809\n",
       "                    38              799\n",
       "                    67              790\n",
       "                    37              770\n",
       "                    69              752\n",
       "                    70              746\n",
       "                    68              725\n",
       "                    36              706\n",
       "                    71              681\n",
       "                    35              659\n",
       "                    72              656\n",
       "                    73              651\n",
       "                    34              635\n",
       "                    74              604\n",
       "                    33              592\n",
       "                    75              566\n",
       "                    32              558\n",
       "                    76              526\n",
       "                    29              523\n",
       "                    31              521\n",
       "                    77              474\n",
       "                    30              453\n",
       "                    28              408\n",
       "                    27              375\n",
       "                    80              369\n",
       "                    78              368\n",
       "                    79              358\n",
       "                    26              357\n",
       "                    82              357\n",
       "                    25              351\n",
       "                    81              348\n",
       "                    83              315\n",
       "                    24              314\n",
       "                    21              287\n",
       "                    22              259\n",
       "                    23              259\n",
       "                    84              259\n",
       "                    20              257\n",
       "                    19              248\n",
       "                    18              242\n",
       "                    17              233\n",
       "                    86              230\n",
       "                    85              228\n",
       "                    87              225\n",
       "                    16              197\n",
       "                    89              191\n",
       "                    15              183\n",
       "                    88              183\n",
       "                    14              168\n",
       "                    90              160\n",
       "                    91              130\n",
       "                    12              120\n",
       "                    13              112\n",
       "                    92              109\n",
       "                    93              101\n",
       "                    10               81\n",
       "                    11               62\n",
       "                    95               57\n",
       "                    94               49\n",
       "                    96               48\n",
       "                    8                46\n",
       "                    9                42\n",
       "                    97               42\n",
       "                    7                40\n",
       "                    6                38\n",
       "                    5                22\n",
       "Belgique            2              2313\n",
       "                    3              2248\n",
       "                    5              2184\n",
       "                    4              2156\n",
       "                    6              2073\n",
       "                    1              2044\n",
       "                    7              2040\n",
       "                    9              1903\n",
       "                    8              1885\n",
       "                    10             1802\n",
       "                    11             1760\n",
       "                    12             1694\n",
       "                    13             1647\n",
       "                    14             1506\n",
       "                    15             1456\n",
       "                    16             1381\n",
       "                    17             1306\n",
       "                    18             1219\n",
       "                    19             1176\n",
       "                    20             1049\n",
       "                    21              993\n",
       "                    22              949\n",
       "                    23              871\n",
       "                    24              800\n",
       "                    25              713\n",
       "                    26              675\n",
       "                    27              660\n",
       "                    28              655\n",
       "                    29              552\n",
       "                    30              501\n",
       "                    31              481\n",
       "                    32              466\n",
       "                    33              418\n",
       "                    35              404\n",
       "                    34              380\n",
       "                    36              368\n",
       "                    37              331\n",
       "                    38              286\n",
       "                    40              283\n",
       "                    39              276\n",
       "                    41              222\n",
       "                    45              201\n",
       "                    42              198\n",
       "                    43              194\n",
       "                    44              184\n",
       "                    46              168\n",
       "                    47              162\n",
       "                    48              129\n",
       "                    49              120\n",
       "                    50               98\n",
       "                    51               98\n",
       "                    52               98\n",
       "                    53               88\n",
       "                    56               86\n",
       "                    54               85\n",
       "                    57               76\n",
       "                    61               73\n",
       "                    55               68\n",
       "                    58               68\n",
       "                    59               65\n",
       "                    62               61\n",
       "                    60               59\n",
       "                    65               47\n",
       "                    63               43\n",
       "                    66               43\n",
       "                    68               42\n",
       "                    64               40\n",
       "                    67               35\n",
       "                    79               27\n",
       "                    78               24\n",
       "                    71               21\n",
       "                    70               20\n",
       "                    76               18\n",
       "                    69               16\n",
       "                    72               15\n",
       "                    73               12\n",
       "                    74               12\n",
       "                    75               12\n",
       "                    77                9\n",
       "                    80                6\n",
       "Bhoutan             79             1344\n",
       "                    77             1323\n",
       "                    78             1296\n",
       "                    76             1293\n",
       "                    80             1234\n",
       "                    81             1225\n",
       "                    75             1211\n",
       "                    72             1200\n",
       "                    74             1200\n",
       "                    71             1176\n",
       "                    70             1175\n",
       "                    83             1173\n",
       "                    73             1164\n",
       "                    82             1160\n",
       "                    85             1146\n",
       "                    84             1118\n",
       "                    68             1115\n",
       "                    66             1094\n",
       "                    69             1088\n",
       "                    67             1072\n",
       "                    86             1064\n",
       "                    65             1011\n",
       "                    87              982\n",
       "                    64              972\n",
       "                    88              966\n",
       "                    63              963\n",
       "                    89              907\n",
       "                    61              862\n",
       "                    62              840\n",
       "                    60              775\n",
       "                    90              728\n",
       "                    91              716\n",
       "                    59              701\n",
       "                    58              693\n",
       "                    92              682\n",
       "                    93              646\n",
       "                    55              639\n",
       "                    56              633\n",
       "                    57              625\n",
       "                    54              606\n",
       "                    53              546\n",
       "                    52              535\n",
       "                    94              532\n",
       "                    51              511\n",
       "                    50              505\n",
       "                    49              478\n",
       "                    48              448\n",
       "                    95              446\n",
       "                    47              403\n",
       "                    46              334\n",
       "                    45              331\n",
       "                    97              292\n",
       "                    96              289\n",
       "                    44              273\n",
       "                    43              265\n",
       "                    40              214\n",
       "                    41              212\n",
       "                    42              212\n",
       "                    39              208\n",
       "                    36              203\n",
       "                    35              190\n",
       "                    38              190\n",
       "                    34              186\n",
       "                    37              182\n",
       "                    33              167\n",
       "                    31              154\n",
       "                    98              150\n",
       "                    27              145\n",
       "                    32              141\n",
       "                    30              140\n",
       "                    26              129\n",
       "                    28              112\n",
       "                    29              100\n",
       "                    99               92\n",
       "                    22               88\n",
       "                    25               86\n",
       "                    23               75\n",
       "                    24               70\n",
       "                    19               52\n",
       "                    21               48\n",
       "                    20               32\n",
       "                    18               24\n",
       "                    14               12\n",
       "                    13               11\n",
       "                    11               10\n",
       "                    16               10\n",
       "                    12                9\n",
       "                    15                9\n",
       "                    17                7\n",
       "                    100               4\n",
       "Bolivie             31             1018\n",
       "                    29             1013\n",
       "                    30             1006\n",
       "                    32             1004\n",
       "                    28              984\n",
       "                    34              950\n",
       "                    37              950\n",
       "                    35              936\n",
       "                    36              932\n",
       "                    26              927\n",
       "                    33              916\n",
       "                    38              909\n",
       "                    24              906\n",
       "                    27              906\n",
       "                    25              905\n",
       "                    39              902\n",
       "                    22              837\n",
       "                    21              796\n",
       "                    43              795\n",
       "                    40              788\n",
       "                    23              777\n",
       "                    42              755\n",
       "                    41              752\n",
       "                    20              735\n",
       "                    46              685\n",
       "                    19              677\n",
       "                    45              676\n",
       "                    44              674\n",
       "                    47              610\n",
       "                    18              608\n",
       "                    48              607\n",
       "                    49              590\n",
       "                    17              585\n",
       "                    51              567\n",
       "                    50              563\n",
       "                    16              502\n",
       "                    52              495\n",
       "                    53              492\n",
       "                    54              479\n",
       "                    55              447\n",
       "                    15              434\n",
       "                    56              434\n",
       "                    57              434\n",
       "                    14              424\n",
       "                    11              395\n",
       "                    13              393\n",
       "                    59              380\n",
       "                    58              376\n",
       "                    10              370\n",
       "                    9               362\n",
       "                    12              359\n",
       "                    60              325\n",
       "                    61              311\n",
       "                    62              282\n",
       "                    64              272\n",
       "                    63              262\n",
       "                    8               245\n",
       "                    66              221\n",
       "                    6               220\n",
       "                    65              201\n",
       "                    67              198\n",
       "                    68              184\n",
       "                    7               181\n",
       "                    69              144\n",
       "                    70              137\n",
       "                    77              137\n",
       "                    73              124\n",
       "                    75              123\n",
       "                    76              121\n",
       "                    71              119\n",
       "                    79              108\n",
       "                    74              104\n",
       "                    5                98\n",
       "                    4                93\n",
       "                    72               91\n",
       "                    81               84\n",
       "                    78               79\n",
       "                    80               76\n",
       "                    3                52\n",
       "                    83               41\n",
       "                    82               40\n",
       "                    84               32\n",
       "                    85               30\n",
       "                    86               24\n",
       "                    88               20\n",
       "                    90               20\n",
       "                    89               18\n",
       "                    87               14\n",
       "                    91               14\n",
       "                    2                 8\n",
       "Bosnie-Herzégovine  100           14387\n",
       "                    98             2240\n",
       "                    99             2236\n",
       "                    97             2032\n",
       "                    96             1957\n",
       "                    95             1848\n",
       "                    94             1747\n",
       "                    93             1617\n",
       "                    92             1576\n",
       "                    91             1518\n",
       "                    90             1393\n",
       "                    89             1211\n",
       "                    88             1168\n",
       "                    87             1054\n",
       "                    86             1011\n",
       "                    85              979\n",
       "                    84              887\n",
       "                    82              770\n",
       "                    83              755\n",
       "                    80              681\n",
       "                    81              674\n",
       "                    79              591\n",
       "                    78              529\n",
       "                    77              453\n",
       "                    76              407\n",
       "                    75              403\n",
       "                    73              375\n",
       "                    74              375\n",
       "                    71              318\n",
       "                    72              315\n",
       "                    69              285\n",
       "                    70              263\n",
       "                    68              233\n",
       "                    67              214\n",
       "                    65              200\n",
       "                    64              152\n",
       "                    66              149\n",
       "                    62              148\n",
       "                    63              134\n",
       "                    59              114\n",
       "                    61              112\n",
       "                    60              111\n",
       "                    58              108\n",
       "                    57              106\n",
       "                    55               81\n",
       "                    56               76\n",
       "                    54               75\n",
       "                    47               69\n",
       "                    50               62\n",
       "                    51               59\n",
       "                    52               58\n",
       "                    53               58\n",
       "                    48               56\n",
       "                    44               50\n",
       "                    49               49\n",
       "                    46               39\n",
       "                    41               38\n",
       "                    45               37\n",
       "                    40               32\n",
       "                    42               26\n",
       "                    38               24\n",
       "                    43               20\n",
       "                    35               19\n",
       "                    34               16\n",
       "                    39               15\n",
       "                    37               14\n",
       "                    24               12\n",
       "                    23               10\n",
       "                    26               10\n",
       "                    30               10\n",
       "                    28                8\n",
       "                    36                8\n",
       "                    25                6\n",
       "                    27                6\n",
       "                    29                6\n",
       "                    32                6\n",
       "                    33                4\n",
       "                    31                2\n",
       "Brésil              55              929\n",
       "                    52              898\n",
       "                    51              861\n",
       "                    56              854\n",
       "                    50              853\n",
       "                    59              851\n",
       "                    49              849\n",
       "                    53              846\n",
       "                    54              840\n",
       "                    58              836\n",
       "                    57              830\n",
       "                    60              829\n",
       "                    46              816\n",
       "                    47              767\n",
       "                    48              760\n",
       "                    44              755\n",
       "                    42              752\n",
       "                    61              749\n",
       "                    43              733\n",
       "                    64              730\n",
       "                    45              717\n",
       "                    65              695\n",
       "                    62              685\n",
       "                    63              680\n",
       "                    66              665\n",
       "                    38              660\n",
       "                    41              656\n",
       "                    39              643\n",
       "                    67              643\n",
       "                    37              629\n",
       "                    40              627\n",
       "                    36              568\n",
       "                    72              567\n",
       "                    70              566\n",
       "                    69              554\n",
       "                    35              550\n",
       "                    68              548\n",
       "                    71              543\n",
       "                    73              538\n",
       "                    34              496\n",
       "                    75              483\n",
       "                    74              461\n",
       "                    33              437\n",
       "                    76              412\n",
       "                    32              384\n",
       "                    31              383\n",
       "                    29              381\n",
       "                    77              346\n",
       "                    30              345\n",
       "                    78              313\n",
       "                    79              312\n",
       "                    80              278\n",
       "                    27              271\n",
       "                    28              265\n",
       "                    26              262\n",
       "                    82              254\n",
       "                    81              250\n",
       "                    18              218\n",
       "                    20              218\n",
       "                    83              218\n",
       "                    24              214\n",
       "                    25              214\n",
       "                    23              204\n",
       "                    21              201\n",
       "                    19              200\n",
       "                    84              199\n",
       "                    22              195\n",
       "                    87              194\n",
       "                    15              178\n",
       "                    88              177\n",
       "                    17              174\n",
       "                    85              168\n",
       "                    89              160\n",
       "                    16              158\n",
       "                    86              149\n",
       "                    14              137\n",
       "                    90              122\n",
       "                    13              117\n",
       "                    12               85\n",
       "Name: C_i_parent, dtype: int64"
      ]
     },
     "execution_count": 114,
     "metadata": {},
     "output_type": "execute_result"
    }
   ],
   "source": [
    "# voir si il manque des classes parents \n",
    "# il y a des classes manquantes !!!!!\n",
    "test = reg_atyp_influence1.groupby('Country_Name')['C_i_parent'].value_counts()\n",
    "\n",
    "pd.set_option('display.max_rows', None)\n",
    "test.head(1000)\n"
   ]
  },
  {
   "cell_type": "code",
   "execution_count": 121,
   "metadata": {},
   "outputs": [
    {
     "name": "stderr",
     "output_type": "stream",
     "text": [
      "/Users/stephaneea/opt/anaconda3/lib/python3.7/site-packages/ipykernel_launcher.py:2: SettingWithCopyWarning:\n",
      "\n",
      "\n",
      "A value is trying to be set on a copy of a slice from a DataFrame.\n",
      "Try using .loc[row_indexer,col_indexer] = value instead\n",
      "\n",
      "See the caveats in the documentation: https://pandas.pydata.org/pandas-docs/stable/user_guide/indexing.html#returning-a-view-versus-a-copy\n",
      "\n"
     ]
    },
    {
     "data": {
      "image/png": "[encoded data removed]",
      "text/plain": [
       "<Figure size 432x288 with 1 Axes>"
      ]
     },
     "metadata": {},
     "output_type": "display_data"
    }
   ],
   "source": [
    "# Plot Predicted values VS Real values\n",
    "reg_atyp_influence['Predicted_log_value_income'] = reg_multi_no_influence.predict()\n",
    "X_plot = [reg_atyp_influence['log_value_income'].min(), reg_atyp_influence['log_value_income'].max()]\n",
    "ax = sns.scatterplot(x=\"log_value_income\", y=\"Predicted_log_value_income\", data=reg_atyp_influence)\n",
    "ax.set(xlabel='income log', ylabel='Predicted_income_log', title=' Plot Predicted values VS Real values')\n",
    "#plt.title()\n",
    "plt.plot(X_plot, X_plot, color='b')\n",
    "plt.show()"
   ]
  },
  {
   "cell_type": "code",
   "execution_count": null,
   "metadata": {},
   "outputs": [],
   "source": []
  },
  {
   "cell_type": "code",
   "execution_count": null,
   "metadata": {},
   "outputs": [],
   "source": []
  },
  {
   "cell_type": "code",
   "execution_count": null,
   "metadata": {},
   "outputs": [],
   "source": []
  }
 ],
 "metadata": {
  "kernelspec": {
   "display_name": "Python 3",
   "language": "python",
   "name": "python3"
  },
  "language_info": {
   "codemirror_mode": {
    "name": "ipython",
    "version": 3
   },
   "file_extension": ".py",
   "mimetype": "text/x-python",
   "name": "python",
   "nbconvert_exporter": "python",
   "pygments_lexer": "ipython3",
   "version": "3.7.6"
  }
 },
 "nbformat": 4,
 "nbformat_minor": 4
}
